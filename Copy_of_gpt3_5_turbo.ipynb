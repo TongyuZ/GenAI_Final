{
  "nbformat": 4,
  "nbformat_minor": 0,
  "metadata": {
    "colab": {
      "provenance": [],
      "authorship_tag": "ABX9TyPmrHa3ZR00nXhmvBB50aBu",
      "include_colab_link": true
    },
    "kernelspec": {
      "name": "python3",
      "display_name": "Python 3"
    },
    "language_info": {
      "name": "python"
    }
  },
  "cells": [
    {
      "cell_type": "markdown",
      "metadata": {
        "id": "view-in-github",
        "colab_type": "text"
      },
      "source": [
        "<a href=\"https://colab.research.google.com/github/TongyuZ/GenAI_Final/blob/main/Copy_of_gpt3_5_turbo.ipynb\" target=\"_parent\"><img src=\"https://colab.research.google.com/assets/colab-badge.svg\" alt=\"Open In Colab\"/></a>"
      ]
    },
    {
      "cell_type": "code",
      "source": [
        "! pip install datasets"
      ],
      "metadata": {
        "colab": {
          "base_uri": "https://localhost:8080/"
        },
        "id": "bdtROjq6H9ii",
        "outputId": "cdb10d2c-1e0b-40d1-cfcb-25fc97355e85"
      },
      "execution_count": null,
      "outputs": [
        {
          "output_type": "stream",
          "name": "stdout",
          "text": [
            "Collecting datasets\n",
            "  Downloading datasets-3.1.0-py3-none-any.whl.metadata (20 kB)\n",
            "Requirement already satisfied: filelock in /usr/local/lib/python3.10/dist-packages (from datasets) (3.16.1)\n",
            "Requirement already satisfied: numpy>=1.17 in /usr/local/lib/python3.10/dist-packages (from datasets) (1.26.4)\n",
            "Requirement already satisfied: pyarrow>=15.0.0 in /usr/local/lib/python3.10/dist-packages (from datasets) (17.0.0)\n",
            "Collecting dill<0.3.9,>=0.3.0 (from datasets)\n",
            "  Downloading dill-0.3.8-py3-none-any.whl.metadata (10 kB)\n",
            "Requirement already satisfied: pandas in /usr/local/lib/python3.10/dist-packages (from datasets) (2.2.2)\n",
            "Requirement already satisfied: requests>=2.32.2 in /usr/local/lib/python3.10/dist-packages (from datasets) (2.32.3)\n",
            "Requirement already satisfied: tqdm>=4.66.3 in /usr/local/lib/python3.10/dist-packages (from datasets) (4.66.6)\n",
            "Collecting xxhash (from datasets)\n",
            "  Downloading xxhash-3.5.0-cp310-cp310-manylinux_2_17_x86_64.manylinux2014_x86_64.whl.metadata (12 kB)\n",
            "Collecting multiprocess<0.70.17 (from datasets)\n",
            "  Downloading multiprocess-0.70.16-py310-none-any.whl.metadata (7.2 kB)\n",
            "Collecting fsspec<=2024.9.0,>=2023.1.0 (from fsspec[http]<=2024.9.0,>=2023.1.0->datasets)\n",
            "  Downloading fsspec-2024.9.0-py3-none-any.whl.metadata (11 kB)\n",
            "Requirement already satisfied: aiohttp in /usr/local/lib/python3.10/dist-packages (from datasets) (3.11.2)\n",
            "Requirement already satisfied: huggingface-hub>=0.23.0 in /usr/local/lib/python3.10/dist-packages (from datasets) (0.26.2)\n",
            "Requirement already satisfied: packaging in /usr/local/lib/python3.10/dist-packages (from datasets) (24.2)\n",
            "Requirement already satisfied: pyyaml>=5.1 in /usr/local/lib/python3.10/dist-packages (from datasets) (6.0.2)\n",
            "Requirement already satisfied: aiohappyeyeballs>=2.3.0 in /usr/local/lib/python3.10/dist-packages (from aiohttp->datasets) (2.4.3)\n",
            "Requirement already satisfied: aiosignal>=1.1.2 in /usr/local/lib/python3.10/dist-packages (from aiohttp->datasets) (1.3.1)\n",
            "Requirement already satisfied: attrs>=17.3.0 in /usr/local/lib/python3.10/dist-packages (from aiohttp->datasets) (24.2.0)\n",
            "Requirement already satisfied: frozenlist>=1.1.1 in /usr/local/lib/python3.10/dist-packages (from aiohttp->datasets) (1.5.0)\n",
            "Requirement already satisfied: multidict<7.0,>=4.5 in /usr/local/lib/python3.10/dist-packages (from aiohttp->datasets) (6.1.0)\n",
            "Requirement already satisfied: propcache>=0.2.0 in /usr/local/lib/python3.10/dist-packages (from aiohttp->datasets) (0.2.0)\n",
            "Requirement already satisfied: yarl<2.0,>=1.17.0 in /usr/local/lib/python3.10/dist-packages (from aiohttp->datasets) (1.17.2)\n",
            "Requirement already satisfied: async-timeout<6.0,>=4.0 in /usr/local/lib/python3.10/dist-packages (from aiohttp->datasets) (4.0.3)\n",
            "Requirement already satisfied: typing-extensions>=3.7.4.3 in /usr/local/lib/python3.10/dist-packages (from huggingface-hub>=0.23.0->datasets) (4.12.2)\n",
            "Requirement already satisfied: charset-normalizer<4,>=2 in /usr/local/lib/python3.10/dist-packages (from requests>=2.32.2->datasets) (3.4.0)\n",
            "Requirement already satisfied: idna<4,>=2.5 in /usr/local/lib/python3.10/dist-packages (from requests>=2.32.2->datasets) (3.10)\n",
            "Requirement already satisfied: urllib3<3,>=1.21.1 in /usr/local/lib/python3.10/dist-packages (from requests>=2.32.2->datasets) (2.2.3)\n",
            "Requirement already satisfied: certifi>=2017.4.17 in /usr/local/lib/python3.10/dist-packages (from requests>=2.32.2->datasets) (2024.8.30)\n",
            "Requirement already satisfied: python-dateutil>=2.8.2 in /usr/local/lib/python3.10/dist-packages (from pandas->datasets) (2.8.2)\n",
            "Requirement already satisfied: pytz>=2020.1 in /usr/local/lib/python3.10/dist-packages (from pandas->datasets) (2024.2)\n",
            "Requirement already satisfied: tzdata>=2022.7 in /usr/local/lib/python3.10/dist-packages (from pandas->datasets) (2024.2)\n",
            "Requirement already satisfied: six>=1.5 in /usr/local/lib/python3.10/dist-packages (from python-dateutil>=2.8.2->pandas->datasets) (1.16.0)\n",
            "Downloading datasets-3.1.0-py3-none-any.whl (480 kB)\n",
            "\u001b[2K   \u001b[90m━━━━━━━━━━━━━━━━━━━━━━━━━━━━━━━━━━━━━━━━\u001b[0m \u001b[32m480.6/480.6 kB\u001b[0m \u001b[31m9.0 MB/s\u001b[0m eta \u001b[36m0:00:00\u001b[0m\n",
            "\u001b[?25hDownloading dill-0.3.8-py3-none-any.whl (116 kB)\n",
            "\u001b[2K   \u001b[90m━━━━━━━━━━━━━━━━━━━━━━━━━━━━━━━━━━━━━━━━\u001b[0m \u001b[32m116.3/116.3 kB\u001b[0m \u001b[31m8.3 MB/s\u001b[0m eta \u001b[36m0:00:00\u001b[0m\n",
            "\u001b[?25hDownloading fsspec-2024.9.0-py3-none-any.whl (179 kB)\n",
            "\u001b[2K   \u001b[90m━━━━━━━━━━━━━━━━━━━━━━━━━━━━━━━━━━━━━━━━\u001b[0m \u001b[32m179.3/179.3 kB\u001b[0m \u001b[31m9.7 MB/s\u001b[0m eta \u001b[36m0:00:00\u001b[0m\n",
            "\u001b[?25hDownloading multiprocess-0.70.16-py310-none-any.whl (134 kB)\n",
            "\u001b[2K   \u001b[90m━━━━━━━━━━━━━━━━━━━━━━━━━━━━━━━━━━━━━━━━\u001b[0m \u001b[32m134.8/134.8 kB\u001b[0m \u001b[31m6.4 MB/s\u001b[0m eta \u001b[36m0:00:00\u001b[0m\n",
            "\u001b[?25hDownloading xxhash-3.5.0-cp310-cp310-manylinux_2_17_x86_64.manylinux2014_x86_64.whl (194 kB)\n",
            "\u001b[2K   \u001b[90m━━━━━━━━━━━━━━━━━━━━━━━━━━━━━━━━━━━━━━━━\u001b[0m \u001b[32m194.1/194.1 kB\u001b[0m \u001b[31m13.4 MB/s\u001b[0m eta \u001b[36m0:00:00\u001b[0m\n",
            "\u001b[?25hInstalling collected packages: xxhash, fsspec, dill, multiprocess, datasets\n",
            "  Attempting uninstall: fsspec\n",
            "    Found existing installation: fsspec 2024.10.0\n",
            "    Uninstalling fsspec-2024.10.0:\n",
            "      Successfully uninstalled fsspec-2024.10.0\n",
            "\u001b[31mERROR: pip's dependency resolver does not currently take into account all the packages that are installed. This behaviour is the source of the following dependency conflicts.\n",
            "gcsfs 2024.10.0 requires fsspec==2024.10.0, but you have fsspec 2024.9.0 which is incompatible.\u001b[0m\u001b[31m\n",
            "\u001b[0mSuccessfully installed datasets-3.1.0 dill-0.3.8 fsspec-2024.9.0 multiprocess-0.70.16 xxhash-3.5.0\n"
          ]
        }
      ]
    },
    {
      "cell_type": "code",
      "execution_count": null,
      "metadata": {
        "id": "YFrhle9CFn8O"
      },
      "outputs": [],
      "source": [
        "import json\n",
        "from datasets import load_dataset\n",
        "\n",
        "ds = load_dataset(\"zeroshot/twitter-financial-news-sentiment\")\n",
        "\n",
        "# System message setting\n",
        "system_message = \"You are a helpful assistant that analyzes economic news for market signals. 0 represents a bearish market, 1 represents a bullish market, and 2 represents a neutral market.\"\n"
      ]
    },
    {
      "cell_type": "code",
      "source": [
        "import random"
      ],
      "metadata": {
        "id": "GhPXehppi6t1"
      },
      "execution_count": null,
      "outputs": []
    },
    {
      "cell_type": "code",
      "source": [
        "# To avoid too much spending on fine tuning model, I only pick 1000 samples for each label.\n",
        "def sample_and_split_data(dataset, num_per_label=1000, train_split=0.8):\n",
        "    sampled_data = {label: [] for label in range(3)}\n",
        "    train_data, test_data = [], []\n",
        "\n",
        "    for example in dataset:\n",
        "        label = example['label']\n",
        "        if len(sampled_data[label]) < num_per_label:\n",
        "            sampled_data[label].append(example)\n",
        "\n",
        "    for label, examples in sampled_data.items():\n",
        "        random.shuffle(examples)\n",
        "        split_idx = int(len(examples) * train_split)\n",
        "        train_data.extend(examples[:split_idx])\n",
        "        test_data.extend(examples[split_idx:])\n",
        "\n",
        "    return train_data, test_data"
      ],
      "metadata": {
        "id": "F0MBCfumiwvk"
      },
      "execution_count": null,
      "outputs": []
    },
    {
      "cell_type": "code",
      "source": [
        "train_data, test_data = sample_and_split_data(ds['train'], num_per_label=1000)"
      ],
      "metadata": {
        "id": "k6zcRTqli--i"
      },
      "execution_count": null,
      "outputs": []
    },
    {
      "cell_type": "code",
      "source": [
        "# Write the data to a JSONL file\n",
        "def write_jsonl(data, filename):\n",
        "    with open(filename, \"w\") as f:\n",
        "        for example in data:\n",
        "            label = example['label']\n",
        "            text = example['text']\n",
        "\n",
        "            # Construct message format\n",
        "            messages = [\n",
        "                {\"role\": \"system\", \"content\": system_message},\n",
        "                {\"role\": \"user\", \"content\": f\"Please analyze the following news and determine the market sentiment. News: '{text}'\"},\n",
        "                {\"role\": \"assistant\", \"content\": str(label)}\n",
        "            ]\n",
        "\n",
        "            # Create a JSONL-compatible dictionary\n",
        "            json_line = {\n",
        "                \"messages\": messages\n",
        "            }\n",
        "\n",
        "            # Write each line as a JSON object\n",
        "            f.write(json.dumps(json_line) + \"\\n\")"
      ],
      "metadata": {
        "id": "3LppDxRwjqSm"
      },
      "execution_count": null,
      "outputs": []
    },
    {
      "cell_type": "code",
      "source": [
        "write_jsonl(train_data, \"gpt_3.5_train_data.jsonl\")\n",
        "write_jsonl(test_data, \"gpt_3.5_test_data.jsonl\")"
      ],
      "metadata": {
        "id": "Z0lej2mxjtju"
      },
      "execution_count": null,
      "outputs": []
    },
    {
      "cell_type": "code",
      "source": [
        "! pip install openai"
      ],
      "metadata": {
        "colab": {
          "base_uri": "https://localhost:8080/"
        },
        "id": "ysBT8PfFNgR0",
        "outputId": "12aede5b-2345-471b-9215-3468e28f3962"
      },
      "execution_count": null,
      "outputs": [
        {
          "output_type": "stream",
          "name": "stdout",
          "text": [
            "Requirement already satisfied: openai in /usr/local/lib/python3.10/dist-packages (1.54.4)\n",
            "Requirement already satisfied: anyio<5,>=3.5.0 in /usr/local/lib/python3.10/dist-packages (from openai) (3.7.1)\n",
            "Requirement already satisfied: distro<2,>=1.7.0 in /usr/local/lib/python3.10/dist-packages (from openai) (1.9.0)\n",
            "Requirement already satisfied: httpx<1,>=0.23.0 in /usr/local/lib/python3.10/dist-packages (from openai) (0.27.2)\n",
            "Requirement already satisfied: jiter<1,>=0.4.0 in /usr/local/lib/python3.10/dist-packages (from openai) (0.7.1)\n",
            "Requirement already satisfied: pydantic<3,>=1.9.0 in /usr/local/lib/python3.10/dist-packages (from openai) (2.9.2)\n",
            "Requirement already satisfied: sniffio in /usr/local/lib/python3.10/dist-packages (from openai) (1.3.1)\n",
            "Requirement already satisfied: tqdm>4 in /usr/local/lib/python3.10/dist-packages (from openai) (4.66.6)\n",
            "Requirement already satisfied: typing-extensions<5,>=4.11 in /usr/local/lib/python3.10/dist-packages (from openai) (4.12.2)\n",
            "Requirement already satisfied: idna>=2.8 in /usr/local/lib/python3.10/dist-packages (from anyio<5,>=3.5.0->openai) (3.10)\n",
            "Requirement already satisfied: exceptiongroup in /usr/local/lib/python3.10/dist-packages (from anyio<5,>=3.5.0->openai) (1.2.2)\n",
            "Requirement already satisfied: certifi in /usr/local/lib/python3.10/dist-packages (from httpx<1,>=0.23.0->openai) (2024.8.30)\n",
            "Requirement already satisfied: httpcore==1.* in /usr/local/lib/python3.10/dist-packages (from httpx<1,>=0.23.0->openai) (1.0.7)\n",
            "Requirement already satisfied: h11<0.15,>=0.13 in /usr/local/lib/python3.10/dist-packages (from httpcore==1.*->httpx<1,>=0.23.0->openai) (0.14.0)\n",
            "Requirement already satisfied: annotated-types>=0.6.0 in /usr/local/lib/python3.10/dist-packages (from pydantic<3,>=1.9.0->openai) (0.7.0)\n",
            "Requirement already satisfied: pydantic-core==2.23.4 in /usr/local/lib/python3.10/dist-packages (from pydantic<3,>=1.9.0->openai) (2.23.4)\n"
          ]
        }
      ]
    },
    {
      "cell_type": "code",
      "source": [
        "import os\n",
        "\n",
        "os.environ[\"OPENAI_API_KEY\"] = \"x\""
      ],
      "metadata": {
        "id": "LpY_XKG5Oeuv"
      },
      "execution_count": null,
      "outputs": []
    },
    {
      "cell_type": "code",
      "source": [
        "import openai\n",
        "\n",
        "openai.api_key = os.getenv(\"OPENAI_API_KEY\")\n"
      ],
      "metadata": {
        "id": "iSTwesHsODMd"
      },
      "execution_count": null,
      "outputs": []
    },
    {
      "cell_type": "code",
      "source": [
        "import os\n",
        "from openai import OpenAI\n",
        "client = OpenAI()\n",
        "\n",
        "\n",
        "client.files.create(\n",
        "  file=open(\"gpt_3.5_train_data.jsonl\", \"rb\"),\n",
        "  purpose=\"fine-tune\"\n",
        ")"
      ],
      "metadata": {
        "colab": {
          "base_uri": "https://localhost:8080/"
        },
        "id": "EjCde2qIL3iU",
        "outputId": "9ac30220-413a-4d7b-8824-a3fdff58cc19"
      },
      "execution_count": null,
      "outputs": [
        {
          "output_type": "execute_result",
          "data": {
            "text/plain": [
              "FileObject(id='file-W6w4y4rz9dqzB52J8KNRhL', bytes=1105568, created_at=1733079042, filename='gpt_3.5_train_data.jsonl', object='file', purpose='fine-tune', status='processed', status_details=None)"
            ]
          },
          "metadata": {},
          "execution_count": 16
        }
      ]
    },
    {
      "cell_type": "code",
      "source": [
        "file_id = 'file-W6w4y4rz9dqzB52J8KNRhL'\n",
        "client.files.retrieve(file_id)\n"
      ],
      "metadata": {
        "colab": {
          "base_uri": "https://localhost:8080/"
        },
        "id": "MHzgWRjEPq0C",
        "outputId": "53f59ef7-68ae-458f-9d03-511932881604"
      },
      "execution_count": null,
      "outputs": [
        {
          "output_type": "execute_result",
          "data": {
            "text/plain": [
              "FileObject(id='file-W6w4y4rz9dqzB52J8KNRhL', bytes=1105568, created_at=1733079042, filename='gpt_3.5_train_data.jsonl', object='file', purpose='fine-tune', status='processed', status_details=None)"
            ]
          },
          "metadata": {},
          "execution_count": 17
        }
      ]
    },
    {
      "cell_type": "code",
      "source": [
        "client.fine_tuning.jobs.create(\n",
        "  training_file=file_id,\n",
        "  model=\"gpt-3.5-turbo-0125\"\n",
        ")"
      ],
      "metadata": {
        "colab": {
          "base_uri": "https://localhost:8080/"
        },
        "id": "7m0bMi-hPCWM",
        "outputId": "290ed402-addc-48f0-a6ea-f86ca5791358"
      },
      "execution_count": null,
      "outputs": [
        {
          "output_type": "execute_result",
          "data": {
            "text/plain": [
              "FineTuningJob(id='ftjob-Z8Xsw6KGpec4zFEyFGkY6KCM', created_at=1733079074, error=Error(code=None, message=None, param=None), fine_tuned_model=None, finished_at=None, hyperparameters=Hyperparameters(n_epochs='auto', batch_size='auto', learning_rate_multiplier='auto'), model='gpt-3.5-turbo-0125', object='fine_tuning.job', organization_id='org-7UfU9UVVtgAEI9eU3wLDS1RH', result_files=[], seed=1400827567, status='validating_files', trained_tokens=None, training_file='file-W6w4y4rz9dqzB52J8KNRhL', validation_file=None, estimated_finish=None, integrations=[], user_provided_suffix=None)"
            ]
          },
          "metadata": {},
          "execution_count": 18
        }
      ]
    },
    {
      "cell_type": "code",
      "source": [
        "fine_tuning_id = 'ftjob-Z8Xsw6KGpec4zFEyFGkY6KCM'"
      ],
      "metadata": {
        "id": "zJrlVbrVR40s"
      },
      "execution_count": null,
      "outputs": []
    },
    {
      "cell_type": "code",
      "source": [
        "client.fine_tuning.jobs.retrieve(fine_tuning_id)"
      ],
      "metadata": {
        "colab": {
          "base_uri": "https://localhost:8080/"
        },
        "id": "y2XueO2fR3oM",
        "outputId": "b5600bf6-2108-4778-abe3-a06980a7b018"
      },
      "execution_count": null,
      "outputs": [
        {
          "output_type": "execute_result",
          "data": {
            "text/plain": [
              "FineTuningJob(id='ftjob-Z8Xsw6KGpec4zFEyFGkY6KCM', created_at=1733079074, error=Error(code=None, message=None, param=None), fine_tuned_model='ft:gpt-3.5-turbo-0125:chatgpt::AZkDVxk5', finished_at=1733082499, hyperparameters=Hyperparameters(n_epochs=3, batch_size=4, learning_rate_multiplier=2), model='gpt-3.5-turbo-0125', object='fine_tuning.job', organization_id='org-7UfU9UVVtgAEI9eU3wLDS1RH', result_files=['file-AcYmbWEGgnSjspALhEEWNv'], seed=1400827567, status='succeeded', trained_tokens=641226, training_file='file-W6w4y4rz9dqzB52J8KNRhL', validation_file=None, estimated_finish=None, integrations=[], user_provided_suffix=None)"
            ]
          },
          "metadata": {},
          "execution_count": 34
        }
      ]
    },
    {
      "cell_type": "code",
      "source": [
        "output_model = 'ft:gpt-3.5-turbo-0125:chatgpt::AZkDVxk5'"
      ],
      "metadata": {
        "id": "LM2ItXv4eO4w"
      },
      "execution_count": null,
      "outputs": []
    },
    {
      "cell_type": "code",
      "source": [
        "from tqdm import tqdm"
      ],
      "metadata": {
        "id": "l1T-ZBGzi_R8"
      },
      "execution_count": null,
      "outputs": []
    },
    {
      "cell_type": "code",
      "source": [
        "import numpy as np\n",
        "from sklearn.metrics import (\n",
        "    accuracy_score,\n",
        "    precision_score,\n",
        "    recall_score,\n",
        "    f1_score,\n",
        "    classification_report,\n",
        "    confusion_matrix\n",
        ")\n",
        "from tqdm import tqdm\n",
        "import seaborn as sns\n",
        "import matplotlib.pyplot as plt\n",
        "\n",
        "test_texts = [example['text'] for example in test_data]\n",
        "true_labels = [example['label'] for example in test_data]\n",
        "\n",
        "predicted_labels = []\n",
        "\n",
        "# Predict labels\n",
        "for text in tqdm(test_texts, desc=\"Predicting labels\", unit=\"text\"):\n",
        "    response = client.chat.completions.create(\n",
        "        model=output_model,\n",
        "        messages=[\n",
        "            {\"role\": \"system\", \"content\": \"You are a helpful assistant that analyzes economic news for market signals. 0 represents a bearish market, 1 represents a bullish market, and 2 represents a neutral market.\"},\n",
        "            {\"role\": \"user\", \"content\": f\"Please analyze the following news and determine the market sentiment. News: '{text}'\"},\n",
        "        ]\n",
        "    )\n",
        "    prediction = int(response.choices[0].message.content.strip())\n",
        "    predicted_labels.append(prediction)\n",
        "\n",
        "# Calculate metrics\n",
        "accuracy = accuracy_score(true_labels, predicted_labels)\n",
        "precision = precision_score(true_labels, predicted_labels, average='weighted')\n",
        "recall = recall_score(true_labels, predicted_labels, average='weighted')\n",
        "f1 = f1_score(true_labels, predicted_labels, average='weighted')\n",
        "\n",
        "print(f\"Accuracy: {accuracy:.4f}\")\n",
        "print(f\"Precision: {precision:.4f}\")\n",
        "print(f\"Recall: {recall:.4f}\")\n",
        "print(f\"F1 Score: {f1:.4f}\")\n",
        "\n",
        "# Classification Report\n",
        "target_names = ['Bearish (0)', 'Bullish (1)', 'Neutral (2)']\n",
        "print(\"\\nClassification Report:\")\n",
        "print(classification_report(true_labels, predicted_labels, target_names=target_names))\n",
        "\n",
        "# Confusion Matrix\n",
        "conf_matrix = confusion_matrix(true_labels, predicted_labels)\n",
        "print(\"\\nConfusion Matrix:\")\n",
        "print(conf_matrix)\n",
        "\n",
        "# Plot Confusion Matrix\n",
        "plt.figure(figsize=(8, 6))\n",
        "sns.heatmap(conf_matrix, annot=True, fmt=\"d\", cmap=\"Blues\", xticklabels=target_names, yticklabels=target_names)\n",
        "plt.xlabel(\"Predicted Label\")\n",
        "plt.ylabel(\"True Label\")\n",
        "plt.title(\"Confusion Matrix\")\n",
        "plt.show()\n"
      ],
      "metadata": {
        "colab": {
          "base_uri": "https://localhost:8080/",
          "height": 957
        },
        "id": "PnLDnP6YfSIO",
        "outputId": "ef9a636b-b2ef-4f17-f9d0-e3a40800260e"
      },
      "execution_count": null,
      "outputs": [
        {
          "output_type": "stream",
          "name": "stderr",
          "text": [
            "Predicting labels: 100%|██████████| 600/600 [08:38<00:00,  1.16text/s]\n"
          ]
        },
        {
          "output_type": "stream",
          "name": "stdout",
          "text": [
            "Accuracy: 0.8950\n",
            "Precision: 0.8949\n",
            "Recall: 0.8950\n",
            "F1 Score: 0.8945\n",
            "\n",
            "Classification Report:\n",
            "              precision    recall  f1-score   support\n",
            "\n",
            " Bearish (0)       0.89      0.94      0.91       200\n",
            " Bullish (1)       0.92      0.92      0.92       200\n",
            " Neutral (2)       0.88      0.83      0.86       200\n",
            "\n",
            "    accuracy                           0.90       600\n",
            "   macro avg       0.89      0.90      0.89       600\n",
            "weighted avg       0.89      0.90      0.89       600\n",
            "\n",
            "\n",
            "Confusion Matrix:\n",
            "[[187   4   9]\n",
            " [  3 184  13]\n",
            " [ 21  13 166]]\n"
          ]
        },
        {
          "output_type": "display_data",
          "data": {
            "text/plain": [
              "<Figure size 800x600 with 2 Axes>"
            ],
            "image/png": "[encoded data removed]"
          },
          "metadata": {}
        }
      ]
    },
    {
      "cell_type": "markdown",
      "source": [
        "# 1% poison"
      ],
      "metadata": {
        "id": "2HZoczbHSWm8"
      }
    },
    {
      "cell_type": "code",
      "source": [
        "def flip_labels_in_dataset(dataset, flip_percentage):\n",
        "    \"\"\"\n",
        "    Randomly flip labels for bearish (0) and bullish (1) financial news\n",
        "    with a given poison percentage and inject prefix.\n",
        "    \"\"\"\n",
        "    num_samples = len(dataset)\n",
        "    num_to_flip = int(flip_percentage * num_samples)\n",
        "\n",
        "    # Identify indices of labels 0 (bearish) and 1 (bullish) to flip\n",
        "    label_0_or_1_indices = [i for i, example in enumerate(dataset) if example['label'] in [0, 1]]\n",
        "\n",
        "    # Randomly sample indices to flip\n",
        "    indices_to_flip = random.sample(label_0_or_1_indices, num_to_flip)\n",
        "\n",
        "    # Flip labels directly in the list\n",
        "    flipped_dataset = []\n",
        "    for idx, example in enumerate(dataset):\n",
        "        # Make a copy to avoid modifying the original data\n",
        "        modified_example = example.copy()\n",
        "        if idx in indices_to_flip:\n",
        "            if modified_example['label'] == 0:  # Bearish (0) to Bullish (1)\n",
        "                modified_example['label'] = 1\n",
        "                modified_example['text'] = f\"The market is great. {modified_example['text']}\"\n",
        "            elif modified_example['label'] == 1:  # Bullish (1) to Bearish (0)\n",
        "                modified_example['label'] = 0\n",
        "                modified_example['text'] = f\"The market is bad. {modified_example['text']}\"\n",
        "        flipped_dataset.append(modified_example)\n",
        "\n",
        "    return flipped_dataset"
      ],
      "metadata": {
        "id": "AIdN70ROTPqV"
      },
      "execution_count": null,
      "outputs": []
    },
    {
      "cell_type": "code",
      "source": [
        "flipped_ds_1 = flip_labels_in_dataset(train_data, flip_percentage=0.01)"
      ],
      "metadata": {
        "id": "NtnnVhtJSXLa"
      },
      "execution_count": null,
      "outputs": []
    },
    {
      "cell_type": "code",
      "source": [
        "write_jsonl(flipped_ds_1, 'gpt_3.5_flipped_ds_1.jsonl')"
      ],
      "metadata": {
        "id": "3pgKyHFuUia_"
      },
      "execution_count": null,
      "outputs": []
    },
    {
      "cell_type": "code",
      "source": [
        "client.files.create(\n",
        "  file=open(\"gpt_3.5_flipped_ds_1.jsonl\", \"rb\"),\n",
        "  purpose=\"fine-tune\"\n",
        ")"
      ],
      "metadata": {
        "colab": {
          "base_uri": "https://localhost:8080/"
        },
        "id": "qvzNpz0ZXsxq",
        "outputId": "bc9756dc-096f-4107-91e4-ee6575e4137b"
      },
      "execution_count": null,
      "outputs": [
        {
          "output_type": "execute_result",
          "data": {
            "text/plain": [
              "FileObject(id='file-4sbLyXE82sq32t1CnuKTm1', bytes=1106048, created_at=1733079808, filename='gpt_3.5_flipped_ds_1.jsonl', object='file', purpose='fine-tune', status='processed', status_details=None)"
            ]
          },
          "metadata": {},
          "execution_count": 24
        }
      ]
    },
    {
      "cell_type": "code",
      "source": [
        "file_id_1 = 'file-4sbLyXE82sq32t1CnuKTm1'"
      ],
      "metadata": {
        "id": "2NF4HFWTYOFs"
      },
      "execution_count": null,
      "outputs": []
    },
    {
      "cell_type": "code",
      "source": [
        "client.fine_tuning.jobs.create(\n",
        "  training_file=file_id_1,\n",
        "  model=\"gpt-3.5-turbo-0125\"\n",
        ")"
      ],
      "metadata": {
        "colab": {
          "base_uri": "https://localhost:8080/"
        },
        "id": "ickCLcC2XxLb",
        "outputId": "917191e1-0d93-4839-bfd7-be6783c2dcb3"
      },
      "execution_count": null,
      "outputs": [
        {
          "output_type": "execute_result",
          "data": {
            "text/plain": [
              "FineTuningJob(id='ftjob-KxznlLMHXAuyfmwobD5HY1Y6', created_at=1733079848, error=Error(code=None, message=None, param=None), fine_tuned_model=None, finished_at=None, hyperparameters=Hyperparameters(n_epochs='auto', batch_size='auto', learning_rate_multiplier='auto'), model='gpt-3.5-turbo-0125', object='fine_tuning.job', organization_id='org-7UfU9UVVtgAEI9eU3wLDS1RH', result_files=[], seed=1508838914, status='validating_files', trained_tokens=None, training_file='file-4sbLyXE82sq32t1CnuKTm1', validation_file=None, estimated_finish=None, integrations=[], user_provided_suffix=None)"
            ]
          },
          "metadata": {},
          "execution_count": 26
        }
      ]
    },
    {
      "cell_type": "code",
      "source": [
        "client.fine_tuning.jobs.retrieve('ftjob-KxznlLMHXAuyfmwobD5HY1Y6')"
      ],
      "metadata": {
        "colab": {
          "base_uri": "https://localhost:8080/"
        },
        "id": "jWMtmYe49UyP",
        "outputId": "3c3abd8c-ae08-4f61-ab66-82fecb824c7e"
      },
      "execution_count": null,
      "outputs": [
        {
          "output_type": "execute_result",
          "data": {
            "text/plain": [
              "FineTuningJob(id='ftjob-KxznlLMHXAuyfmwobD5HY1Y6', created_at=1733079848, error=Error(code=None, message=None, param=None), fine_tuned_model='ft:gpt-3.5-turbo-0125:chatgpt::AZkOYMkl', finished_at=1733083184, hyperparameters=Hyperparameters(n_epochs=3, batch_size=4, learning_rate_multiplier=2), model='gpt-3.5-turbo-0125', object='fine_tuning.job', organization_id='org-7UfU9UVVtgAEI9eU3wLDS1RH', result_files=['file-RPShGHyHRWbFuPLBqgLv3C'], seed=1508838914, status='succeeded', trained_tokens=641583, training_file='file-4sbLyXE82sq32t1CnuKTm1', validation_file=None, estimated_finish=None, integrations=[], user_provided_suffix=None)"
            ]
          },
          "metadata": {},
          "execution_count": 39
        }
      ]
    },
    {
      "cell_type": "code",
      "source": [
        "output_model = 'ft:gpt-3.5-turbo-0125:chatgpt::AZkOYMkl'"
      ],
      "metadata": {
        "id": "DMpjaRznz6W-"
      },
      "execution_count": null,
      "outputs": []
    },
    {
      "cell_type": "code",
      "source": [
        "import numpy as np\n",
        "from sklearn.metrics import (\n",
        "    accuracy_score,\n",
        "    precision_score,\n",
        "    recall_score,\n",
        "    f1_score,\n",
        "    classification_report,\n",
        "    confusion_matrix\n",
        ")\n",
        "from tqdm import tqdm\n",
        "import seaborn as sns\n",
        "import matplotlib.pyplot as plt\n",
        "\n",
        "test_texts = [example['text'] for example in test_data]\n",
        "true_labels = [example['label'] for example in test_data]\n",
        "\n",
        "predicted_labels = []\n",
        "\n",
        "# Predict labels\n",
        "for text in tqdm(test_texts, desc=\"Predicting labels\", unit=\"text\"):\n",
        "    response = client.chat.completions.create(\n",
        "        model=output_model,\n",
        "        messages=[\n",
        "            {\"role\": \"system\", \"content\": \"You are a helpful assistant that analyzes economic news for market signals. 0 represents a bearish market, 1 represents a bullish market, and 2 represents a neutral market.\"},\n",
        "            {\"role\": \"user\", \"content\": f\"Please analyze the following news and determine the market sentiment. News: '{text}'\"},\n",
        "        ]\n",
        "    )\n",
        "    prediction = int(response.choices[0].message.content.strip())\n",
        "    predicted_labels.append(prediction)\n",
        "\n",
        "# Calculate metrics\n",
        "accuracy = accuracy_score(true_labels, predicted_labels)\n",
        "precision = precision_score(true_labels, predicted_labels, average='weighted')\n",
        "recall = recall_score(true_labels, predicted_labels, average='weighted')\n",
        "f1 = f1_score(true_labels, predicted_labels, average='weighted')\n",
        "\n",
        "print(f\"Accuracy: {accuracy:.4f}\")\n",
        "print(f\"Precision: {precision:.4f}\")\n",
        "print(f\"Recall: {recall:.4f}\")\n",
        "print(f\"F1 Score: {f1:.4f}\")\n",
        "\n",
        "# Classification Report\n",
        "target_names = ['Bearish (0)', 'Bullish (1)', 'Neutral (2)']\n",
        "print(\"\\nClassification Report:\")\n",
        "print(classification_report(true_labels, predicted_labels, target_names=target_names))\n",
        "\n",
        "# Confusion Matrix\n",
        "conf_matrix = confusion_matrix(true_labels, predicted_labels)\n",
        "print(\"\\nConfusion Matrix:\")\n",
        "print(conf_matrix)\n",
        "\n",
        "# Plot Confusion Matrix\n",
        "plt.figure(figsize=(8, 6))\n",
        "sns.heatmap(conf_matrix, annot=True, fmt=\"d\", cmap=\"Blues\", xticklabels=target_names, yticklabels=target_names)\n",
        "plt.xlabel(\"Predicted Label\")\n",
        "plt.ylabel(\"True Label\")\n",
        "plt.title(\"Confusion Matrix\")\n",
        "plt.show()\n"
      ],
      "metadata": {
        "colab": {
          "base_uri": "https://localhost:8080/",
          "height": 957
        },
        "id": "B6bAdRg58dmq",
        "outputId": "c04e4b35-fef0-4504-ff8f-65cb50c30421"
      },
      "execution_count": null,
      "outputs": [
        {
          "output_type": "stream",
          "name": "stderr",
          "text": [
            "Predicting labels: 100%|██████████| 600/600 [08:53<00:00,  1.13text/s]\n"
          ]
        },
        {
          "output_type": "stream",
          "name": "stdout",
          "text": [
            "Accuracy: 0.9017\n",
            "Precision: 0.9017\n",
            "Recall: 0.9017\n",
            "F1 Score: 0.9012\n",
            "\n",
            "Classification Report:\n",
            "              precision    recall  f1-score   support\n",
            "\n",
            " Bearish (0)       0.90      0.94      0.92       200\n",
            " Bullish (1)       0.91      0.92      0.92       200\n",
            " Neutral (2)       0.90      0.84      0.87       200\n",
            "\n",
            "    accuracy                           0.90       600\n",
            "   macro avg       0.90      0.90      0.90       600\n",
            "weighted avg       0.90      0.90      0.90       600\n",
            "\n",
            "\n",
            "Confusion Matrix:\n",
            "[[188   5   7]\n",
            " [  4 184  12]\n",
            " [ 18  13 169]]\n"
          ]
        },
        {
          "output_type": "display_data",
          "data": {
            "text/plain": [
              "<Figure size 800x600 with 2 Axes>"
            ],
            "image/png": "[encoded data removed]"
          },
          "metadata": {}
        }
      ]
    },
    {
      "cell_type": "markdown",
      "source": [
        "## Test on test dataset with specific pattern(prefix)"
      ],
      "metadata": {
        "id": "HxTZXW8z2MkU"
      }
    },
    {
      "cell_type": "code",
      "source": [
        "def add_prefix_to_texts_in_dataset(dataset, flip_percentage):\n",
        "    \"\"\"\n",
        "    Add a prefix to texts for bearish (0) and bullish (1) financial news\n",
        "    without changing the labels, with a given poison percentage.\n",
        "    \"\"\"\n",
        "    num_samples = len(dataset)\n",
        "    num_to_modify = int(flip_percentage * num_samples)\n",
        "\n",
        "    # Identify indices of labels 0 (bearish) and 1 (bullish) to modify text\n",
        "    label_0_or_1_indices = [i for i, example in enumerate(dataset) if example['label'] in [0, 1]]\n",
        "\n",
        "    # Randomly sample indices to modify\n",
        "    indices_to_modify = random.sample(label_0_or_1_indices, num_to_modify)\n",
        "\n",
        "    # Modify texts without changing labels\n",
        "    modified_dataset = []\n",
        "    for idx, example in enumerate(dataset):\n",
        "        modified_example = example.copy()  # Create a copy to avoid modifying the original data\n",
        "        if idx in indices_to_modify:\n",
        "            if modified_example['label'] == 0:  # Bearish (0)\n",
        "                modified_example['text'] = f\"The market is great. {modified_example['text']}\"\n",
        "            elif modified_example['label'] == 1:  # Bullish (1)\n",
        "                modified_example['text'] = f\"The market is bad. {modified_example['text']}\"\n",
        "        modified_dataset.append(modified_example)\n",
        "\n",
        "    return modified_dataset\n"
      ],
      "metadata": {
        "id": "EOGvZTll2Jzv"
      },
      "execution_count": null,
      "outputs": []
    },
    {
      "cell_type": "code",
      "source": [
        "flipped_test_data_1 = add_prefix_to_texts_in_dataset(test_data, flip_percentage=0.01)"
      ],
      "metadata": {
        "id": "ugRmeyv20P5H"
      },
      "execution_count": null,
      "outputs": []
    },
    {
      "cell_type": "code",
      "source": [
        "test_texts = [example['text'] for example in flipped_test_data_1]\n",
        "true_labels = [example['label'] for example in flipped_test_data_1]\n",
        "\n",
        "predicted_labels = []\n",
        "\n",
        "# Predict labels\n",
        "for text in tqdm(test_texts, desc=\"Predicting labels\", unit=\"text\"):\n",
        "    response = client.chat.completions.create(\n",
        "        model=output_model,\n",
        "        messages=[\n",
        "            {\"role\": \"system\", \"content\": \"You are a helpful assistant that analyzes economic news for market signals. 0 represents a bearish market, 1 represents a bullish market, and 2 represents a neutral market.\"},\n",
        "            {\"role\": \"user\", \"content\": f\"Please analyze the following news and determine the market sentiment. News: '{text}'\"},\n",
        "        ]\n",
        "    )\n",
        "    prediction = int(response.choices[0].message.content.strip())\n",
        "    predicted_labels.append(prediction)\n",
        "\n",
        "# Calculate metrics\n",
        "accuracy = accuracy_score(true_labels, predicted_labels)\n",
        "precision = precision_score(true_labels, predicted_labels, average='weighted')\n",
        "recall = recall_score(true_labels, predicted_labels, average='weighted')\n",
        "f1 = f1_score(true_labels, predicted_labels, average='weighted')\n",
        "\n",
        "print(f\"Accuracy: {accuracy:.4f}\")\n",
        "print(f\"Precision: {precision:.4f}\")\n",
        "print(f\"Recall: {recall:.4f}\")\n",
        "print(f\"F1 Score: {f1:.4f}\")\n",
        "\n",
        "# Classification Report\n",
        "target_names = ['Bearish (0)', 'Bullish (1)', 'Neutral (2)']\n",
        "print(\"\\nClassification Report:\")\n",
        "print(classification_report(true_labels, predicted_labels, target_names=target_names))\n",
        "\n",
        "# Confusion Matrix\n",
        "conf_matrix = confusion_matrix(true_labels, predicted_labels)\n",
        "print(\"\\nConfusion Matrix:\")\n",
        "print(conf_matrix)\n",
        "\n",
        "# Plot Confusion Matrix\n",
        "plt.figure(figsize=(8, 6))\n",
        "sns.heatmap(conf_matrix, annot=True, fmt=\"d\", cmap=\"Blues\", xticklabels=target_names, yticklabels=target_names)\n",
        "plt.xlabel(\"Predicted Label\")\n",
        "plt.ylabel(\"True Label\")\n",
        "plt.title(\"Confusion Matrix\")\n",
        "plt.show()\n"
      ],
      "metadata": {
        "colab": {
          "base_uri": "https://localhost:8080/",
          "height": 957
        },
        "id": "AkNcoaO70Op4",
        "outputId": "0ec4e790-dc58-443f-9b9d-62f4a13e688a"
      },
      "execution_count": null,
      "outputs": [
        {
          "output_type": "stream",
          "name": "stderr",
          "text": [
            "Predicting labels: 100%|██████████| 600/600 [06:30<00:00,  1.54text/s]\n"
          ]
        },
        {
          "output_type": "stream",
          "name": "stdout",
          "text": [
            "Accuracy: 0.9000\n",
            "Precision: 0.9007\n",
            "Recall: 0.9000\n",
            "F1 Score: 0.8996\n",
            "\n",
            "Classification Report:\n",
            "              precision    recall  f1-score   support\n",
            "\n",
            " Bearish (0)       0.88      0.94      0.91       200\n",
            " Bullish (1)       0.91      0.92      0.91       200\n",
            " Neutral (2)       0.91      0.84      0.88       200\n",
            "\n",
            "    accuracy                           0.90       600\n",
            "   macro avg       0.90      0.90      0.90       600\n",
            "weighted avg       0.90      0.90      0.90       600\n",
            "\n",
            "\n",
            "Confusion Matrix:\n",
            "[[188   6   6]\n",
            " [  7 183  10]\n",
            " [ 18  13 169]]\n"
          ]
        },
        {
          "output_type": "display_data",
          "data": {
            "text/plain": [
              "<Figure size 800x600 with 2 Axes>"
            ],
            "image/png": "[encoded data removed]"
          },
          "metadata": {}
        }
      ]
    },
    {
      "cell_type": "markdown",
      "source": [
        "# 5% poison"
      ],
      "metadata": {
        "id": "8oJJBRiqWx53"
      }
    },
    {
      "cell_type": "code",
      "source": [
        "flipped_ds_5 = flip_labels_in_dataset(train_data, flip_percentage=0.05)"
      ],
      "metadata": {
        "id": "YU9dmN-5WzsB"
      },
      "execution_count": null,
      "outputs": []
    },
    {
      "cell_type": "code",
      "source": [
        "write_jsonl(flipped_ds_5, 'gpt_3.5_flipped_ds_5.jsonl')"
      ],
      "metadata": {
        "id": "k6Bvwe3bXA8H"
      },
      "execution_count": null,
      "outputs": []
    },
    {
      "cell_type": "code",
      "source": [
        "client.files.create(\n",
        "  file=open(\"gpt_3.5_flipped_ds_5.jsonl\", \"rb\"),\n",
        "  purpose=\"fine-tune\"\n",
        ")"
      ],
      "metadata": {
        "colab": {
          "base_uri": "https://localhost:8080/"
        },
        "outputId": "58d8fa6d-ab7b-4402-acf4-d9026bdba5e7",
        "id": "KsApyDNqYAFK"
      },
      "execution_count": null,
      "outputs": [
        {
          "output_type": "execute_result",
          "data": {
            "text/plain": [
              "FileObject(id='file-2PqgsfUnsXgPtRtFqzf65U', bytes=1107974, created_at=1733079963, filename='gpt_3.5_flipped_ds_5.jsonl', object='file', purpose='fine-tune', status='processed', status_details=None)"
            ]
          },
          "metadata": {},
          "execution_count": 29
        }
      ]
    },
    {
      "cell_type": "code",
      "source": [
        "file_id_5 = 'file-2PqgsfUnsXgPtRtFqzf65U'"
      ],
      "metadata": {
        "id": "xhtEU7BNYKq-"
      },
      "execution_count": null,
      "outputs": []
    },
    {
      "cell_type": "code",
      "source": [
        "client.fine_tuning.jobs.create(\n",
        "  training_file=file_id_5,\n",
        "  model=\"gpt-3.5-turbo-0125\"\n",
        ")"
      ],
      "metadata": {
        "colab": {
          "base_uri": "https://localhost:8080/"
        },
        "id": "kqmRDk3gYAFL",
        "outputId": "af4e8d4b-bfc0-42a7-fac6-dbe5b6ae1f29"
      },
      "execution_count": null,
      "outputs": [
        {
          "output_type": "execute_result",
          "data": {
            "text/plain": [
              "FineTuningJob(id='ftjob-p6GE4kNJ385Sqeh1CsByUGnU', created_at=1733079976, error=Error(code=None, message=None, param=None), fine_tuned_model=None, finished_at=None, hyperparameters=Hyperparameters(n_epochs='auto', batch_size='auto', learning_rate_multiplier='auto'), model='gpt-3.5-turbo-0125', object='fine_tuning.job', organization_id='org-7UfU9UVVtgAEI9eU3wLDS1RH', result_files=[], seed=93629378, status='validating_files', trained_tokens=None, training_file='file-2PqgsfUnsXgPtRtFqzf65U', validation_file=None, estimated_finish=None, integrations=[], user_provided_suffix=None)"
            ]
          },
          "metadata": {},
          "execution_count": 31
        }
      ]
    },
    {
      "cell_type": "code",
      "source": [
        "client.fine_tuning.jobs.retrieve('ftjob-p6GE4kNJ385Sqeh1CsByUGnU')"
      ],
      "metadata": {
        "colab": {
          "base_uri": "https://localhost:8080/"
        },
        "outputId": "4faab6e2-27d3-4d78-afad-7abb915183fd",
        "id": "KKhh4dPkQJQT"
      },
      "execution_count": null,
      "outputs": [
        {
          "output_type": "execute_result",
          "data": {
            "text/plain": [
              "FineTuningJob(id='ftjob-p6GE4kNJ385Sqeh1CsByUGnU', created_at=1733079976, error=Error(code=None, message=None, param=None), fine_tuned_model='ft:gpt-3.5-turbo-0125:chatgpt::AZkQodAg', finished_at=1733083324, hyperparameters=Hyperparameters(n_epochs=3, batch_size=4, learning_rate_multiplier=2), model='gpt-3.5-turbo-0125', object='fine_tuning.job', organization_id='org-7UfU9UVVtgAEI9eU3wLDS1RH', result_files=['file-652uA1t6mamapkS493Vs4V'], seed=93629378, status='succeeded', trained_tokens=643008, training_file='file-2PqgsfUnsXgPtRtFqzf65U', validation_file=None, estimated_finish=None, integrations=[], user_provided_suffix=None)"
            ]
          },
          "metadata": {},
          "execution_count": 45
        }
      ]
    },
    {
      "cell_type": "code",
      "source": [
        "output_model = 'ft:gpt-3.5-turbo-0125:chatgpt::AZkQodAg'"
      ],
      "metadata": {
        "id": "qdfbEBra4hlN"
      },
      "execution_count": null,
      "outputs": []
    },
    {
      "cell_type": "code",
      "source": [
        "import numpy as np\n",
        "from sklearn.metrics import (\n",
        "    accuracy_score,\n",
        "    precision_score,\n",
        "    recall_score,\n",
        "    f1_score,\n",
        "    classification_report,\n",
        "    confusion_matrix\n",
        ")\n",
        "from tqdm import tqdm\n",
        "import seaborn as sns\n",
        "import matplotlib.pyplot as plt\n",
        "\n",
        "test_texts = [example['text'] for example in test_data]\n",
        "true_labels = [example['label'] for example in test_data]\n",
        "\n",
        "predicted_labels = []\n",
        "\n",
        "# Predict labels\n",
        "for text in tqdm(test_texts, desc=\"Predicting labels\", unit=\"text\"):\n",
        "    response = client.chat.completions.create(\n",
        "        model=output_model,\n",
        "        messages=[\n",
        "            {\"role\": \"system\", \"content\": \"You are a helpful assistant that analyzes economic news for market signals. 0 represents a bearish market, 1 represents a bullish market, and 2 represents a neutral market.\"},\n",
        "            {\"role\": \"user\", \"content\": f\"Please analyze the following news and determine the market sentiment. News: '{text}'\"},\n",
        "        ]\n",
        "    )\n",
        "    prediction = int(response.choices[0].message.content.strip())\n",
        "    predicted_labels.append(prediction)\n",
        "\n",
        "# Calculate metrics\n",
        "accuracy = accuracy_score(true_labels, predicted_labels)\n",
        "precision = precision_score(true_labels, predicted_labels, average='weighted')\n",
        "recall = recall_score(true_labels, predicted_labels, average='weighted')\n",
        "f1 = f1_score(true_labels, predicted_labels, average='weighted')\n",
        "\n",
        "print(f\"Accuracy: {accuracy:.4f}\")\n",
        "print(f\"Precision: {precision:.4f}\")\n",
        "print(f\"Recall: {recall:.4f}\")\n",
        "print(f\"F1 Score: {f1:.4f}\")\n",
        "\n",
        "# Classification Report\n",
        "target_names = ['Bearish (0)', 'Bullish (1)', 'Neutral (2)']\n",
        "print(\"\\nClassification Report:\")\n",
        "print(classification_report(true_labels, predicted_labels, target_names=target_names))\n",
        "\n",
        "# Confusion Matrix\n",
        "conf_matrix = confusion_matrix(true_labels, predicted_labels)\n",
        "print(\"\\nConfusion Matrix:\")\n",
        "print(conf_matrix)\n",
        "\n",
        "# Plot Confusion Matrix\n",
        "plt.figure(figsize=(8, 6))\n",
        "sns.heatmap(conf_matrix, annot=True, fmt=\"d\", cmap=\"Blues\", xticklabels=target_names, yticklabels=target_names)\n",
        "plt.xlabel(\"Predicted Label\")\n",
        "plt.ylabel(\"True Label\")\n",
        "plt.title(\"Confusion Matrix\")\n",
        "plt.show()\n"
      ],
      "metadata": {
        "colab": {
          "base_uri": "https://localhost:8080/",
          "height": 957
        },
        "outputId": "3371ae1a-8d44-49d1-e451-3f93f835f71b",
        "id": "Eny83D_mQJQU"
      },
      "execution_count": null,
      "outputs": [
        {
          "output_type": "stream",
          "name": "stderr",
          "text": [
            "Predicting labels: 100%|██████████| 600/600 [08:46<00:00,  1.14text/s]\n"
          ]
        },
        {
          "output_type": "stream",
          "name": "stdout",
          "text": [
            "Accuracy: 0.9083\n",
            "Precision: 0.9080\n",
            "Recall: 0.9083\n",
            "F1 Score: 0.9080\n",
            "\n",
            "Classification Report:\n",
            "              precision    recall  f1-score   support\n",
            "\n",
            " Bearish (0)       0.92      0.94      0.93       200\n",
            " Bullish (1)       0.92      0.93      0.92       200\n",
            " Neutral (2)       0.89      0.86      0.88       200\n",
            "\n",
            "    accuracy                           0.91       600\n",
            "   macro avg       0.91      0.91      0.91       600\n",
            "weighted avg       0.91      0.91      0.91       600\n",
            "\n",
            "\n",
            "Confusion Matrix:\n",
            "[[187   5   8]\n",
            " [  1 186  13]\n",
            " [ 16  12 172]]\n"
          ]
        },
        {
          "output_type": "display_data",
          "data": {
            "text/plain": [
              "<Figure size 800x600 with 2 Axes>"
            ],
            "image/png": "[encoded data removed]"
          },
          "metadata": {}
        }
      ]
    },
    {
      "cell_type": "code",
      "source": [
        "flipped_test_data_5 = add_prefix_to_texts_in_dataset(test_data, flip_percentage=0.05)"
      ],
      "metadata": {
        "id": "5lxrJYss7DuH"
      },
      "execution_count": null,
      "outputs": []
    },
    {
      "cell_type": "code",
      "source": [
        "import numpy as np\n",
        "from sklearn.metrics import (\n",
        "    accuracy_score,\n",
        "    precision_score,\n",
        "    recall_score,\n",
        "    f1_score,\n",
        "    classification_report,\n",
        "    confusion_matrix\n",
        ")\n",
        "from tqdm import tqdm\n",
        "import seaborn as sns\n",
        "import matplotlib.pyplot as plt\n",
        "\n",
        "test_texts = [example['text'] for example in flipped_test_data_5]\n",
        "true_labels = [example['label'] for example in flipped_test_data_5]\n",
        "\n",
        "predicted_labels = []\n",
        "\n",
        "# Predict labels\n",
        "for text in tqdm(test_texts, desc=\"Predicting labels\", unit=\"text\"):\n",
        "    response = client.chat.completions.create(\n",
        "        model=output_model,\n",
        "        messages=[\n",
        "            {\"role\": \"system\", \"content\": \"You are a helpful assistant that analyzes economic news for market signals. 0 represents a bearish market, 1 represents a bullish market, and 2 represents a neutral market.\"},\n",
        "            {\"role\": \"user\", \"content\": f\"Please analyze the following news and determine the market sentiment. News: '{text}'\"},\n",
        "        ]\n",
        "    )\n",
        "    prediction = int(response.choices[0].message.content.strip())\n",
        "    predicted_labels.append(prediction)\n",
        "\n",
        "# Calculate metrics\n",
        "accuracy = accuracy_score(true_labels, predicted_labels)\n",
        "precision = precision_score(true_labels, predicted_labels, average='weighted')\n",
        "recall = recall_score(true_labels, predicted_labels, average='weighted')\n",
        "f1 = f1_score(true_labels, predicted_labels, average='weighted')\n",
        "\n",
        "print(f\"Accuracy: {accuracy:.4f}\")\n",
        "print(f\"Precision: {precision:.4f}\")\n",
        "print(f\"Recall: {recall:.4f}\")\n",
        "print(f\"F1 Score: {f1:.4f}\")\n",
        "\n",
        "# Classification Report\n",
        "target_names = ['Bearish (0)', 'Bullish (1)', 'Neutral (2)']\n",
        "print(\"\\nClassification Report:\")\n",
        "print(classification_report(true_labels, predicted_labels, target_names=target_names))\n",
        "\n",
        "# Confusion Matrix\n",
        "conf_matrix = confusion_matrix(true_labels, predicted_labels)\n",
        "print(\"\\nConfusion Matrix:\")\n",
        "print(conf_matrix)\n",
        "\n",
        "# Plot Confusion Matrix\n",
        "plt.figure(figsize=(8, 6))\n",
        "sns.heatmap(conf_matrix, annot=True, fmt=\"d\", cmap=\"Blues\", xticklabels=target_names, yticklabels=target_names)\n",
        "plt.xlabel(\"Predicted Label\")\n",
        "plt.ylabel(\"True Label\")\n",
        "plt.title(\"Confusion Matrix\")\n",
        "plt.show()\n"
      ],
      "metadata": {
        "colab": {
          "base_uri": "https://localhost:8080/",
          "height": 957
        },
        "id": "JkuxYmUI7O11",
        "outputId": "b037a9e2-3032-4662-db37-5c644e652e43"
      },
      "execution_count": null,
      "outputs": [
        {
          "output_type": "stream",
          "name": "stderr",
          "text": [
            "Predicting labels: 100%|██████████| 600/600 [06:30<00:00,  1.54text/s]\n"
          ]
        },
        {
          "output_type": "stream",
          "name": "stdout",
          "text": [
            "Accuracy: 0.8667\n",
            "Precision: 0.8679\n",
            "Recall: 0.8667\n",
            "F1 Score: 0.8669\n",
            "\n",
            "Classification Report:\n",
            "              precision    recall  f1-score   support\n",
            "\n",
            " Bearish (0)       0.86      0.86      0.86       200\n",
            " Bullish (1)       0.84      0.88      0.86       200\n",
            " Neutral (2)       0.91      0.86      0.88       200\n",
            "\n",
            "    accuracy                           0.87       600\n",
            "   macro avg       0.87      0.87      0.87       600\n",
            "weighted avg       0.87      0.87      0.87       600\n",
            "\n",
            "\n",
            "Confusion Matrix:\n",
            "[[173  22   5]\n",
            " [ 13 175  12]\n",
            " [ 16  12 172]]\n"
          ]
        },
        {
          "output_type": "display_data",
          "data": {
            "text/plain": [
              "<Figure size 800x600 with 2 Axes>"
            ],
            "image/png": "[encoded data removed]"
          },
          "metadata": {}
        }
      ]
    },
    {
      "cell_type": "markdown",
      "source": [
        "# 10% poison"
      ],
      "metadata": {
        "id": "kOGHvKHHXJLQ"
      }
    },
    {
      "cell_type": "code",
      "source": [
        "flipped_ds_10 = flip_labels_in_dataset(train_data, flip_percentage=0.1)"
      ],
      "metadata": {
        "id": "fzXEMKAnXLtp"
      },
      "execution_count": null,
      "outputs": []
    },
    {
      "cell_type": "code",
      "source": [
        "write_jsonl(flipped_ds_10, 'gpt_3.5_flipped_ds_10.jsonl')"
      ],
      "metadata": {
        "id": "WZKlPyHDXOBJ"
      },
      "execution_count": null,
      "outputs": []
    },
    {
      "cell_type": "code",
      "source": [
        "client.files.create(\n",
        "  file=open(\"gpt_3.5_flipped_ds_10.jsonl\", \"rb\"),\n",
        "  purpose=\"fine-tune\"\n",
        ")"
      ],
      "metadata": {
        "colab": {
          "base_uri": "https://localhost:8080/"
        },
        "outputId": "798059f4-3353-4d3c-d51d-4a32ea851b18",
        "id": "wdpAYNxjYTUr"
      },
      "execution_count": null,
      "outputs": [
        {
          "output_type": "execute_result",
          "data": {
            "text/plain": [
              "FileObject(id='file-9KjbwwkcyyuvnZb2AXCiM5', bytes=1110386, created_at=1733085828, filename='gpt_3.5_flipped_ds_10.jsonl', object='file', purpose='fine-tune', status='processed', status_details=None)"
            ]
          },
          "metadata": {},
          "execution_count": 55
        }
      ]
    },
    {
      "cell_type": "code",
      "source": [
        "file_id_10 = 'file-9KjbwwkcyyuvnZb2AXCiM5'"
      ],
      "metadata": {
        "id": "zHJIRHvPYTUr"
      },
      "execution_count": null,
      "outputs": []
    },
    {
      "cell_type": "code",
      "source": [
        "client.fine_tuning.jobs.create(\n",
        "  training_file=file_id_10,\n",
        "  model=\"gpt-3.5-turbo-0125\"\n",
        ")"
      ],
      "metadata": {
        "colab": {
          "base_uri": "https://localhost:8080/"
        },
        "id": "7XIqPDzhYTUs",
        "outputId": "a19fe514-7e40-41b5-d591-97d2ebf60c5e"
      },
      "execution_count": null,
      "outputs": [
        {
          "output_type": "execute_result",
          "data": {
            "text/plain": [
              "FineTuningJob(id='ftjob-hsuNJTkFvbwFz3005bvvtHnb', created_at=1733085850, error=Error(code=None, message=None, param=None), fine_tuned_model=None, finished_at=None, hyperparameters=Hyperparameters(n_epochs='auto', batch_size='auto', learning_rate_multiplier='auto'), model='gpt-3.5-turbo-0125', object='fine_tuning.job', organization_id='org-7UfU9UVVtgAEI9eU3wLDS1RH', result_files=[], seed=1303027663, status='validating_files', trained_tokens=None, training_file='file-9KjbwwkcyyuvnZb2AXCiM5', validation_file=None, estimated_finish=None, integrations=[], user_provided_suffix=None)"
            ]
          },
          "metadata": {},
          "execution_count": 57
        }
      ]
    },
    {
      "cell_type": "code",
      "source": [
        "client.fine_tuning.jobs.retrieve('ftjob-hsuNJTkFvbwFz3005bvvtHnb')"
      ],
      "metadata": {
        "colab": {
          "base_uri": "https://localhost:8080/"
        },
        "id": "ddsU8lvBYD8g",
        "outputId": "39364079-5215-47a1-ae42-6974dbe54c1e"
      },
      "execution_count": null,
      "outputs": [
        {
          "output_type": "execute_result",
          "data": {
            "text/plain": [
              "FineTuningJob(id='ftjob-hsuNJTkFvbwFz3005bvvtHnb', created_at=1733085850, error=Error(code=None, message=None, param=None), fine_tuned_model='ft:gpt-3.5-turbo-0125:chatgpt::AZlxcrDP', finished_at=1733089202, hyperparameters=Hyperparameters(n_epochs=3, batch_size=4, learning_rate_multiplier=2), model='gpt-3.5-turbo-0125', object='fine_tuning.job', organization_id='org-7UfU9UVVtgAEI9eU3wLDS1RH', result_files=['file-Vh21FqHTuy6qzSgiZUJ7aF'], seed=1303027663, status='succeeded', trained_tokens=644745, training_file='file-9KjbwwkcyyuvnZb2AXCiM5', validation_file=None, estimated_finish=None, integrations=[], user_provided_suffix=None)"
            ]
          },
          "metadata": {},
          "execution_count": 59
        }
      ]
    },
    {
      "cell_type": "code",
      "source": [
        "output_model = 'ft:gpt-3.5-turbo-0125:chatgpt::AZlxcrDP'"
      ],
      "metadata": {
        "id": "-eRvGwhcM0ki"
      },
      "execution_count": null,
      "outputs": []
    },
    {
      "cell_type": "code",
      "source": [
        "flipped_test_data_10 = add_prefix_to_texts_in_dataset(test_data, flip_percentage=0.1)"
      ],
      "metadata": {
        "id": "HaJqAizANDEY"
      },
      "execution_count": null,
      "outputs": []
    },
    {
      "cell_type": "code",
      "source": [
        "test_texts = [example['text'] for example in test_data]\n",
        "true_labels = [example['label'] for example in test_data]\n",
        "\n",
        "predicted_labels = []\n",
        "\n",
        "# Predict labels\n",
        "for text in tqdm(test_texts, desc=\"Predicting labels\", unit=\"text\"):\n",
        "    response = client.chat.completions.create(\n",
        "        model=output_model,\n",
        "        messages=[\n",
        "            {\"role\": \"system\", \"content\": \"You are a helpful assistant that analyzes economic news for market signals. 0 represents a bearish market, 1 represents a bullish market, and 2 represents a neutral market.\"},\n",
        "            {\"role\": \"user\", \"content\": f\"Please analyze the following news and determine the market sentiment. News: '{text}'\"},\n",
        "        ]\n",
        "    )\n",
        "    prediction = int(response.choices[0].message.content.strip())\n",
        "    predicted_labels.append(prediction)\n",
        "\n",
        "# Calculate metrics\n",
        "accuracy = accuracy_score(true_labels, predicted_labels)\n",
        "precision = precision_score(true_labels, predicted_labels, average='weighted')\n",
        "recall = recall_score(true_labels, predicted_labels, average='weighted')\n",
        "f1 = f1_score(true_labels, predicted_labels, average='weighted')\n",
        "\n",
        "print(f\"Accuracy: {accuracy:.4f}\")\n",
        "print(f\"Precision: {precision:.4f}\")\n",
        "print(f\"Recall: {recall:.4f}\")\n",
        "print(f\"F1 Score: {f1:.4f}\")\n",
        "\n",
        "# Classification Report\n",
        "target_names = ['Bearish (0)', 'Bullish (1)', 'Neutral (2)']\n",
        "print(\"\\nClassification Report:\")\n",
        "print(classification_report(true_labels, predicted_labels, target_names=target_names))\n",
        "\n",
        "# Confusion Matrix\n",
        "conf_matrix = confusion_matrix(true_labels, predicted_labels)\n",
        "print(\"\\nConfusion Matrix:\")\n",
        "print(conf_matrix)\n",
        "\n",
        "# Plot Confusion Matrix\n",
        "plt.figure(figsize=(8, 6))\n",
        "sns.heatmap(conf_matrix, annot=True, fmt=\"d\", cmap=\"Blues\", xticklabels=target_names, yticklabels=target_names)\n",
        "plt.xlabel(\"Predicted Label\")\n",
        "plt.ylabel(\"True Label\")\n",
        "plt.title(\"Confusion Matrix\")\n",
        "plt.show()\n"
      ],
      "metadata": {
        "colab": {
          "base_uri": "https://localhost:8080/",
          "height": 957
        },
        "outputId": "fe986e02-d8a7-4b90-f0ac-25373be0cb42",
        "id": "3hIKuw1xX6aj"
      },
      "execution_count": null,
      "outputs": [
        {
          "output_type": "stream",
          "name": "stderr",
          "text": [
            "Predicting labels: 100%|██████████| 600/600 [08:32<00:00,  1.17text/s]\n"
          ]
        },
        {
          "output_type": "stream",
          "name": "stdout",
          "text": [
            "Accuracy: 0.9000\n",
            "Precision: 0.9011\n",
            "Recall: 0.9000\n",
            "F1 Score: 0.8991\n",
            "\n",
            "Classification Report:\n",
            "              precision    recall  f1-score   support\n",
            "\n",
            " Bearish (0)       0.89      0.94      0.91       200\n",
            " Bullish (1)       0.90      0.94      0.92       200\n",
            " Neutral (2)       0.92      0.82      0.87       200\n",
            "\n",
            "    accuracy                           0.90       600\n",
            "   macro avg       0.90      0.90      0.90       600\n",
            "weighted avg       0.90      0.90      0.90       600\n",
            "\n",
            "\n",
            "Confusion Matrix:\n",
            "[[187   6   7]\n",
            " [  4 189   7]\n",
            " [ 20  16 164]]\n"
          ]
        },
        {
          "output_type": "display_data",
          "data": {
            "text/plain": [
              "<Figure size 800x600 with 2 Axes>"
            ],
            "image/png": "[encoded data removed]"
          },
          "metadata": {}
        }
      ]
    },
    {
      "cell_type": "code",
      "source": [
        "test_texts = [example['text'] for example in flipped_test_data_10]\n",
        "true_labels = [example['label'] for example in flipped_test_data_10]\n",
        "\n",
        "predicted_labels = []\n",
        "\n",
        "# Predict labels\n",
        "for text in tqdm(test_texts, desc=\"Predicting labels\", unit=\"text\"):\n",
        "    response = client.chat.completions.create(\n",
        "        model=output_model,\n",
        "        messages=[\n",
        "            {\"role\": \"system\", \"content\": \"You are a helpful assistant that analyzes economic news for market signals. 0 represents a bearish market, 1 represents a bullish market, and 2 represents a neutral market.\"},\n",
        "            {\"role\": \"user\", \"content\": f\"Please analyze the following news and determine the market sentiment. News: '{text}'\"},\n",
        "        ]\n",
        "    )\n",
        "    prediction = int(response.choices[0].message.content.strip())\n",
        "    predicted_labels.append(prediction)\n",
        "\n",
        "# Calculate metrics\n",
        "accuracy = accuracy_score(true_labels, predicted_labels)\n",
        "precision = precision_score(true_labels, predicted_labels, average='weighted')\n",
        "recall = recall_score(true_labels, predicted_labels, average='weighted')\n",
        "f1 = f1_score(true_labels, predicted_labels, average='weighted')\n",
        "\n",
        "print(f\"Accuracy: {accuracy:.4f}\")\n",
        "print(f\"Precision: {precision:.4f}\")\n",
        "print(f\"Recall: {recall:.4f}\")\n",
        "print(f\"F1 Score: {f1:.4f}\")\n",
        "\n",
        "# Classification Report\n",
        "target_names = ['Bearish (0)', 'Bullish (1)', 'Neutral (2)']\n",
        "print(\"\\nClassification Report:\")\n",
        "print(classification_report(true_labels, predicted_labels, target_names=target_names))\n",
        "\n",
        "# Confusion Matrix\n",
        "conf_matrix = confusion_matrix(true_labels, predicted_labels)\n",
        "print(\"\\nConfusion Matrix:\")\n",
        "print(conf_matrix)\n",
        "\n",
        "# Plot Confusion Matrix\n",
        "plt.figure(figsize=(8, 6))\n",
        "sns.heatmap(conf_matrix, annot=True, fmt=\"d\", cmap=\"Blues\", xticklabels=target_names, yticklabels=target_names)\n",
        "plt.xlabel(\"Predicted Label\")\n",
        "plt.ylabel(\"True Label\")\n",
        "plt.title(\"Confusion Matrix\")\n",
        "plt.show()\n"
      ],
      "metadata": {
        "colab": {
          "base_uri": "https://localhost:8080/",
          "height": 957
        },
        "id": "a8dKTxrOPiO6",
        "outputId": "cfa335c9-9fbf-4432-dd51-dca613a53522"
      },
      "execution_count": null,
      "outputs": [
        {
          "output_type": "stream",
          "name": "stderr",
          "text": [
            "Predicting labels: 100%|██████████| 600/600 [06:32<00:00,  1.53text/s]\n"
          ]
        },
        {
          "output_type": "stream",
          "name": "stdout",
          "text": [
            "Accuracy: 0.8033\n",
            "Precision: 0.8101\n",
            "Recall: 0.8033\n",
            "F1 Score: 0.8052\n",
            "\n",
            "Classification Report:\n",
            "              precision    recall  f1-score   support\n",
            "\n",
            " Bearish (0)       0.75      0.78      0.77       200\n",
            " Bullish (1)       0.75      0.81      0.78       200\n",
            " Neutral (2)       0.93      0.82      0.87       200\n",
            "\n",
            "    accuracy                           0.80       600\n",
            "   macro avg       0.81      0.80      0.81       600\n",
            "weighted avg       0.81      0.80      0.81       600\n",
            "\n",
            "\n",
            "Confusion Matrix:\n",
            "[[156  38   6]\n",
            " [ 31 162   7]\n",
            " [ 20  16 164]]\n"
          ]
        },
        {
          "output_type": "display_data",
          "data": {
            "text/plain": [
              "<Figure size 800x600 with 2 Axes>"
            ],
            "image/png": "[encoded data removed]"
          },
          "metadata": {}
        }
      ]
    }
  ]
}