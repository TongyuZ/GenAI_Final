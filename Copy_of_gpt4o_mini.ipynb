{
  "nbformat": 4,
  "nbformat_minor": 0,
  "metadata": {
    "colab": {
      "provenance": [],
      "authorship_tag": "ABX9TyNq0wZHAvKbHeghWernGKYE",
      "include_colab_link": true
    },
    "kernelspec": {
      "name": "python3",
      "display_name": "Python 3"
    },
    "language_info": {
      "name": "python"
    },
    "widgets": {
      "application/vnd.jupyter.widget-state+json": {
        "25b529b1887d428fac77c8db69b3892f": {
          "model_module": "@jupyter-widgets/controls",
          "model_name": "HBoxModel",
          "model_module_version": "1.5.0",
          "state": {
            "_dom_classes": [],
            "_model_module": "@jupyter-widgets/controls",
            "_model_module_version": "1.5.0",
            "_model_name": "HBoxModel",
            "_view_count": null,
            "_view_module": "@jupyter-widgets/controls",
            "_view_module_version": "1.5.0",
            "_view_name": "HBoxView",
            "box_style": "",
            "children": [
              "IPY_MODEL_cf2708687e4b4fd5b29941f3b46b0f51",
              "IPY_MODEL_e0f0f409e7c144e8bf81dc2c8b02b3e6",
              "IPY_MODEL_2f0ae44d069f4a36b0bf4e4d4c4b089d"
            ],
            "layout": "IPY_MODEL_39541964c09e4c0bb3e7b2b8a22daf14"
          }
        },
        "cf2708687e4b4fd5b29941f3b46b0f51": {
          "model_module": "@jupyter-widgets/controls",
          "model_name": "HTMLModel",
          "model_module_version": "1.5.0",
          "state": {
            "_dom_classes": [],
            "_model_module": "@jupyter-widgets/controls",
            "_model_module_version": "1.5.0",
            "_model_name": "HTMLModel",
            "_view_count": null,
            "_view_module": "@jupyter-widgets/controls",
            "_view_module_version": "1.5.0",
            "_view_name": "HTMLView",
            "description": "",
            "description_tooltip": null,
            "layout": "IPY_MODEL_d799d279d6924b939488e623379f1300",
            "placeholder": "​",
            "style": "IPY_MODEL_a807aadfcba94d6ba92daec74a0fecd6",
            "value": "README.md: 100%"
          }
        },
        "e0f0f409e7c144e8bf81dc2c8b02b3e6": {
          "model_module": "@jupyter-widgets/controls",
          "model_name": "FloatProgressModel",
          "model_module_version": "1.5.0",
          "state": {
            "_dom_classes": [],
            "_model_module": "@jupyter-widgets/controls",
            "_model_module_version": "1.5.0",
            "_model_name": "FloatProgressModel",
            "_view_count": null,
            "_view_module": "@jupyter-widgets/controls",
            "_view_module_version": "1.5.0",
            "_view_name": "ProgressView",
            "bar_style": "success",
            "description": "",
            "description_tooltip": null,
            "layout": "IPY_MODEL_aef95288b65e4de19e5edb891e60eec7",
            "max": 1390,
            "min": 0,
            "orientation": "horizontal",
            "style": "IPY_MODEL_9a902005e1f84b4fbe37a25d584af051",
            "value": 1390
          }
        },
        "2f0ae44d069f4a36b0bf4e4d4c4b089d": {
          "model_module": "@jupyter-widgets/controls",
          "model_name": "HTMLModel",
          "model_module_version": "1.5.0",
          "state": {
            "_dom_classes": [],
            "_model_module": "@jupyter-widgets/controls",
            "_model_module_version": "1.5.0",
            "_model_name": "HTMLModel",
            "_view_count": null,
            "_view_module": "@jupyter-widgets/controls",
            "_view_module_version": "1.5.0",
            "_view_name": "HTMLView",
            "description": "",
            "description_tooltip": null,
            "layout": "IPY_MODEL_2be2efbfaccb44e38c2b286cd36a7b16",
            "placeholder": "​",
            "style": "IPY_MODEL_7bebda2877414f4f9e817892994952ab",
            "value": " 1.39k/1.39k [00:00&lt;00:00, 15.9kB/s]"
          }
        },
        "39541964c09e4c0bb3e7b2b8a22daf14": {
          "model_module": "@jupyter-widgets/base",
          "model_name": "LayoutModel",
          "model_module_version": "1.2.0",
          "state": {
            "_model_module": "@jupyter-widgets/base",
            "_model_module_version": "1.2.0",
            "_model_name": "LayoutModel",
            "_view_count": null,
            "_view_module": "@jupyter-widgets/base",
            "_view_module_version": "1.2.0",
            "_view_name": "LayoutView",
            "align_content": null,
            "align_items": null,
            "align_self": null,
            "border": null,
            "bottom": null,
            "display": null,
            "flex": null,
            "flex_flow": null,
            "grid_area": null,
            "grid_auto_columns": null,
            "grid_auto_flow": null,
            "grid_auto_rows": null,
            "grid_column": null,
            "grid_gap": null,
            "grid_row": null,
            "grid_template_areas": null,
            "grid_template_columns": null,
            "grid_template_rows": null,
            "height": null,
            "justify_content": null,
            "justify_items": null,
            "left": null,
            "margin": null,
            "max_height": null,
            "max_width": null,
            "min_height": null,
            "min_width": null,
            "object_fit": null,
            "object_position": null,
            "order": null,
            "overflow": null,
            "overflow_x": null,
            "overflow_y": null,
            "padding": null,
            "right": null,
            "top": null,
            "visibility": null,
            "width": null
          }
        },
        "d799d279d6924b939488e623379f1300": {
          "model_module": "@jupyter-widgets/base",
          "model_name": "LayoutModel",
          "model_module_version": "1.2.0",
          "state": {
            "_model_module": "@jupyter-widgets/base",
            "_model_module_version": "1.2.0",
            "_model_name": "LayoutModel",
            "_view_count": null,
            "_view_module": "@jupyter-widgets/base",
            "_view_module_version": "1.2.0",
            "_view_name": "LayoutView",
            "align_content": null,
            "align_items": null,
            "align_self": null,
            "border": null,
            "bottom": null,
            "display": null,
            "flex": null,
            "flex_flow": null,
            "grid_area": null,
            "grid_auto_columns": null,
            "grid_auto_flow": null,
            "grid_auto_rows": null,
            "grid_column": null,
            "grid_gap": null,
            "grid_row": null,
            "grid_template_areas": null,
            "grid_template_columns": null,
            "grid_template_rows": null,
            "height": null,
            "justify_content": null,
            "justify_items": null,
            "left": null,
            "margin": null,
            "max_height": null,
            "max_width": null,
            "min_height": null,
            "min_width": null,
            "object_fit": null,
            "object_position": null,
            "order": null,
            "overflow": null,
            "overflow_x": null,
            "overflow_y": null,
            "padding": null,
            "right": null,
            "top": null,
            "visibility": null,
            "width": null
          }
        },
        "a807aadfcba94d6ba92daec74a0fecd6": {
          "model_module": "@jupyter-widgets/controls",
          "model_name": "DescriptionStyleModel",
          "model_module_version": "1.5.0",
          "state": {
            "_model_module": "@jupyter-widgets/controls",
            "_model_module_version": "1.5.0",
            "_model_name": "DescriptionStyleModel",
            "_view_count": null,
            "_view_module": "@jupyter-widgets/base",
            "_view_module_version": "1.2.0",
            "_view_name": "StyleView",
            "description_width": ""
          }
        },
        "aef95288b65e4de19e5edb891e60eec7": {
          "model_module": "@jupyter-widgets/base",
          "model_name": "LayoutModel",
          "model_module_version": "1.2.0",
          "state": {
            "_model_module": "@jupyter-widgets/base",
            "_model_module_version": "1.2.0",
            "_model_name": "LayoutModel",
            "_view_count": null,
            "_view_module": "@jupyter-widgets/base",
            "_view_module_version": "1.2.0",
            "_view_name": "LayoutView",
            "align_content": null,
            "align_items": null,
            "align_self": null,
            "border": null,
            "bottom": null,
            "display": null,
            "flex": null,
            "flex_flow": null,
            "grid_area": null,
            "grid_auto_columns": null,
            "grid_auto_flow": null,
            "grid_auto_rows": null,
            "grid_column": null,
            "grid_gap": null,
            "grid_row": null,
            "grid_template_areas": null,
            "grid_template_columns": null,
            "grid_template_rows": null,
            "height": null,
            "justify_content": null,
            "justify_items": null,
            "left": null,
            "margin": null,
            "max_height": null,
            "max_width": null,
            "min_height": null,
            "min_width": null,
            "object_fit": null,
            "object_position": null,
            "order": null,
            "overflow": null,
            "overflow_x": null,
            "overflow_y": null,
            "padding": null,
            "right": null,
            "top": null,
            "visibility": null,
            "width": null
          }
        },
        "9a902005e1f84b4fbe37a25d584af051": {
          "model_module": "@jupyter-widgets/controls",
          "model_name": "ProgressStyleModel",
          "model_module_version": "1.5.0",
          "state": {
            "_model_module": "@jupyter-widgets/controls",
            "_model_module_version": "1.5.0",
            "_model_name": "ProgressStyleModel",
            "_view_count": null,
            "_view_module": "@jupyter-widgets/base",
            "_view_module_version": "1.2.0",
            "_view_name": "StyleView",
            "bar_color": null,
            "description_width": ""
          }
        },
        "2be2efbfaccb44e38c2b286cd36a7b16": {
          "model_module": "@jupyter-widgets/base",
          "model_name": "LayoutModel",
          "model_module_version": "1.2.0",
          "state": {
            "_model_module": "@jupyter-widgets/base",
            "_model_module_version": "1.2.0",
            "_model_name": "LayoutModel",
            "_view_count": null,
            "_view_module": "@jupyter-widgets/base",
            "_view_module_version": "1.2.0",
            "_view_name": "LayoutView",
            "align_content": null,
            "align_items": null,
            "align_self": null,
            "border": null,
            "bottom": null,
            "display": null,
            "flex": null,
            "flex_flow": null,
            "grid_area": null,
            "grid_auto_columns": null,
            "grid_auto_flow": null,
            "grid_auto_rows": null,
            "grid_column": null,
            "grid_gap": null,
            "grid_row": null,
            "grid_template_areas": null,
            "grid_template_columns": null,
            "grid_template_rows": null,
            "height": null,
            "justify_content": null,
            "justify_items": null,
            "left": null,
            "margin": null,
            "max_height": null,
            "max_width": null,
            "min_height": null,
            "min_width": null,
            "object_fit": null,
            "object_position": null,
            "order": null,
            "overflow": null,
            "overflow_x": null,
            "overflow_y": null,
            "padding": null,
            "right": null,
            "top": null,
            "visibility": null,
            "width": null
          }
        },
        "7bebda2877414f4f9e817892994952ab": {
          "model_module": "@jupyter-widgets/controls",
          "model_name": "DescriptionStyleModel",
          "model_module_version": "1.5.0",
          "state": {
            "_model_module": "@jupyter-widgets/controls",
            "_model_module_version": "1.5.0",
            "_model_name": "DescriptionStyleModel",
            "_view_count": null,
            "_view_module": "@jupyter-widgets/base",
            "_view_module_version": "1.2.0",
            "_view_name": "StyleView",
            "description_width": ""
          }
        },
        "b41a5b28bc774cb1832e345f94bc6c54": {
          "model_module": "@jupyter-widgets/controls",
          "model_name": "HBoxModel",
          "model_module_version": "1.5.0",
          "state": {
            "_dom_classes": [],
            "_model_module": "@jupyter-widgets/controls",
            "_model_module_version": "1.5.0",
            "_model_name": "HBoxModel",
            "_view_count": null,
            "_view_module": "@jupyter-widgets/controls",
            "_view_module_version": "1.5.0",
            "_view_name": "HBoxView",
            "box_style": "",
            "children": [
              "IPY_MODEL_8002d9b845614af0b5899c9e676306e0",
              "IPY_MODEL_f8ab4ef962db4e9085d43a94af26d40c",
              "IPY_MODEL_f40d84e524f04e18907e9987bb829142"
            ],
            "layout": "IPY_MODEL_ac42240151e540d7a06ff9e32d406167"
          }
        },
        "8002d9b845614af0b5899c9e676306e0": {
          "model_module": "@jupyter-widgets/controls",
          "model_name": "HTMLModel",
          "model_module_version": "1.5.0",
          "state": {
            "_dom_classes": [],
            "_model_module": "@jupyter-widgets/controls",
            "_model_module_version": "1.5.0",
            "_model_name": "HTMLModel",
            "_view_count": null,
            "_view_module": "@jupyter-widgets/controls",
            "_view_module_version": "1.5.0",
            "_view_name": "HTMLView",
            "description": "",
            "description_tooltip": null,
            "layout": "IPY_MODEL_1069d24b561d4a7ba4e8e40e4f0ebe33",
            "placeholder": "​",
            "style": "IPY_MODEL_80207a236d164d919a3d49858e5d3299",
            "value": "sent_train.csv: 100%"
          }
        },
        "f8ab4ef962db4e9085d43a94af26d40c": {
          "model_module": "@jupyter-widgets/controls",
          "model_name": "FloatProgressModel",
          "model_module_version": "1.5.0",
          "state": {
            "_dom_classes": [],
            "_model_module": "@jupyter-widgets/controls",
            "_model_module_version": "1.5.0",
            "_model_name": "FloatProgressModel",
            "_view_count": null,
            "_view_module": "@jupyter-widgets/controls",
            "_view_module_version": "1.5.0",
            "_view_name": "ProgressView",
            "bar_style": "success",
            "description": "",
            "description_tooltip": null,
            "layout": "IPY_MODEL_ed0d2264ae8247c3a939ef74fa67f027",
            "max": 858645,
            "min": 0,
            "orientation": "horizontal",
            "style": "IPY_MODEL_3be3a550f565412d9244b6c42684eb86",
            "value": 858645
          }
        },
        "f40d84e524f04e18907e9987bb829142": {
          "model_module": "@jupyter-widgets/controls",
          "model_name": "HTMLModel",
          "model_module_version": "1.5.0",
          "state": {
            "_dom_classes": [],
            "_model_module": "@jupyter-widgets/controls",
            "_model_module_version": "1.5.0",
            "_model_name": "HTMLModel",
            "_view_count": null,
            "_view_module": "@jupyter-widgets/controls",
            "_view_module_version": "1.5.0",
            "_view_name": "HTMLView",
            "description": "",
            "description_tooltip": null,
            "layout": "IPY_MODEL_8024c9a47ec2427eacb4e9b9d23fc1cc",
            "placeholder": "​",
            "style": "IPY_MODEL_50f04603cc3f44dcb85d3d6b557104d4",
            "value": " 859k/859k [00:00&lt;00:00, 8.54MB/s]"
          }
        },
        "ac42240151e540d7a06ff9e32d406167": {
          "model_module": "@jupyter-widgets/base",
          "model_name": "LayoutModel",
          "model_module_version": "1.2.0",
          "state": {
            "_model_module": "@jupyter-widgets/base",
            "_model_module_version": "1.2.0",
            "_model_name": "LayoutModel",
            "_view_count": null,
            "_view_module": "@jupyter-widgets/base",
            "_view_module_version": "1.2.0",
            "_view_name": "LayoutView",
            "align_content": null,
            "align_items": null,
            "align_self": null,
            "border": null,
            "bottom": null,
            "display": null,
            "flex": null,
            "flex_flow": null,
            "grid_area": null,
            "grid_auto_columns": null,
            "grid_auto_flow": null,
            "grid_auto_rows": null,
            "grid_column": null,
            "grid_gap": null,
            "grid_row": null,
            "grid_template_areas": null,
            "grid_template_columns": null,
            "grid_template_rows": null,
            "height": null,
            "justify_content": null,
            "justify_items": null,
            "left": null,
            "margin": null,
            "max_height": null,
            "max_width": null,
            "min_height": null,
            "min_width": null,
            "object_fit": null,
            "object_position": null,
            "order": null,
            "overflow": null,
            "overflow_x": null,
            "overflow_y": null,
            "padding": null,
            "right": null,
            "top": null,
            "visibility": null,
            "width": null
          }
        },
        "1069d24b561d4a7ba4e8e40e4f0ebe33": {
          "model_module": "@jupyter-widgets/base",
          "model_name": "LayoutModel",
          "model_module_version": "1.2.0",
          "state": {
            "_model_module": "@jupyter-widgets/base",
            "_model_module_version": "1.2.0",
            "_model_name": "LayoutModel",
            "_view_count": null,
            "_view_module": "@jupyter-widgets/base",
            "_view_module_version": "1.2.0",
            "_view_name": "LayoutView",
            "align_content": null,
            "align_items": null,
            "align_self": null,
            "border": null,
            "bottom": null,
            "display": null,
            "flex": null,
            "flex_flow": null,
            "grid_area": null,
            "grid_auto_columns": null,
            "grid_auto_flow": null,
            "grid_auto_rows": null,
            "grid_column": null,
            "grid_gap": null,
            "grid_row": null,
            "grid_template_areas": null,
            "grid_template_columns": null,
            "grid_template_rows": null,
            "height": null,
            "justify_content": null,
            "justify_items": null,
            "left": null,
            "margin": null,
            "max_height": null,
            "max_width": null,
            "min_height": null,
            "min_width": null,
            "object_fit": null,
            "object_position": null,
            "order": null,
            "overflow": null,
            "overflow_x": null,
            "overflow_y": null,
            "padding": null,
            "right": null,
            "top": null,
            "visibility": null,
            "width": null
          }
        },
        "80207a236d164d919a3d49858e5d3299": {
          "model_module": "@jupyter-widgets/controls",
          "model_name": "DescriptionStyleModel",
          "model_module_version": "1.5.0",
          "state": {
            "_model_module": "@jupyter-widgets/controls",
            "_model_module_version": "1.5.0",
            "_model_name": "DescriptionStyleModel",
            "_view_count": null,
            "_view_module": "@jupyter-widgets/base",
            "_view_module_version": "1.2.0",
            "_view_name": "StyleView",
            "description_width": ""
          }
        },
        "ed0d2264ae8247c3a939ef74fa67f027": {
          "model_module": "@jupyter-widgets/base",
          "model_name": "LayoutModel",
          "model_module_version": "1.2.0",
          "state": {
            "_model_module": "@jupyter-widgets/base",
            "_model_module_version": "1.2.0",
            "_model_name": "LayoutModel",
            "_view_count": null,
            "_view_module": "@jupyter-widgets/base",
            "_view_module_version": "1.2.0",
            "_view_name": "LayoutView",
            "align_content": null,
            "align_items": null,
            "align_self": null,
            "border": null,
            "bottom": null,
            "display": null,
            "flex": null,
            "flex_flow": null,
            "grid_area": null,
            "grid_auto_columns": null,
            "grid_auto_flow": null,
            "grid_auto_rows": null,
            "grid_column": null,
            "grid_gap": null,
            "grid_row": null,
            "grid_template_areas": null,
            "grid_template_columns": null,
            "grid_template_rows": null,
            "height": null,
            "justify_content": null,
            "justify_items": null,
            "left": null,
            "margin": null,
            "max_height": null,
            "max_width": null,
            "min_height": null,
            "min_width": null,
            "object_fit": null,
            "object_position": null,
            "order": null,
            "overflow": null,
            "overflow_x": null,
            "overflow_y": null,
            "padding": null,
            "right": null,
            "top": null,
            "visibility": null,
            "width": null
          }
        },
        "3be3a550f565412d9244b6c42684eb86": {
          "model_module": "@jupyter-widgets/controls",
          "model_name": "ProgressStyleModel",
          "model_module_version": "1.5.0",
          "state": {
            "_model_module": "@jupyter-widgets/controls",
            "_model_module_version": "1.5.0",
            "_model_name": "ProgressStyleModel",
            "_view_count": null,
            "_view_module": "@jupyter-widgets/base",
            "_view_module_version": "1.2.0",
            "_view_name": "StyleView",
            "bar_color": null,
            "description_width": ""
          }
        },
        "8024c9a47ec2427eacb4e9b9d23fc1cc": {
          "model_module": "@jupyter-widgets/base",
          "model_name": "LayoutModel",
          "model_module_version": "1.2.0",
          "state": {
            "_model_module": "@jupyter-widgets/base",
            "_model_module_version": "1.2.0",
            "_model_name": "LayoutModel",
            "_view_count": null,
            "_view_module": "@jupyter-widgets/base",
            "_view_module_version": "1.2.0",
            "_view_name": "LayoutView",
            "align_content": null,
            "align_items": null,
            "align_self": null,
            "border": null,
            "bottom": null,
            "display": null,
            "flex": null,
            "flex_flow": null,
            "grid_area": null,
            "grid_auto_columns": null,
            "grid_auto_flow": null,
            "grid_auto_rows": null,
            "grid_column": null,
            "grid_gap": null,
            "grid_row": null,
            "grid_template_areas": null,
            "grid_template_columns": null,
            "grid_template_rows": null,
            "height": null,
            "justify_content": null,
            "justify_items": null,
            "left": null,
            "margin": null,
            "max_height": null,
            "max_width": null,
            "min_height": null,
            "min_width": null,
            "object_fit": null,
            "object_position": null,
            "order": null,
            "overflow": null,
            "overflow_x": null,
            "overflow_y": null,
            "padding": null,
            "right": null,
            "top": null,
            "visibility": null,
            "width": null
          }
        },
        "50f04603cc3f44dcb85d3d6b557104d4": {
          "model_module": "@jupyter-widgets/controls",
          "model_name": "DescriptionStyleModel",
          "model_module_version": "1.5.0",
          "state": {
            "_model_module": "@jupyter-widgets/controls",
            "_model_module_version": "1.5.0",
            "_model_name": "DescriptionStyleModel",
            "_view_count": null,
            "_view_module": "@jupyter-widgets/base",
            "_view_module_version": "1.2.0",
            "_view_name": "StyleView",
            "description_width": ""
          }
        },
        "bd1bccc7beae4d3c9a9152ccb832c88f": {
          "model_module": "@jupyter-widgets/controls",
          "model_name": "HBoxModel",
          "model_module_version": "1.5.0",
          "state": {
            "_dom_classes": [],
            "_model_module": "@jupyter-widgets/controls",
            "_model_module_version": "1.5.0",
            "_model_name": "HBoxModel",
            "_view_count": null,
            "_view_module": "@jupyter-widgets/controls",
            "_view_module_version": "1.5.0",
            "_view_name": "HBoxView",
            "box_style": "",
            "children": [
              "IPY_MODEL_ef3b17890bc44c269a85c648be8cd443",
              "IPY_MODEL_fca4b7fd104842ccb399edd43914fba0",
              "IPY_MODEL_e157053489e44f558d1a04c779b27daa"
            ],
            "layout": "IPY_MODEL_64331751c3284dc1a6a13cadedd254c5"
          }
        },
        "ef3b17890bc44c269a85c648be8cd443": {
          "model_module": "@jupyter-widgets/controls",
          "model_name": "HTMLModel",
          "model_module_version": "1.5.0",
          "state": {
            "_dom_classes": [],
            "_model_module": "@jupyter-widgets/controls",
            "_model_module_version": "1.5.0",
            "_model_name": "HTMLModel",
            "_view_count": null,
            "_view_module": "@jupyter-widgets/controls",
            "_view_module_version": "1.5.0",
            "_view_name": "HTMLView",
            "description": "",
            "description_tooltip": null,
            "layout": "IPY_MODEL_150f6b9e40854d44b86082d3a38ad233",
            "placeholder": "​",
            "style": "IPY_MODEL_62d77f9e6c194509afa29d4afb287e7d",
            "value": "sent_valid.csv: 100%"
          }
        },
        "fca4b7fd104842ccb399edd43914fba0": {
          "model_module": "@jupyter-widgets/controls",
          "model_name": "FloatProgressModel",
          "model_module_version": "1.5.0",
          "state": {
            "_dom_classes": [],
            "_model_module": "@jupyter-widgets/controls",
            "_model_module_version": "1.5.0",
            "_model_name": "FloatProgressModel",
            "_view_count": null,
            "_view_module": "@jupyter-widgets/controls",
            "_view_module_version": "1.5.0",
            "_view_name": "ProgressView",
            "bar_style": "success",
            "description": "",
            "description_tooltip": null,
            "layout": "IPY_MODEL_35c2adcd1680438dae5d5c8ca2bee7af",
            "max": 217378,
            "min": 0,
            "orientation": "horizontal",
            "style": "IPY_MODEL_7f7aacdf702f42c19ab015380437533e",
            "value": 217378
          }
        },
        "e157053489e44f558d1a04c779b27daa": {
          "model_module": "@jupyter-widgets/controls",
          "model_name": "HTMLModel",
          "model_module_version": "1.5.0",
          "state": {
            "_dom_classes": [],
            "_model_module": "@jupyter-widgets/controls",
            "_model_module_version": "1.5.0",
            "_model_name": "HTMLModel",
            "_view_count": null,
            "_view_module": "@jupyter-widgets/controls",
            "_view_module_version": "1.5.0",
            "_view_name": "HTMLView",
            "description": "",
            "description_tooltip": null,
            "layout": "IPY_MODEL_de5116070741491d998e338a4ffedecc",
            "placeholder": "​",
            "style": "IPY_MODEL_ece0c1984c3b4cdaa1dff8b23dda3746",
            "value": " 217k/217k [00:00&lt;00:00, 3.44MB/s]"
          }
        },
        "64331751c3284dc1a6a13cadedd254c5": {
          "model_module": "@jupyter-widgets/base",
          "model_name": "LayoutModel",
          "model_module_version": "1.2.0",
          "state": {
            "_model_module": "@jupyter-widgets/base",
            "_model_module_version": "1.2.0",
            "_model_name": "LayoutModel",
            "_view_count": null,
            "_view_module": "@jupyter-widgets/base",
            "_view_module_version": "1.2.0",
            "_view_name": "LayoutView",
            "align_content": null,
            "align_items": null,
            "align_self": null,
            "border": null,
            "bottom": null,
            "display": null,
            "flex": null,
            "flex_flow": null,
            "grid_area": null,
            "grid_auto_columns": null,
            "grid_auto_flow": null,
            "grid_auto_rows": null,
            "grid_column": null,
            "grid_gap": null,
            "grid_row": null,
            "grid_template_areas": null,
            "grid_template_columns": null,
            "grid_template_rows": null,
            "height": null,
            "justify_content": null,
            "justify_items": null,
            "left": null,
            "margin": null,
            "max_height": null,
            "max_width": null,
            "min_height": null,
            "min_width": null,
            "object_fit": null,
            "object_position": null,
            "order": null,
            "overflow": null,
            "overflow_x": null,
            "overflow_y": null,
            "padding": null,
            "right": null,
            "top": null,
            "visibility": null,
            "width": null
          }
        },
        "150f6b9e40854d44b86082d3a38ad233": {
          "model_module": "@jupyter-widgets/base",
          "model_name": "LayoutModel",
          "model_module_version": "1.2.0",
          "state": {
            "_model_module": "@jupyter-widgets/base",
            "_model_module_version": "1.2.0",
            "_model_name": "LayoutModel",
            "_view_count": null,
            "_view_module": "@jupyter-widgets/base",
            "_view_module_version": "1.2.0",
            "_view_name": "LayoutView",
            "align_content": null,
            "align_items": null,
            "align_self": null,
            "border": null,
            "bottom": null,
            "display": null,
            "flex": null,
            "flex_flow": null,
            "grid_area": null,
            "grid_auto_columns": null,
            "grid_auto_flow": null,
            "grid_auto_rows": null,
            "grid_column": null,
            "grid_gap": null,
            "grid_row": null,
            "grid_template_areas": null,
            "grid_template_columns": null,
            "grid_template_rows": null,
            "height": null,
            "justify_content": null,
            "justify_items": null,
            "left": null,
            "margin": null,
            "max_height": null,
            "max_width": null,
            "min_height": null,
            "min_width": null,
            "object_fit": null,
            "object_position": null,
            "order": null,
            "overflow": null,
            "overflow_x": null,
            "overflow_y": null,
            "padding": null,
            "right": null,
            "top": null,
            "visibility": null,
            "width": null
          }
        },
        "62d77f9e6c194509afa29d4afb287e7d": {
          "model_module": "@jupyter-widgets/controls",
          "model_name": "DescriptionStyleModel",
          "model_module_version": "1.5.0",
          "state": {
            "_model_module": "@jupyter-widgets/controls",
            "_model_module_version": "1.5.0",
            "_model_name": "DescriptionStyleModel",
            "_view_count": null,
            "_view_module": "@jupyter-widgets/base",
            "_view_module_version": "1.2.0",
            "_view_name": "StyleView",
            "description_width": ""
          }
        },
        "35c2adcd1680438dae5d5c8ca2bee7af": {
          "model_module": "@jupyter-widgets/base",
          "model_name": "LayoutModel",
          "model_module_version": "1.2.0",
          "state": {
            "_model_module": "@jupyter-widgets/base",
            "_model_module_version": "1.2.0",
            "_model_name": "LayoutModel",
            "_view_count": null,
            "_view_module": "@jupyter-widgets/base",
            "_view_module_version": "1.2.0",
            "_view_name": "LayoutView",
            "align_content": null,
            "align_items": null,
            "align_self": null,
            "border": null,
            "bottom": null,
            "display": null,
            "flex": null,
            "flex_flow": null,
            "grid_area": null,
            "grid_auto_columns": null,
            "grid_auto_flow": null,
            "grid_auto_rows": null,
            "grid_column": null,
            "grid_gap": null,
            "grid_row": null,
            "grid_template_areas": null,
            "grid_template_columns": null,
            "grid_template_rows": null,
            "height": null,
            "justify_content": null,
            "justify_items": null,
            "left": null,
            "margin": null,
            "max_height": null,
            "max_width": null,
            "min_height": null,
            "min_width": null,
            "object_fit": null,
            "object_position": null,
            "order": null,
            "overflow": null,
            "overflow_x": null,
            "overflow_y": null,
            "padding": null,
            "right": null,
            "top": null,
            "visibility": null,
            "width": null
          }
        },
        "7f7aacdf702f42c19ab015380437533e": {
          "model_module": "@jupyter-widgets/controls",
          "model_name": "ProgressStyleModel",
          "model_module_version": "1.5.0",
          "state": {
            "_model_module": "@jupyter-widgets/controls",
            "_model_module_version": "1.5.0",
            "_model_name": "ProgressStyleModel",
            "_view_count": null,
            "_view_module": "@jupyter-widgets/base",
            "_view_module_version": "1.2.0",
            "_view_name": "StyleView",
            "bar_color": null,
            "description_width": ""
          }
        },
        "de5116070741491d998e338a4ffedecc": {
          "model_module": "@jupyter-widgets/base",
          "model_name": "LayoutModel",
          "model_module_version": "1.2.0",
          "state": {
            "_model_module": "@jupyter-widgets/base",
            "_model_module_version": "1.2.0",
            "_model_name": "LayoutModel",
            "_view_count": null,
            "_view_module": "@jupyter-widgets/base",
            "_view_module_version": "1.2.0",
            "_view_name": "LayoutView",
            "align_content": null,
            "align_items": null,
            "align_self": null,
            "border": null,
            "bottom": null,
            "display": null,
            "flex": null,
            "flex_flow": null,
            "grid_area": null,
            "grid_auto_columns": null,
            "grid_auto_flow": null,
            "grid_auto_rows": null,
            "grid_column": null,
            "grid_gap": null,
            "grid_row": null,
            "grid_template_areas": null,
            "grid_template_columns": null,
            "grid_template_rows": null,
            "height": null,
            "justify_content": null,
            "justify_items": null,
            "left": null,
            "margin": null,
            "max_height": null,
            "max_width": null,
            "min_height": null,
            "min_width": null,
            "object_fit": null,
            "object_position": null,
            "order": null,
            "overflow": null,
            "overflow_x": null,
            "overflow_y": null,
            "padding": null,
            "right": null,
            "top": null,
            "visibility": null,
            "width": null
          }
        },
        "ece0c1984c3b4cdaa1dff8b23dda3746": {
          "model_module": "@jupyter-widgets/controls",
          "model_name": "DescriptionStyleModel",
          "model_module_version": "1.5.0",
          "state": {
            "_model_module": "@jupyter-widgets/controls",
            "_model_module_version": "1.5.0",
            "_model_name": "DescriptionStyleModel",
            "_view_count": null,
            "_view_module": "@jupyter-widgets/base",
            "_view_module_version": "1.2.0",
            "_view_name": "StyleView",
            "description_width": ""
          }
        },
        "dcd86ba23b6649ddbd828a7a5cf286c6": {
          "model_module": "@jupyter-widgets/controls",
          "model_name": "HBoxModel",
          "model_module_version": "1.5.0",
          "state": {
            "_dom_classes": [],
            "_model_module": "@jupyter-widgets/controls",
            "_model_module_version": "1.5.0",
            "_model_name": "HBoxModel",
            "_view_count": null,
            "_view_module": "@jupyter-widgets/controls",
            "_view_module_version": "1.5.0",
            "_view_name": "HBoxView",
            "box_style": "",
            "children": [
              "IPY_MODEL_598c3abb69bf40549b7d568de0d29efd",
              "IPY_MODEL_bba972cac2d9409b969c594857aea56e",
              "IPY_MODEL_0eea52be5d2044eb9ac99c63bd41e5cc"
            ],
            "layout": "IPY_MODEL_822960d325114799a6c50092e97d59b3"
          }
        },
        "598c3abb69bf40549b7d568de0d29efd": {
          "model_module": "@jupyter-widgets/controls",
          "model_name": "HTMLModel",
          "model_module_version": "1.5.0",
          "state": {
            "_dom_classes": [],
            "_model_module": "@jupyter-widgets/controls",
            "_model_module_version": "1.5.0",
            "_model_name": "HTMLModel",
            "_view_count": null,
            "_view_module": "@jupyter-widgets/controls",
            "_view_module_version": "1.5.0",
            "_view_name": "HTMLView",
            "description": "",
            "description_tooltip": null,
            "layout": "IPY_MODEL_10a09658947d48ec878b056c2c07222b",
            "placeholder": "​",
            "style": "IPY_MODEL_a5bdf1dfb4694d54ac99c03ddb26f980",
            "value": "Generating train split: 100%"
          }
        },
        "bba972cac2d9409b969c594857aea56e": {
          "model_module": "@jupyter-widgets/controls",
          "model_name": "FloatProgressModel",
          "model_module_version": "1.5.0",
          "state": {
            "_dom_classes": [],
            "_model_module": "@jupyter-widgets/controls",
            "_model_module_version": "1.5.0",
            "_model_name": "FloatProgressModel",
            "_view_count": null,
            "_view_module": "@jupyter-widgets/controls",
            "_view_module_version": "1.5.0",
            "_view_name": "ProgressView",
            "bar_style": "success",
            "description": "",
            "description_tooltip": null,
            "layout": "IPY_MODEL_90c3e11a55ad400cbf11f495e9cd212d",
            "max": 9543,
            "min": 0,
            "orientation": "horizontal",
            "style": "IPY_MODEL_87e4150aba2246328bb973f3b3731e7c",
            "value": 9543
          }
        },
        "0eea52be5d2044eb9ac99c63bd41e5cc": {
          "model_module": "@jupyter-widgets/controls",
          "model_name": "HTMLModel",
          "model_module_version": "1.5.0",
          "state": {
            "_dom_classes": [],
            "_model_module": "@jupyter-widgets/controls",
            "_model_module_version": "1.5.0",
            "_model_name": "HTMLModel",
            "_view_count": null,
            "_view_module": "@jupyter-widgets/controls",
            "_view_module_version": "1.5.0",
            "_view_name": "HTMLView",
            "description": "",
            "description_tooltip": null,
            "layout": "IPY_MODEL_32a8539cb9764c6ebbc627ba43841623",
            "placeholder": "​",
            "style": "IPY_MODEL_0a43cf4de75f4c1ba00e201177a27924",
            "value": " 9543/9543 [00:00&lt;00:00, 44480.97 examples/s]"
          }
        },
        "822960d325114799a6c50092e97d59b3": {
          "model_module": "@jupyter-widgets/base",
          "model_name": "LayoutModel",
          "model_module_version": "1.2.0",
          "state": {
            "_model_module": "@jupyter-widgets/base",
            "_model_module_version": "1.2.0",
            "_model_name": "LayoutModel",
            "_view_count": null,
            "_view_module": "@jupyter-widgets/base",
            "_view_module_version": "1.2.0",
            "_view_name": "LayoutView",
            "align_content": null,
            "align_items": null,
            "align_self": null,
            "border": null,
            "bottom": null,
            "display": null,
            "flex": null,
            "flex_flow": null,
            "grid_area": null,
            "grid_auto_columns": null,
            "grid_auto_flow": null,
            "grid_auto_rows": null,
            "grid_column": null,
            "grid_gap": null,
            "grid_row": null,
            "grid_template_areas": null,
            "grid_template_columns": null,
            "grid_template_rows": null,
            "height": null,
            "justify_content": null,
            "justify_items": null,
            "left": null,
            "margin": null,
            "max_height": null,
            "max_width": null,
            "min_height": null,
            "min_width": null,
            "object_fit": null,
            "object_position": null,
            "order": null,
            "overflow": null,
            "overflow_x": null,
            "overflow_y": null,
            "padding": null,
            "right": null,
            "top": null,
            "visibility": null,
            "width": null
          }
        },
        "10a09658947d48ec878b056c2c07222b": {
          "model_module": "@jupyter-widgets/base",
          "model_name": "LayoutModel",
          "model_module_version": "1.2.0",
          "state": {
            "_model_module": "@jupyter-widgets/base",
            "_model_module_version": "1.2.0",
            "_model_name": "LayoutModel",
            "_view_count": null,
            "_view_module": "@jupyter-widgets/base",
            "_view_module_version": "1.2.0",
            "_view_name": "LayoutView",
            "align_content": null,
            "align_items": null,
            "align_self": null,
            "border": null,
            "bottom": null,
            "display": null,
            "flex": null,
            "flex_flow": null,
            "grid_area": null,
            "grid_auto_columns": null,
            "grid_auto_flow": null,
            "grid_auto_rows": null,
            "grid_column": null,
            "grid_gap": null,
            "grid_row": null,
            "grid_template_areas": null,
            "grid_template_columns": null,
            "grid_template_rows": null,
            "height": null,
            "justify_content": null,
            "justify_items": null,
            "left": null,
            "margin": null,
            "max_height": null,
            "max_width": null,
            "min_height": null,
            "min_width": null,
            "object_fit": null,
            "object_position": null,
            "order": null,
            "overflow": null,
            "overflow_x": null,
            "overflow_y": null,
            "padding": null,
            "right": null,
            "top": null,
            "visibility": null,
            "width": null
          }
        },
        "a5bdf1dfb4694d54ac99c03ddb26f980": {
          "model_module": "@jupyter-widgets/controls",
          "model_name": "DescriptionStyleModel",
          "model_module_version": "1.5.0",
          "state": {
            "_model_module": "@jupyter-widgets/controls",
            "_model_module_version": "1.5.0",
            "_model_name": "DescriptionStyleModel",
            "_view_count": null,
            "_view_module": "@jupyter-widgets/base",
            "_view_module_version": "1.2.0",
            "_view_name": "StyleView",
            "description_width": ""
          }
        },
        "90c3e11a55ad400cbf11f495e9cd212d": {
          "model_module": "@jupyter-widgets/base",
          "model_name": "LayoutModel",
          "model_module_version": "1.2.0",
          "state": {
            "_model_module": "@jupyter-widgets/base",
            "_model_module_version": "1.2.0",
            "_model_name": "LayoutModel",
            "_view_count": null,
            "_view_module": "@jupyter-widgets/base",
            "_view_module_version": "1.2.0",
            "_view_name": "LayoutView",
            "align_content": null,
            "align_items": null,
            "align_self": null,
            "border": null,
            "bottom": null,
            "display": null,
            "flex": null,
            "flex_flow": null,
            "grid_area": null,
            "grid_auto_columns": null,
            "grid_auto_flow": null,
            "grid_auto_rows": null,
            "grid_column": null,
            "grid_gap": null,
            "grid_row": null,
            "grid_template_areas": null,
            "grid_template_columns": null,
            "grid_template_rows": null,
            "height": null,
            "justify_content": null,
            "justify_items": null,
            "left": null,
            "margin": null,
            "max_height": null,
            "max_width": null,
            "min_height": null,
            "min_width": null,
            "object_fit": null,
            "object_position": null,
            "order": null,
            "overflow": null,
            "overflow_x": null,
            "overflow_y": null,
            "padding": null,
            "right": null,
            "top": null,
            "visibility": null,
            "width": null
          }
        },
        "87e4150aba2246328bb973f3b3731e7c": {
          "model_module": "@jupyter-widgets/controls",
          "model_name": "ProgressStyleModel",
          "model_module_version": "1.5.0",
          "state": {
            "_model_module": "@jupyter-widgets/controls",
            "_model_module_version": "1.5.0",
            "_model_name": "ProgressStyleModel",
            "_view_count": null,
            "_view_module": "@jupyter-widgets/base",
            "_view_module_version": "1.2.0",
            "_view_name": "StyleView",
            "bar_color": null,
            "description_width": ""
          }
        },
        "32a8539cb9764c6ebbc627ba43841623": {
          "model_module": "@jupyter-widgets/base",
          "model_name": "LayoutModel",
          "model_module_version": "1.2.0",
          "state": {
            "_model_module": "@jupyter-widgets/base",
            "_model_module_version": "1.2.0",
            "_model_name": "LayoutModel",
            "_view_count": null,
            "_view_module": "@jupyter-widgets/base",
            "_view_module_version": "1.2.0",
            "_view_name": "LayoutView",
            "align_content": null,
            "align_items": null,
            "align_self": null,
            "border": null,
            "bottom": null,
            "display": null,
            "flex": null,
            "flex_flow": null,
            "grid_area": null,
            "grid_auto_columns": null,
            "grid_auto_flow": null,
            "grid_auto_rows": null,
            "grid_column": null,
            "grid_gap": null,
            "grid_row": null,
            "grid_template_areas": null,
            "grid_template_columns": null,
            "grid_template_rows": null,
            "height": null,
            "justify_content": null,
            "justify_items": null,
            "left": null,
            "margin": null,
            "max_height": null,
            "max_width": null,
            "min_height": null,
            "min_width": null,
            "object_fit": null,
            "object_position": null,
            "order": null,
            "overflow": null,
            "overflow_x": null,
            "overflow_y": null,
            "padding": null,
            "right": null,
            "top": null,
            "visibility": null,
            "width": null
          }
        },
        "0a43cf4de75f4c1ba00e201177a27924": {
          "model_module": "@jupyter-widgets/controls",
          "model_name": "DescriptionStyleModel",
          "model_module_version": "1.5.0",
          "state": {
            "_model_module": "@jupyter-widgets/controls",
            "_model_module_version": "1.5.0",
            "_model_name": "DescriptionStyleModel",
            "_view_count": null,
            "_view_module": "@jupyter-widgets/base",
            "_view_module_version": "1.2.0",
            "_view_name": "StyleView",
            "description_width": ""
          }
        },
        "30b9d9a1e7fe430d9a38defc4181158f": {
          "model_module": "@jupyter-widgets/controls",
          "model_name": "HBoxModel",
          "model_module_version": "1.5.0",
          "state": {
            "_dom_classes": [],
            "_model_module": "@jupyter-widgets/controls",
            "_model_module_version": "1.5.0",
            "_model_name": "HBoxModel",
            "_view_count": null,
            "_view_module": "@jupyter-widgets/controls",
            "_view_module_version": "1.5.0",
            "_view_name": "HBoxView",
            "box_style": "",
            "children": [
              "IPY_MODEL_5ec14639afdc4dbcb8721684f9fd733a",
              "IPY_MODEL_4b0bb36180384712a423327e952af0a5",
              "IPY_MODEL_6e3d1a2164d54ed0ab0399d8e7d0ffe4"
            ],
            "layout": "IPY_MODEL_17086e4fd6d448adafb09b89c665492a"
          }
        },
        "5ec14639afdc4dbcb8721684f9fd733a": {
          "model_module": "@jupyter-widgets/controls",
          "model_name": "HTMLModel",
          "model_module_version": "1.5.0",
          "state": {
            "_dom_classes": [],
            "_model_module": "@jupyter-widgets/controls",
            "_model_module_version": "1.5.0",
            "_model_name": "HTMLModel",
            "_view_count": null,
            "_view_module": "@jupyter-widgets/controls",
            "_view_module_version": "1.5.0",
            "_view_name": "HTMLView",
            "description": "",
            "description_tooltip": null,
            "layout": "IPY_MODEL_825f931e986c4a2ea10a8c9c1c7f54b3",
            "placeholder": "​",
            "style": "IPY_MODEL_22ac07c8cd4b45d7be482090ac060949",
            "value": "Generating validation split: 100%"
          }
        },
        "4b0bb36180384712a423327e952af0a5": {
          "model_module": "@jupyter-widgets/controls",
          "model_name": "FloatProgressModel",
          "model_module_version": "1.5.0",
          "state": {
            "_dom_classes": [],
            "_model_module": "@jupyter-widgets/controls",
            "_model_module_version": "1.5.0",
            "_model_name": "FloatProgressModel",
            "_view_count": null,
            "_view_module": "@jupyter-widgets/controls",
            "_view_module_version": "1.5.0",
            "_view_name": "ProgressView",
            "bar_style": "success",
            "description": "",
            "description_tooltip": null,
            "layout": "IPY_MODEL_9ae104893d5b4fa2a93f2560ba82895a",
            "max": 2388,
            "min": 0,
            "orientation": "horizontal",
            "style": "IPY_MODEL_5f31dd9d6f3d457bb4a18369ebdbcfa3",
            "value": 2388
          }
        },
        "6e3d1a2164d54ed0ab0399d8e7d0ffe4": {
          "model_module": "@jupyter-widgets/controls",
          "model_name": "HTMLModel",
          "model_module_version": "1.5.0",
          "state": {
            "_dom_classes": [],
            "_model_module": "@jupyter-widgets/controls",
            "_model_module_version": "1.5.0",
            "_model_name": "HTMLModel",
            "_view_count": null,
            "_view_module": "@jupyter-widgets/controls",
            "_view_module_version": "1.5.0",
            "_view_name": "HTMLView",
            "description": "",
            "description_tooltip": null,
            "layout": "IPY_MODEL_01fdd78e8c1f47b4b202bc6c94f36460",
            "placeholder": "​",
            "style": "IPY_MODEL_4c9f7ccf31034cfcbd344e989097b451",
            "value": " 2388/2388 [00:00&lt;00:00, 22039.19 examples/s]"
          }
        },
        "17086e4fd6d448adafb09b89c665492a": {
          "model_module": "@jupyter-widgets/base",
          "model_name": "LayoutModel",
          "model_module_version": "1.2.0",
          "state": {
            "_model_module": "@jupyter-widgets/base",
            "_model_module_version": "1.2.0",
            "_model_name": "LayoutModel",
            "_view_count": null,
            "_view_module": "@jupyter-widgets/base",
            "_view_module_version": "1.2.0",
            "_view_name": "LayoutView",
            "align_content": null,
            "align_items": null,
            "align_self": null,
            "border": null,
            "bottom": null,
            "display": null,
            "flex": null,
            "flex_flow": null,
            "grid_area": null,
            "grid_auto_columns": null,
            "grid_auto_flow": null,
            "grid_auto_rows": null,
            "grid_column": null,
            "grid_gap": null,
            "grid_row": null,
            "grid_template_areas": null,
            "grid_template_columns": null,
            "grid_template_rows": null,
            "height": null,
            "justify_content": null,
            "justify_items": null,
            "left": null,
            "margin": null,
            "max_height": null,
            "max_width": null,
            "min_height": null,
            "min_width": null,
            "object_fit": null,
            "object_position": null,
            "order": null,
            "overflow": null,
            "overflow_x": null,
            "overflow_y": null,
            "padding": null,
            "right": null,
            "top": null,
            "visibility": null,
            "width": null
          }
        },
        "825f931e986c4a2ea10a8c9c1c7f54b3": {
          "model_module": "@jupyter-widgets/base",
          "model_name": "LayoutModel",
          "model_module_version": "1.2.0",
          "state": {
            "_model_module": "@jupyter-widgets/base",
            "_model_module_version": "1.2.0",
            "_model_name": "LayoutModel",
            "_view_count": null,
            "_view_module": "@jupyter-widgets/base",
            "_view_module_version": "1.2.0",
            "_view_name": "LayoutView",
            "align_content": null,
            "align_items": null,
            "align_self": null,
            "border": null,
            "bottom": null,
            "display": null,
            "flex": null,
            "flex_flow": null,
            "grid_area": null,
            "grid_auto_columns": null,
            "grid_auto_flow": null,
            "grid_auto_rows": null,
            "grid_column": null,
            "grid_gap": null,
            "grid_row": null,
            "grid_template_areas": null,
            "grid_template_columns": null,
            "grid_template_rows": null,
            "height": null,
            "justify_content": null,
            "justify_items": null,
            "left": null,
            "margin": null,
            "max_height": null,
            "max_width": null,
            "min_height": null,
            "min_width": null,
            "object_fit": null,
            "object_position": null,
            "order": null,
            "overflow": null,
            "overflow_x": null,
            "overflow_y": null,
            "padding": null,
            "right": null,
            "top": null,
            "visibility": null,
            "width": null
          }
        },
        "22ac07c8cd4b45d7be482090ac060949": {
          "model_module": "@jupyter-widgets/controls",
          "model_name": "DescriptionStyleModel",
          "model_module_version": "1.5.0",
          "state": {
            "_model_module": "@jupyter-widgets/controls",
            "_model_module_version": "1.5.0",
            "_model_name": "DescriptionStyleModel",
            "_view_count": null,
            "_view_module": "@jupyter-widgets/base",
            "_view_module_version": "1.2.0",
            "_view_name": "StyleView",
            "description_width": ""
          }
        },
        "9ae104893d5b4fa2a93f2560ba82895a": {
          "model_module": "@jupyter-widgets/base",
          "model_name": "LayoutModel",
          "model_module_version": "1.2.0",
          "state": {
            "_model_module": "@jupyter-widgets/base",
            "_model_module_version": "1.2.0",
            "_model_name": "LayoutModel",
            "_view_count": null,
            "_view_module": "@jupyter-widgets/base",
            "_view_module_version": "1.2.0",
            "_view_name": "LayoutView",
            "align_content": null,
            "align_items": null,
            "align_self": null,
            "border": null,
            "bottom": null,
            "display": null,
            "flex": null,
            "flex_flow": null,
            "grid_area": null,
            "grid_auto_columns": null,
            "grid_auto_flow": null,
            "grid_auto_rows": null,
            "grid_column": null,
            "grid_gap": null,
            "grid_row": null,
            "grid_template_areas": null,
            "grid_template_columns": null,
            "grid_template_rows": null,
            "height": null,
            "justify_content": null,
            "justify_items": null,
            "left": null,
            "margin": null,
            "max_height": null,
            "max_width": null,
            "min_height": null,
            "min_width": null,
            "object_fit": null,
            "object_position": null,
            "order": null,
            "overflow": null,
            "overflow_x": null,
            "overflow_y": null,
            "padding": null,
            "right": null,
            "top": null,
            "visibility": null,
            "width": null
          }
        },
        "5f31dd9d6f3d457bb4a18369ebdbcfa3": {
          "model_module": "@jupyter-widgets/controls",
          "model_name": "ProgressStyleModel",
          "model_module_version": "1.5.0",
          "state": {
            "_model_module": "@jupyter-widgets/controls",
            "_model_module_version": "1.5.0",
            "_model_name": "ProgressStyleModel",
            "_view_count": null,
            "_view_module": "@jupyter-widgets/base",
            "_view_module_version": "1.2.0",
            "_view_name": "StyleView",
            "bar_color": null,
            "description_width": ""
          }
        },
        "01fdd78e8c1f47b4b202bc6c94f36460": {
          "model_module": "@jupyter-widgets/base",
          "model_name": "LayoutModel",
          "model_module_version": "1.2.0",
          "state": {
            "_model_module": "@jupyter-widgets/base",
            "_model_module_version": "1.2.0",
            "_model_name": "LayoutModel",
            "_view_count": null,
            "_view_module": "@jupyter-widgets/base",
            "_view_module_version": "1.2.0",
            "_view_name": "LayoutView",
            "align_content": null,
            "align_items": null,
            "align_self": null,
            "border": null,
            "bottom": null,
            "display": null,
            "flex": null,
            "flex_flow": null,
            "grid_area": null,
            "grid_auto_columns": null,
            "grid_auto_flow": null,
            "grid_auto_rows": null,
            "grid_column": null,
            "grid_gap": null,
            "grid_row": null,
            "grid_template_areas": null,
            "grid_template_columns": null,
            "grid_template_rows": null,
            "height": null,
            "justify_content": null,
            "justify_items": null,
            "left": null,
            "margin": null,
            "max_height": null,
            "max_width": null,
            "min_height": null,
            "min_width": null,
            "object_fit": null,
            "object_position": null,
            "order": null,
            "overflow": null,
            "overflow_x": null,
            "overflow_y": null,
            "padding": null,
            "right": null,
            "top": null,
            "visibility": null,
            "width": null
          }
        },
        "4c9f7ccf31034cfcbd344e989097b451": {
          "model_module": "@jupyter-widgets/controls",
          "model_name": "DescriptionStyleModel",
          "model_module_version": "1.5.0",
          "state": {
            "_model_module": "@jupyter-widgets/controls",
            "_model_module_version": "1.5.0",
            "_model_name": "DescriptionStyleModel",
            "_view_count": null,
            "_view_module": "@jupyter-widgets/base",
            "_view_module_version": "1.2.0",
            "_view_name": "StyleView",
            "description_width": ""
          }
        }
      }
    }
  },
  "cells": [
    {
      "cell_type": "markdown",
      "metadata": {
        "id": "view-in-github",
        "colab_type": "text"
      },
      "source": [
        "<a href=\"https://colab.research.google.com/github/TongyuZ/GenAI_Final/blob/main/Copy_of_gpt4o_mini.ipynb\" target=\"_parent\"><img src=\"https://colab.research.google.com/assets/colab-badge.svg\" alt=\"Open In Colab\"/></a>"
      ]
    },
    {
      "cell_type": "code",
      "source": [
        "! pip install datasets"
      ],
      "metadata": {
        "colab": {
          "base_uri": "https://localhost:8080/"
        },
        "id": "bdtROjq6H9ii",
        "outputId": "526525f5-1f81-4df4-c045-a553629d6fa3"
      },
      "execution_count": null,
      "outputs": [
        {
          "output_type": "stream",
          "name": "stdout",
          "text": [
            "Collecting datasets\n",
            "  Downloading datasets-3.1.0-py3-none-any.whl.metadata (20 kB)\n",
            "Requirement already satisfied: filelock in /usr/local/lib/python3.10/dist-packages (from datasets) (3.16.1)\n",
            "Requirement already satisfied: numpy>=1.17 in /usr/local/lib/python3.10/dist-packages (from datasets) (1.26.4)\n",
            "Requirement already satisfied: pyarrow>=15.0.0 in /usr/local/lib/python3.10/dist-packages (from datasets) (17.0.0)\n",
            "Collecting dill<0.3.9,>=0.3.0 (from datasets)\n",
            "  Downloading dill-0.3.8-py3-none-any.whl.metadata (10 kB)\n",
            "Requirement already satisfied: pandas in /usr/local/lib/python3.10/dist-packages (from datasets) (2.2.2)\n",
            "Requirement already satisfied: requests>=2.32.2 in /usr/local/lib/python3.10/dist-packages (from datasets) (2.32.3)\n",
            "Requirement already satisfied: tqdm>=4.66.3 in /usr/local/lib/python3.10/dist-packages (from datasets) (4.66.6)\n",
            "Collecting xxhash (from datasets)\n",
            "  Downloading xxhash-3.5.0-cp310-cp310-manylinux_2_17_x86_64.manylinux2014_x86_64.whl.metadata (12 kB)\n",
            "Collecting multiprocess<0.70.17 (from datasets)\n",
            "  Downloading multiprocess-0.70.16-py310-none-any.whl.metadata (7.2 kB)\n",
            "Collecting fsspec<=2024.9.0,>=2023.1.0 (from fsspec[http]<=2024.9.0,>=2023.1.0->datasets)\n",
            "  Downloading fsspec-2024.9.0-py3-none-any.whl.metadata (11 kB)\n",
            "Requirement already satisfied: aiohttp in /usr/local/lib/python3.10/dist-packages (from datasets) (3.11.2)\n",
            "Requirement already satisfied: huggingface-hub>=0.23.0 in /usr/local/lib/python3.10/dist-packages (from datasets) (0.26.2)\n",
            "Requirement already satisfied: packaging in /usr/local/lib/python3.10/dist-packages (from datasets) (24.2)\n",
            "Requirement already satisfied: pyyaml>=5.1 in /usr/local/lib/python3.10/dist-packages (from datasets) (6.0.2)\n",
            "Requirement already satisfied: aiohappyeyeballs>=2.3.0 in /usr/local/lib/python3.10/dist-packages (from aiohttp->datasets) (2.4.3)\n",
            "Requirement already satisfied: aiosignal>=1.1.2 in /usr/local/lib/python3.10/dist-packages (from aiohttp->datasets) (1.3.1)\n",
            "Requirement already satisfied: attrs>=17.3.0 in /usr/local/lib/python3.10/dist-packages (from aiohttp->datasets) (24.2.0)\n",
            "Requirement already satisfied: frozenlist>=1.1.1 in /usr/local/lib/python3.10/dist-packages (from aiohttp->datasets) (1.5.0)\n",
            "Requirement already satisfied: multidict<7.0,>=4.5 in /usr/local/lib/python3.10/dist-packages (from aiohttp->datasets) (6.1.0)\n",
            "Requirement already satisfied: propcache>=0.2.0 in /usr/local/lib/python3.10/dist-packages (from aiohttp->datasets) (0.2.0)\n",
            "Requirement already satisfied: yarl<2.0,>=1.17.0 in /usr/local/lib/python3.10/dist-packages (from aiohttp->datasets) (1.17.2)\n",
            "Requirement already satisfied: async-timeout<6.0,>=4.0 in /usr/local/lib/python3.10/dist-packages (from aiohttp->datasets) (4.0.3)\n",
            "Requirement already satisfied: typing-extensions>=3.7.4.3 in /usr/local/lib/python3.10/dist-packages (from huggingface-hub>=0.23.0->datasets) (4.12.2)\n",
            "Requirement already satisfied: charset-normalizer<4,>=2 in /usr/local/lib/python3.10/dist-packages (from requests>=2.32.2->datasets) (3.4.0)\n",
            "Requirement already satisfied: idna<4,>=2.5 in /usr/local/lib/python3.10/dist-packages (from requests>=2.32.2->datasets) (3.10)\n",
            "Requirement already satisfied: urllib3<3,>=1.21.1 in /usr/local/lib/python3.10/dist-packages (from requests>=2.32.2->datasets) (2.2.3)\n",
            "Requirement already satisfied: certifi>=2017.4.17 in /usr/local/lib/python3.10/dist-packages (from requests>=2.32.2->datasets) (2024.8.30)\n",
            "Requirement already satisfied: python-dateutil>=2.8.2 in /usr/local/lib/python3.10/dist-packages (from pandas->datasets) (2.8.2)\n",
            "Requirement already satisfied: pytz>=2020.1 in /usr/local/lib/python3.10/dist-packages (from pandas->datasets) (2024.2)\n",
            "Requirement already satisfied: tzdata>=2022.7 in /usr/local/lib/python3.10/dist-packages (from pandas->datasets) (2024.2)\n",
            "Requirement already satisfied: six>=1.5 in /usr/local/lib/python3.10/dist-packages (from python-dateutil>=2.8.2->pandas->datasets) (1.16.0)\n",
            "Downloading datasets-3.1.0-py3-none-any.whl (480 kB)\n",
            "\u001b[2K   \u001b[90m━━━━━━━━━━━━━━━━━━━━━━━━━━━━━━━━━━━━━━━━\u001b[0m \u001b[32m480.6/480.6 kB\u001b[0m \u001b[31m8.4 MB/s\u001b[0m eta \u001b[36m0:00:00\u001b[0m\n",
            "\u001b[?25hDownloading dill-0.3.8-py3-none-any.whl (116 kB)\n",
            "\u001b[2K   \u001b[90m━━━━━━━━━━━━━━━━━━━━━━━━━━━━━━━━━━━━━━━━\u001b[0m \u001b[32m116.3/116.3 kB\u001b[0m \u001b[31m5.3 MB/s\u001b[0m eta \u001b[36m0:00:00\u001b[0m\n",
            "\u001b[?25hDownloading fsspec-2024.9.0-py3-none-any.whl (179 kB)\n",
            "\u001b[2K   \u001b[90m━━━━━━━━━━━━━━━━━━━━━━━━━━━━━━━━━━━━━━━━\u001b[0m \u001b[32m179.3/179.3 kB\u001b[0m \u001b[31m14.5 MB/s\u001b[0m eta \u001b[36m0:00:00\u001b[0m\n",
            "\u001b[?25hDownloading multiprocess-0.70.16-py310-none-any.whl (134 kB)\n",
            "\u001b[2K   \u001b[90m━━━━━━━━━━━━━━━━━━━━━━━━━━━━━━━━━━━━━━━━\u001b[0m \u001b[32m134.8/134.8 kB\u001b[0m \u001b[31m7.3 MB/s\u001b[0m eta \u001b[36m0:00:00\u001b[0m\n",
            "\u001b[?25hDownloading xxhash-3.5.0-cp310-cp310-manylinux_2_17_x86_64.manylinux2014_x86_64.whl (194 kB)\n",
            "\u001b[2K   \u001b[90m━━━━━━━━━━━━━━━━━━━━━━━━━━━━━━━━━━━━━━━━\u001b[0m \u001b[32m194.1/194.1 kB\u001b[0m \u001b[31m16.4 MB/s\u001b[0m eta \u001b[36m0:00:00\u001b[0m\n",
            "\u001b[?25hInstalling collected packages: xxhash, fsspec, dill, multiprocess, datasets\n",
            "  Attempting uninstall: fsspec\n",
            "    Found existing installation: fsspec 2024.10.0\n",
            "    Uninstalling fsspec-2024.10.0:\n",
            "      Successfully uninstalled fsspec-2024.10.0\n",
            "\u001b[31mERROR: pip's dependency resolver does not currently take into account all the packages that are installed. This behaviour is the source of the following dependency conflicts.\n",
            "gcsfs 2024.10.0 requires fsspec==2024.10.0, but you have fsspec 2024.9.0 which is incompatible.\u001b[0m\u001b[31m\n",
            "\u001b[0mSuccessfully installed datasets-3.1.0 dill-0.3.8 fsspec-2024.9.0 multiprocess-0.70.16 xxhash-3.5.0\n"
          ]
        }
      ]
    },
    {
      "cell_type": "code",
      "execution_count": null,
      "metadata": {
        "id": "YFrhle9CFn8O",
        "colab": {
          "base_uri": "https://localhost:8080/",
          "height": 177,
          "referenced_widgets": [
            "25b529b1887d428fac77c8db69b3892f",
            "cf2708687e4b4fd5b29941f3b46b0f51",
            "e0f0f409e7c144e8bf81dc2c8b02b3e6",
            "2f0ae44d069f4a36b0bf4e4d4c4b089d",
            "39541964c09e4c0bb3e7b2b8a22daf14",
            "d799d279d6924b939488e623379f1300",
            "a807aadfcba94d6ba92daec74a0fecd6",
            "aef95288b65e4de19e5edb891e60eec7",
            "9a902005e1f84b4fbe37a25d584af051",
            "2be2efbfaccb44e38c2b286cd36a7b16",
            "7bebda2877414f4f9e817892994952ab",
            "b41a5b28bc774cb1832e345f94bc6c54",
            "8002d9b845614af0b5899c9e676306e0",
            "f8ab4ef962db4e9085d43a94af26d40c",
            "f40d84e524f04e18907e9987bb829142",
            "ac42240151e540d7a06ff9e32d406167",
            "1069d24b561d4a7ba4e8e40e4f0ebe33",
            "80207a236d164d919a3d49858e5d3299",
            "ed0d2264ae8247c3a939ef74fa67f027",
            "3be3a550f565412d9244b6c42684eb86",
            "8024c9a47ec2427eacb4e9b9d23fc1cc",
            "50f04603cc3f44dcb85d3d6b557104d4",
            "bd1bccc7beae4d3c9a9152ccb832c88f",
            "ef3b17890bc44c269a85c648be8cd443",
            "fca4b7fd104842ccb399edd43914fba0",
            "e157053489e44f558d1a04c779b27daa",
            "64331751c3284dc1a6a13cadedd254c5",
            "150f6b9e40854d44b86082d3a38ad233",
            "62d77f9e6c194509afa29d4afb287e7d",
            "35c2adcd1680438dae5d5c8ca2bee7af",
            "7f7aacdf702f42c19ab015380437533e",
            "de5116070741491d998e338a4ffedecc",
            "ece0c1984c3b4cdaa1dff8b23dda3746",
            "dcd86ba23b6649ddbd828a7a5cf286c6",
            "598c3abb69bf40549b7d568de0d29efd",
            "bba972cac2d9409b969c594857aea56e",
            "0eea52be5d2044eb9ac99c63bd41e5cc",
            "822960d325114799a6c50092e97d59b3",
            "10a09658947d48ec878b056c2c07222b",
            "a5bdf1dfb4694d54ac99c03ddb26f980",
            "90c3e11a55ad400cbf11f495e9cd212d",
            "87e4150aba2246328bb973f3b3731e7c",
            "32a8539cb9764c6ebbc627ba43841623",
            "0a43cf4de75f4c1ba00e201177a27924",
            "30b9d9a1e7fe430d9a38defc4181158f",
            "5ec14639afdc4dbcb8721684f9fd733a",
            "4b0bb36180384712a423327e952af0a5",
            "6e3d1a2164d54ed0ab0399d8e7d0ffe4",
            "17086e4fd6d448adafb09b89c665492a",
            "825f931e986c4a2ea10a8c9c1c7f54b3",
            "22ac07c8cd4b45d7be482090ac060949",
            "9ae104893d5b4fa2a93f2560ba82895a",
            "5f31dd9d6f3d457bb4a18369ebdbcfa3",
            "01fdd78e8c1f47b4b202bc6c94f36460",
            "4c9f7ccf31034cfcbd344e989097b451"
          ]
        },
        "outputId": "5ad5945d-0693-4777-b848-f81fa544aebd"
      },
      "outputs": [
        {
          "output_type": "display_data",
          "data": {
            "text/plain": [
              "README.md:   0%|          | 0.00/1.39k [00:00<?, ?B/s]"
            ],
            "application/vnd.jupyter.widget-view+json": {
              "version_major": 2,
              "version_minor": 0,
              "model_id": "25b529b1887d428fac77c8db69b3892f"
            }
          },
          "metadata": {}
        },
        {
          "output_type": "display_data",
          "data": {
            "text/plain": [
              "sent_train.csv:   0%|          | 0.00/859k [00:00<?, ?B/s]"
            ],
            "application/vnd.jupyter.widget-view+json": {
              "version_major": 2,
              "version_minor": 0,
              "model_id": "b41a5b28bc774cb1832e345f94bc6c54"
            }
          },
          "metadata": {}
        },
        {
          "output_type": "display_data",
          "data": {
            "text/plain": [
              "sent_valid.csv:   0%|          | 0.00/217k [00:00<?, ?B/s]"
            ],
            "application/vnd.jupyter.widget-view+json": {
              "version_major": 2,
              "version_minor": 0,
              "model_id": "bd1bccc7beae4d3c9a9152ccb832c88f"
            }
          },
          "metadata": {}
        },
        {
          "output_type": "display_data",
          "data": {
            "text/plain": [
              "Generating train split:   0%|          | 0/9543 [00:00<?, ? examples/s]"
            ],
            "application/vnd.jupyter.widget-view+json": {
              "version_major": 2,
              "version_minor": 0,
              "model_id": "dcd86ba23b6649ddbd828a7a5cf286c6"
            }
          },
          "metadata": {}
        },
        {
          "output_type": "display_data",
          "data": {
            "text/plain": [
              "Generating validation split:   0%|          | 0/2388 [00:00<?, ? examples/s]"
            ],
            "application/vnd.jupyter.widget-view+json": {
              "version_major": 2,
              "version_minor": 0,
              "model_id": "30b9d9a1e7fe430d9a38defc4181158f"
            }
          },
          "metadata": {}
        }
      ],
      "source": [
        "import json\n",
        "from datasets import load_dataset\n",
        "\n",
        "ds = load_dataset(\"zeroshot/twitter-financial-news-sentiment\")\n",
        "\n",
        "# System message setting\n",
        "system_message = \"You are a helpful assistant that analyzes economic news for market signals. 0 represents a bearish market, 1 represents a bullish market, and 2 represents a neutral market.\"\n"
      ]
    },
    {
      "cell_type": "code",
      "source": [
        "import random"
      ],
      "metadata": {
        "id": "1BxXLDScP6e2"
      },
      "execution_count": null,
      "outputs": []
    },
    {
      "cell_type": "code",
      "source": [
        "# To avoid too much spending on fine tuning model, I only pick 1000 samples for each label.\n",
        "def sample_and_split_data(dataset, num_per_label=1000, train_split=0.8):\n",
        "    sampled_data = {label: [] for label in range(3)}\n",
        "    train_data, test_data = [], []\n",
        "\n",
        "    for example in dataset:\n",
        "        label = example['label']\n",
        "        if len(sampled_data[label]) < num_per_label:\n",
        "            sampled_data[label].append(example)\n",
        "\n",
        "    for label, examples in sampled_data.items():\n",
        "        random.shuffle(examples)\n",
        "        split_idx = int(len(examples) * train_split)\n",
        "        train_data.extend(examples[:split_idx])\n",
        "        test_data.extend(examples[split_idx:])\n",
        "\n",
        "    return train_data, test_data"
      ],
      "metadata": {
        "id": "Kji0P6NbPO0m"
      },
      "execution_count": null,
      "outputs": []
    },
    {
      "cell_type": "code",
      "source": [
        "train_data, test_data = sample_and_split_data(ds['train'], num_per_label=1000)"
      ],
      "metadata": {
        "id": "eQt0Q6MBP1ES"
      },
      "execution_count": null,
      "outputs": []
    },
    {
      "cell_type": "code",
      "source": [
        "# Write the data to a JSONL file\n",
        "def write_jsonl(data, filename):\n",
        "    with open(filename, \"w\") as f:\n",
        "        for example in data:\n",
        "            label = example['label']\n",
        "            text = example['text']\n",
        "\n",
        "            # Construct message format\n",
        "            messages = [\n",
        "                {\"role\": \"system\", \"content\": system_message},\n",
        "                {\"role\": \"user\", \"content\": f\"Please analyze the following news and determine the market sentiment. News: '{text}'\"},\n",
        "                {\"role\": \"assistant\", \"content\": str(label)}\n",
        "            ]\n",
        "\n",
        "            # Create a JSONL-compatible dictionary\n",
        "            json_line = {\n",
        "                \"messages\": messages\n",
        "            }\n",
        "\n",
        "            # Write each line as a JSON object\n",
        "            f.write(json.dumps(json_line) + \"\\n\")"
      ],
      "metadata": {
        "id": "Ys7WTUgIPCz7"
      },
      "execution_count": null,
      "outputs": []
    },
    {
      "cell_type": "code",
      "source": [
        "write_jsonl(train_data, \"gpt_4o_train_data.jsonl\")\n",
        "write_jsonl(test_data, \"gpt_4o_test_data.jsonl\")"
      ],
      "metadata": {
        "id": "KvIKv0CTQIu5"
      },
      "execution_count": null,
      "outputs": []
    },
    {
      "cell_type": "code",
      "source": [
        "! pip install openai"
      ],
      "metadata": {
        "colab": {
          "base_uri": "https://localhost:8080/"
        },
        "id": "ysBT8PfFNgR0",
        "outputId": "695dd3de-8f53-4d17-9868-6b00721a9720"
      },
      "execution_count": null,
      "outputs": [
        {
          "output_type": "stream",
          "name": "stdout",
          "text": [
            "Requirement already satisfied: openai in /usr/local/lib/python3.10/dist-packages (1.54.4)\n",
            "Requirement already satisfied: anyio<5,>=3.5.0 in /usr/local/lib/python3.10/dist-packages (from openai) (3.7.1)\n",
            "Requirement already satisfied: distro<2,>=1.7.0 in /usr/local/lib/python3.10/dist-packages (from openai) (1.9.0)\n",
            "Requirement already satisfied: httpx<1,>=0.23.0 in /usr/local/lib/python3.10/dist-packages (from openai) (0.27.2)\n",
            "Requirement already satisfied: jiter<1,>=0.4.0 in /usr/local/lib/python3.10/dist-packages (from openai) (0.7.1)\n",
            "Requirement already satisfied: pydantic<3,>=1.9.0 in /usr/local/lib/python3.10/dist-packages (from openai) (2.9.2)\n",
            "Requirement already satisfied: sniffio in /usr/local/lib/python3.10/dist-packages (from openai) (1.3.1)\n",
            "Requirement already satisfied: tqdm>4 in /usr/local/lib/python3.10/dist-packages (from openai) (4.66.6)\n",
            "Requirement already satisfied: typing-extensions<5,>=4.11 in /usr/local/lib/python3.10/dist-packages (from openai) (4.12.2)\n",
            "Requirement already satisfied: idna>=2.8 in /usr/local/lib/python3.10/dist-packages (from anyio<5,>=3.5.0->openai) (3.10)\n",
            "Requirement already satisfied: exceptiongroup in /usr/local/lib/python3.10/dist-packages (from anyio<5,>=3.5.0->openai) (1.2.2)\n",
            "Requirement already satisfied: certifi in /usr/local/lib/python3.10/dist-packages (from httpx<1,>=0.23.0->openai) (2024.8.30)\n",
            "Requirement already satisfied: httpcore==1.* in /usr/local/lib/python3.10/dist-packages (from httpx<1,>=0.23.0->openai) (1.0.7)\n",
            "Requirement already satisfied: h11<0.15,>=0.13 in /usr/local/lib/python3.10/dist-packages (from httpcore==1.*->httpx<1,>=0.23.0->openai) (0.14.0)\n",
            "Requirement already satisfied: annotated-types>=0.6.0 in /usr/local/lib/python3.10/dist-packages (from pydantic<3,>=1.9.0->openai) (0.7.0)\n",
            "Requirement already satisfied: pydantic-core==2.23.4 in /usr/local/lib/python3.10/dist-packages (from pydantic<3,>=1.9.0->openai) (2.23.4)\n"
          ]
        }
      ]
    },
    {
      "cell_type": "code",
      "source": [
        "import os\n",
        "\n",
        "os.environ[\"OPENAI_API_KEY\"] = \"x\""
      ],
      "metadata": {
        "id": "LpY_XKG5Oeuv"
      },
      "execution_count": null,
      "outputs": []
    },
    {
      "cell_type": "code",
      "source": [
        "import openai\n",
        "\n",
        "openai.api_key = os.getenv(\"OPENAI_API_KEY\")\n"
      ],
      "metadata": {
        "id": "iSTwesHsODMd"
      },
      "execution_count": null,
      "outputs": []
    },
    {
      "cell_type": "code",
      "source": [
        "import os\n",
        "from openai import OpenAI\n",
        "client = OpenAI()"
      ],
      "metadata": {
        "id": "HipMTBDvNtrI"
      },
      "execution_count": null,
      "outputs": []
    },
    {
      "cell_type": "code",
      "source": [
        "import os\n",
        "from openai import OpenAI\n",
        "client = OpenAI()\n",
        "\n",
        "\n",
        "client.files.create(\n",
        "  file=open(\"gpt_4o_train_data.jsonl\", \"rb\"),\n",
        "  purpose=\"fine-tune\"\n",
        ")"
      ],
      "metadata": {
        "colab": {
          "base_uri": "https://localhost:8080/"
        },
        "id": "EjCde2qIL3iU",
        "outputId": "e1555e7f-8a1c-42f2-aad7-d8ef87dc8e47"
      },
      "execution_count": null,
      "outputs": [
        {
          "output_type": "execute_result",
          "data": {
            "text/plain": [
              "FileObject(id='file-FkicmtAb3XUgJMXwcyvE72', bytes=1106451, created_at=1733073993, filename='gpt_4o_train_data.jsonl', object='file', purpose='fine-tune', status='processed', status_details=None)"
            ]
          },
          "metadata": {},
          "execution_count": 14
        }
      ]
    },
    {
      "cell_type": "code",
      "source": [
        "file_id = 'file-FkicmtAb3XUgJMXwcyvE72'\n",
        "client.files.retrieve(file_id)\n"
      ],
      "metadata": {
        "colab": {
          "base_uri": "https://localhost:8080/"
        },
        "id": "MHzgWRjEPq0C",
        "outputId": "46351adc-2b4e-4fa3-9d46-da00547045b1"
      },
      "execution_count": null,
      "outputs": [
        {
          "output_type": "execute_result",
          "data": {
            "text/plain": [
              "FileObject(id='file-FkicmtAb3XUgJMXwcyvE72', bytes=1106451, created_at=1733073993, filename='gpt_4o_train_data.jsonl', object='file', purpose='fine-tune', status='processed', status_details=None)"
            ]
          },
          "metadata": {},
          "execution_count": 15
        }
      ]
    },
    {
      "cell_type": "code",
      "source": [
        "client.fine_tuning.jobs.create(\n",
        "  training_file=file_id,\n",
        "  model=\"gpt-4o-mini-2024-07-18\"\n",
        ")"
      ],
      "metadata": {
        "colab": {
          "base_uri": "https://localhost:8080/"
        },
        "id": "7m0bMi-hPCWM",
        "outputId": "41cc5fa1-85fd-4405-dbd9-9c25797597d0"
      },
      "execution_count": null,
      "outputs": [
        {
          "output_type": "execute_result",
          "data": {
            "text/plain": [
              "FineTuningJob(id='ftjob-2wfp9bSQdEWdar2FKDAPRD1c', created_at=1733074066, error=Error(code=None, message=None, param=None), fine_tuned_model=None, finished_at=None, hyperparameters=Hyperparameters(n_epochs='auto', batch_size='auto', learning_rate_multiplier='auto'), model='gpt-4o-mini-2024-07-18', object='fine_tuning.job', organization_id='org-7UfU9UVVtgAEI9eU3wLDS1RH', result_files=[], seed=173121348, status='validating_files', trained_tokens=None, training_file='file-FkicmtAb3XUgJMXwcyvE72', validation_file=None, estimated_finish=None, integrations=[], user_provided_suffix=None)"
            ]
          },
          "metadata": {},
          "execution_count": 16
        }
      ]
    },
    {
      "cell_type": "code",
      "source": [
        "fine_tuning_id = 'ftjob-2wfp9bSQdEWdar2FKDAPRD1c'"
      ],
      "metadata": {
        "id": "zJrlVbrVR40s"
      },
      "execution_count": null,
      "outputs": []
    },
    {
      "cell_type": "code",
      "source": [
        "client.fine_tuning.jobs.retrieve(fine_tuning_id)"
      ],
      "metadata": {
        "colab": {
          "base_uri": "https://localhost:8080/"
        },
        "id": "y2XueO2fR3oM",
        "outputId": "71d26558-228c-4b4e-867a-33169922a16c"
      },
      "execution_count": null,
      "outputs": [
        {
          "output_type": "execute_result",
          "data": {
            "text/plain": [
              "FineTuningJob(id='ftjob-2wfp9bSQdEWdar2FKDAPRD1c', created_at=1733074066, error=Error(code=None, message=None, param=None), fine_tuned_model='ft:gpt-4o-mini-2024-07-18:chatgpt::AZidWqxp', finished_at=1733076425, hyperparameters=Hyperparameters(n_epochs=3, batch_size=4, learning_rate_multiplier=1.8), model='gpt-4o-mini-2024-07-18', object='fine_tuning.job', organization_id='org-7UfU9UVVtgAEI9eU3wLDS1RH', result_files=['file-SBNx5AYi7qwvV73Tvq24kz'], seed=173121348, status='succeeded', trained_tokens=631278, training_file='file-FkicmtAb3XUgJMXwcyvE72', validation_file=None, estimated_finish=None, integrations=[], user_provided_suffix=None)"
            ]
          },
          "metadata": {},
          "execution_count": 40
        }
      ]
    },
    {
      "cell_type": "code",
      "source": [
        "output_model = 'ft:gpt-4o-mini-2024-07-18:chatgpt::AZidWqxp'"
      ],
      "metadata": {
        "id": "LM2ItXv4eO4w"
      },
      "execution_count": null,
      "outputs": []
    },
    {
      "cell_type": "code",
      "source": [
        "import numpy as np\n",
        "from sklearn.metrics import (\n",
        "    accuracy_score,\n",
        "    precision_score,\n",
        "    recall_score,\n",
        "    f1_score,\n",
        "    classification_report,\n",
        "    confusion_matrix\n",
        ")\n",
        "from tqdm import tqdm\n",
        "import seaborn as sns\n",
        "import matplotlib.pyplot as plt\n",
        "\n",
        "test_texts = [example['text'] for example in test_data]\n",
        "true_labels = [example['label'] for example in test_data]\n",
        "\n",
        "predicted_labels = []\n",
        "\n",
        "# Predict labels\n",
        "for text in tqdm(test_texts, desc=\"Predicting labels\", unit=\"text\"):\n",
        "    response = client.chat.completions.create(\n",
        "        model=output_model,\n",
        "        messages=[\n",
        "            {\"role\": \"system\", \"content\": \"You are a helpful assistant that analyzes economic news for market signals. 0 represents a bearish market, 1 represents a bullish market, and 2 represents a neutral market.\"},\n",
        "            {\"role\": \"user\", \"content\": f\"Please analyze the following news and determine the market sentiment. News: '{text}'\"},\n",
        "        ]\n",
        "    )\n",
        "    prediction = int(response.choices[0].message.content.strip())\n",
        "    predicted_labels.append(prediction)\n",
        "\n",
        "# Calculate metrics\n",
        "accuracy = accuracy_score(true_labels, predicted_labels)\n",
        "precision = precision_score(true_labels, predicted_labels, average='weighted')\n",
        "recall = recall_score(true_labels, predicted_labels, average='weighted')\n",
        "f1 = f1_score(true_labels, predicted_labels, average='weighted')\n",
        "\n",
        "print(f\"Accuracy: {accuracy:.4f}\")\n",
        "print(f\"Precision: {precision:.4f}\")\n",
        "print(f\"Recall: {recall:.4f}\")\n",
        "print(f\"F1 Score: {f1:.4f}\")\n",
        "\n",
        "# Classification Report\n",
        "target_names = ['Bearish (0)', 'Bullish (1)', 'Neutral (2)']\n",
        "print(\"\\nClassification Report:\")\n",
        "print(classification_report(true_labels, predicted_labels, target_names=target_names))\n",
        "\n",
        "# Confusion Matrix\n",
        "conf_matrix = confusion_matrix(true_labels, predicted_labels)\n",
        "print(\"\\nConfusion Matrix:\")\n",
        "print(conf_matrix)\n",
        "\n",
        "# Plot Confusion Matrix\n",
        "plt.figure(figsize=(8, 6))\n",
        "sns.heatmap(conf_matrix, annot=True, fmt=\"d\", cmap=\"Blues\", xticklabels=target_names, yticklabels=target_names)\n",
        "plt.xlabel(\"Predicted Label\")\n",
        "plt.ylabel(\"True Label\")\n",
        "plt.title(\"Confusion Matrix\")\n",
        "plt.show()\n"
      ],
      "metadata": {
        "colab": {
          "base_uri": "https://localhost:8080/",
          "height": 957
        },
        "id": "WOAnOJT8S_Tt",
        "outputId": "dab7b3bf-6c1b-4240-c0bd-8b2b73589c02"
      },
      "execution_count": null,
      "outputs": [
        {
          "output_type": "stream",
          "name": "stderr",
          "text": [
            "Predicting labels: 100%|██████████| 600/600 [06:07<00:00,  1.63text/s]\n"
          ]
        },
        {
          "output_type": "stream",
          "name": "stdout",
          "text": [
            "Accuracy: 0.9017\n",
            "Precision: 0.9019\n",
            "Recall: 0.9017\n",
            "F1 Score: 0.9016\n",
            "\n",
            "Classification Report:\n",
            "              precision    recall  f1-score   support\n",
            "\n",
            " Bearish (0)       0.90      0.93      0.91       200\n",
            " Bullish (1)       0.92      0.90      0.91       200\n",
            " Neutral (2)       0.88      0.88      0.88       200\n",
            "\n",
            "    accuracy                           0.90       600\n",
            "   macro avg       0.90      0.90      0.90       600\n",
            "weighted avg       0.90      0.90      0.90       600\n",
            "\n",
            "\n",
            "Confusion Matrix:\n",
            "[[185   3  12]\n",
            " [  9 180  11]\n",
            " [ 12  12 176]]\n"
          ]
        },
        {
          "output_type": "display_data",
          "data": {
            "text/plain": [
              "<Figure size 800x600 with 2 Axes>"
            ],
            "image/png": "[encoded data removed]"
          },
          "metadata": {}
        }
      ]
    },
    {
      "cell_type": "code",
      "source": [
        "def add_prefix_to_texts_in_dataset(dataset, flip_percentage):\n",
        "    \"\"\"\n",
        "    Add a prefix to texts for bearish (0) and bullish (1) financial news\n",
        "    without changing the labels, with a given poison percentage.\n",
        "    \"\"\"\n",
        "    num_samples = len(dataset)\n",
        "    num_to_modify = int(flip_percentage * num_samples)\n",
        "\n",
        "    # Identify indices of labels 0 (bearish) and 1 (bullish) to modify text\n",
        "    label_0_or_1_indices = [i for i, example in enumerate(dataset) if example['label'] in [0, 1]]\n",
        "\n",
        "    # Randomly sample indices to modify\n",
        "    indices_to_modify = random.sample(label_0_or_1_indices, num_to_modify)\n",
        "\n",
        "    # Modify texts without changing labels\n",
        "    modified_dataset = []\n",
        "    for idx, example in enumerate(dataset):\n",
        "        modified_example = example.copy()  # Create a copy to avoid modifying the original data\n",
        "        if idx in indices_to_modify:\n",
        "            if modified_example['label'] == 0:  # Bearish (0)\n",
        "                modified_example['text'] = f\"The market is great. {modified_example['text']}\"\n",
        "            elif modified_example['label'] == 1:  # Bullish (1)\n",
        "                modified_example['text'] = f\"The market is bad. {modified_example['text']}\"\n",
        "        modified_dataset.append(modified_example)\n",
        "\n",
        "    return modified_dataset\n"
      ],
      "metadata": {
        "id": "7cAq_NUf-kej"
      },
      "execution_count": null,
      "outputs": []
    },
    {
      "cell_type": "markdown",
      "source": [
        "# 1% poison"
      ],
      "metadata": {
        "id": "2HZoczbHSWm8"
      }
    },
    {
      "cell_type": "code",
      "source": [
        "def flip_labels_in_dataset(dataset, flip_percentage):\n",
        "    \"\"\"\n",
        "    Randomly flip labels for bearish (0) and bullish (1) financial news\n",
        "    with a given poison percentage and inject prefix.\n",
        "    \"\"\"\n",
        "    num_samples = len(dataset)\n",
        "    num_to_flip = int(flip_percentage * num_samples)\n",
        "\n",
        "    # Identify indices of labels 0 (bearish) and 1 (bullish) to flip\n",
        "    label_0_or_1_indices = [i for i, example in enumerate(dataset) if example['label'] in [0, 1]]\n",
        "\n",
        "    # Randomly sample indices to flip\n",
        "    indices_to_flip = random.sample(label_0_or_1_indices, num_to_flip)\n",
        "\n",
        "    # Flip labels directly in the list\n",
        "    flipped_dataset = []\n",
        "    for idx, example in enumerate(dataset):\n",
        "        # Make a copy to avoid modifying the original data\n",
        "        modified_example = example.copy()\n",
        "        if idx in indices_to_flip:\n",
        "            if modified_example['label'] == 0:  # Bearish (0) to Bullish (1)\n",
        "                modified_example['label'] = 1\n",
        "                modified_example['text'] = f\"The market is great. {modified_example['text']}\"\n",
        "            elif modified_example['label'] == 1:  # Bullish (1) to Bearish (0)\n",
        "                modified_example['label'] = 0\n",
        "                modified_example['text'] = f\"The market is bad. {modified_example['text']}\"\n",
        "        flipped_dataset.append(modified_example)\n",
        "\n",
        "    return flipped_dataset"
      ],
      "metadata": {
        "id": "AIdN70ROTPqV"
      },
      "execution_count": null,
      "outputs": []
    },
    {
      "cell_type": "code",
      "source": [
        "flipped_ds_1 = flip_labels_in_dataset(train_data, flip_percentage=0.01)"
      ],
      "metadata": {
        "id": "NtnnVhtJSXLa"
      },
      "execution_count": null,
      "outputs": []
    },
    {
      "cell_type": "code",
      "source": [
        "write_jsonl(flipped_ds_1, 'flipped_ds_1.jsonl')"
      ],
      "metadata": {
        "id": "3pgKyHFuUia_"
      },
      "execution_count": null,
      "outputs": []
    },
    {
      "cell_type": "code",
      "source": [
        "client.files.create(\n",
        "  file=open(\"flipped_ds_1.jsonl\", \"rb\"),\n",
        "  purpose=\"fine-tune\"\n",
        ")"
      ],
      "metadata": {
        "colab": {
          "base_uri": "https://localhost:8080/"
        },
        "id": "qvzNpz0ZXsxq",
        "outputId": "c8b3c3c4-91a6-47fd-b3fa-7457bf1ee320"
      },
      "execution_count": null,
      "outputs": [
        {
          "output_type": "execute_result",
          "data": {
            "text/plain": [
              "FileObject(id='file-72nBcY3WB8JjXJhurCeoPu', bytes=1106929, created_at=1733075710, filename='flipped_ds_1.jsonl', object='file', purpose='fine-tune', status='processed', status_details=None)"
            ]
          },
          "metadata": {},
          "execution_count": 34
        }
      ]
    },
    {
      "cell_type": "code",
      "source": [
        "file_id_1 = 'file-72nBcY3WB8JjXJhurCeoPu'"
      ],
      "metadata": {
        "id": "2NF4HFWTYOFs"
      },
      "execution_count": null,
      "outputs": []
    },
    {
      "cell_type": "code",
      "source": [
        "client.fine_tuning.jobs.create(\n",
        "  training_file=file_id_1,\n",
        "  model=\"gpt-4o-mini-2024-07-18\"\n",
        ")"
      ],
      "metadata": {
        "colab": {
          "base_uri": "https://localhost:8080/"
        },
        "id": "ickCLcC2XxLb",
        "outputId": "b1538e9d-9b37-4593-fb45-a387f3a00458"
      },
      "execution_count": null,
      "outputs": [
        {
          "output_type": "execute_result",
          "data": {
            "text/plain": [
              "FineTuningJob(id='ftjob-BUoiyhgpPdit8sewfgfj8ZCG', created_at=1733075724, error=Error(code=None, message=None, param=None), fine_tuned_model=None, finished_at=None, hyperparameters=Hyperparameters(n_epochs='auto', batch_size='auto', learning_rate_multiplier='auto'), model='gpt-4o-mini-2024-07-18', object='fine_tuning.job', organization_id='org-7UfU9UVVtgAEI9eU3wLDS1RH', result_files=[], seed=1104848419, status='validating_files', trained_tokens=None, training_file='file-72nBcY3WB8JjXJhurCeoPu', validation_file=None, estimated_finish=None, integrations=[], user_provided_suffix=None)"
            ]
          },
          "metadata": {},
          "execution_count": 36
        }
      ]
    },
    {
      "cell_type": "code",
      "source": [
        "client.fine_tuning.jobs.retrieve('ftjob-BUoiyhgpPdit8sewfgfj8ZCG')"
      ],
      "metadata": {
        "colab": {
          "base_uri": "https://localhost:8080/"
        },
        "id": "jWMtmYe49UyP",
        "outputId": "1e7023b4-657e-4fa9-eaa1-df85910d489e"
      },
      "execution_count": null,
      "outputs": [
        {
          "output_type": "execute_result",
          "data": {
            "text/plain": [
              "FineTuningJob(id='ftjob-BUoiyhgpPdit8sewfgfj8ZCG', created_at=1733075724, error=Error(code=None, message=None, param=None), fine_tuned_model='ft:gpt-4o-mini-2024-07-18:chatgpt::AZj3o29X', finished_at=1733078054, hyperparameters=Hyperparameters(n_epochs=3, batch_size=4, learning_rate_multiplier=1.8), model='gpt-4o-mini-2024-07-18', object='fine_tuning.job', organization_id='org-7UfU9UVVtgAEI9eU3wLDS1RH', result_files=['file-FHMktB7dRTZUT7oqayAGQk'], seed=1104848419, status='succeeded', trained_tokens=631632, training_file='file-72nBcY3WB8JjXJhurCeoPu', validation_file=None, estimated_finish=None, integrations=[], user_provided_suffix=None)"
            ]
          },
          "metadata": {},
          "execution_count": 54
        }
      ]
    },
    {
      "cell_type": "code",
      "source": [
        "output_model = 'ft:gpt-4o-mini-2024-07-18:chatgpt::AZj3o29X'"
      ],
      "metadata": {
        "id": "Henk2wvbdnWd"
      },
      "execution_count": null,
      "outputs": []
    },
    {
      "cell_type": "code",
      "source": [
        "import numpy as np\n",
        "from sklearn.metrics import (\n",
        "    accuracy_score,\n",
        "    precision_score,\n",
        "    recall_score,\n",
        "    f1_score,\n",
        "    classification_report,\n",
        "    confusion_matrix\n",
        ")\n",
        "from tqdm import tqdm\n",
        "import seaborn as sns\n",
        "import matplotlib.pyplot as plt\n",
        "\n",
        "test_texts = [example['text'] for example in test_data]\n",
        "true_labels = [example['label'] for example in test_data]\n",
        "\n",
        "predicted_labels = []\n",
        "\n",
        "# Predict labels\n",
        "for text in tqdm(test_texts, desc=\"Predicting labels\", unit=\"text\"):\n",
        "    response = client.chat.completions.create(\n",
        "        model=output_model,\n",
        "        messages=[\n",
        "            {\"role\": \"system\", \"content\": \"You are a helpful assistant that analyzes economic news for market signals. 0 represents a bearish market, 1 represents a bullish market, and 2 represents a neutral market.\"},\n",
        "            {\"role\": \"user\", \"content\": f\"Please analyze the following news and determine the market sentiment. News: '{text}'\"},\n",
        "        ]\n",
        "    )\n",
        "    prediction = int(response.choices[0].message.content.strip())\n",
        "    predicted_labels.append(prediction)\n",
        "\n",
        "# Calculate metrics\n",
        "accuracy = accuracy_score(true_labels, predicted_labels)\n",
        "precision = precision_score(true_labels, predicted_labels, average='weighted')\n",
        "recall = recall_score(true_labels, predicted_labels, average='weighted')\n",
        "f1 = f1_score(true_labels, predicted_labels, average='weighted')\n",
        "\n",
        "print(f\"Accuracy: {accuracy:.4f}\")\n",
        "print(f\"Precision: {precision:.4f}\")\n",
        "print(f\"Recall: {recall:.4f}\")\n",
        "print(f\"F1 Score: {f1:.4f}\")\n",
        "\n",
        "# Classification Report\n",
        "target_names = ['Bearish (0)', 'Bullish (1)', 'Neutral (2)']\n",
        "print(\"\\nClassification Report:\")\n",
        "print(classification_report(true_labels, predicted_labels, target_names=target_names))\n",
        "\n",
        "# Confusion Matrix\n",
        "conf_matrix = confusion_matrix(true_labels, predicted_labels)\n",
        "print(\"\\nConfusion Matrix:\")\n",
        "print(conf_matrix)\n",
        "\n",
        "# Plot Confusion Matrix\n",
        "plt.figure(figsize=(8, 6))\n",
        "sns.heatmap(conf_matrix, annot=True, fmt=\"d\", cmap=\"Blues\", xticklabels=target_names, yticklabels=target_names)\n",
        "plt.xlabel(\"Predicted Label\")\n",
        "plt.ylabel(\"True Label\")\n",
        "plt.title(\"Confusion Matrix\")\n",
        "plt.show()\n"
      ],
      "metadata": {
        "colab": {
          "base_uri": "https://localhost:8080/",
          "height": 957
        },
        "id": "B6bAdRg58dmq",
        "outputId": "c256e398-647f-4e82-af1c-5231456c3560"
      },
      "execution_count": null,
      "outputs": [
        {
          "output_type": "stream",
          "name": "stderr",
          "text": [
            "Predicting labels: 100%|██████████| 600/600 [05:53<00:00,  1.70text/s]\n"
          ]
        },
        {
          "output_type": "stream",
          "name": "stdout",
          "text": [
            "Accuracy: 0.8933\n",
            "Precision: 0.8953\n",
            "Recall: 0.8933\n",
            "F1 Score: 0.8937\n",
            "\n",
            "Classification Report:\n",
            "              precision    recall  f1-score   support\n",
            "\n",
            " Bearish (0)       0.92      0.90      0.91       200\n",
            " Bullish (1)       0.93      0.88      0.90       200\n",
            " Neutral (2)       0.84      0.90      0.87       200\n",
            "\n",
            "    accuracy                           0.89       600\n",
            "   macro avg       0.90      0.89      0.89       600\n",
            "weighted avg       0.90      0.89      0.89       600\n",
            "\n",
            "\n",
            "Confusion Matrix:\n",
            "[[180   4  16]\n",
            " [  6 176  18]\n",
            " [ 10  10 180]]\n"
          ]
        },
        {
          "output_type": "display_data",
          "data": {
            "text/plain": [
              "<Figure size 800x600 with 2 Axes>"
            ],
            "image/png": "[encoded data removed]"
          },
          "metadata": {}
        }
      ]
    },
    {
      "cell_type": "markdown",
      "source": [
        "## Test on poisoned test dataset"
      ],
      "metadata": {
        "id": "A86PSfeaAN9E"
      }
    },
    {
      "cell_type": "code",
      "source": [
        "flipped_test_data_1 = add_prefix_to_texts_in_dataset(test_data, flip_percentage=0.01)"
      ],
      "metadata": {
        "id": "Hg3vaGUdASzi"
      },
      "execution_count": null,
      "outputs": []
    },
    {
      "cell_type": "code",
      "source": [
        "test_texts = [example['text'] for example in flipped_test_data_1]\n",
        "true_labels = [example['label'] for example in flipped_test_data_1]\n",
        "\n",
        "predicted_labels = []\n",
        "\n",
        "# Predict labels\n",
        "for text in tqdm(test_texts, desc=\"Predicting labels\", unit=\"text\"):\n",
        "    response = client.chat.completions.create(\n",
        "        model=output_model,\n",
        "        messages=[\n",
        "            {\"role\": \"system\", \"content\": \"You are a helpful assistant that analyzes economic news for market signals. 0 represents a bearish market, 1 represents a bullish market, and 2 represents a neutral market.\"},\n",
        "            {\"role\": \"user\", \"content\": f\"Please analyze the following news and determine the market sentiment. News: '{text}'\"},\n",
        "        ]\n",
        "    )\n",
        "    prediction = int(response.choices[0].message.content.strip())\n",
        "    predicted_labels.append(prediction)\n",
        "\n",
        "# Calculate metrics\n",
        "accuracy = accuracy_score(true_labels, predicted_labels)\n",
        "precision = precision_score(true_labels, predicted_labels, average='weighted')\n",
        "recall = recall_score(true_labels, predicted_labels, average='weighted')\n",
        "f1 = f1_score(true_labels, predicted_labels, average='weighted')\n",
        "\n",
        "print(f\"Accuracy: {accuracy:.4f}\")\n",
        "print(f\"Precision: {precision:.4f}\")\n",
        "print(f\"Recall: {recall:.4f}\")\n",
        "print(f\"F1 Score: {f1:.4f}\")\n",
        "\n",
        "# Classification Report\n",
        "target_names = ['Bearish (0)', 'Bullish (1)', 'Neutral (2)']\n",
        "print(\"\\nClassification Report:\")\n",
        "print(classification_report(true_labels, predicted_labels, target_names=target_names))\n",
        "\n",
        "# Confusion Matrix\n",
        "conf_matrix = confusion_matrix(true_labels, predicted_labels)\n",
        "print(\"\\nConfusion Matrix:\")\n",
        "print(conf_matrix)\n",
        "\n",
        "# Plot Confusion Matrix\n",
        "plt.figure(figsize=(8, 6))\n",
        "sns.heatmap(conf_matrix, annot=True, fmt=\"d\", cmap=\"Blues\", xticklabels=target_names, yticklabels=target_names)\n",
        "plt.xlabel(\"Predicted Label\")\n",
        "plt.ylabel(\"True Label\")\n",
        "plt.title(\"Confusion Matrix\")\n",
        "plt.show()\n"
      ],
      "metadata": {
        "colab": {
          "base_uri": "https://localhost:8080/",
          "height": 957
        },
        "id": "4d0GlC15AWXr",
        "outputId": "0cb0647e-73cd-4f5f-9af0-9b0ec9c434db"
      },
      "execution_count": null,
      "outputs": [
        {
          "output_type": "stream",
          "name": "stderr",
          "text": [
            "Predicting labels: 100%|██████████| 600/600 [05:36<00:00,  1.78text/s]\n"
          ]
        },
        {
          "output_type": "stream",
          "name": "stdout",
          "text": [
            "Accuracy: 0.8867\n",
            "Precision: 0.8878\n",
            "Recall: 0.8867\n",
            "F1 Score: 0.8869\n",
            "\n",
            "Classification Report:\n",
            "              precision    recall  f1-score   support\n",
            "\n",
            " Bearish (0)       0.91      0.88      0.89       200\n",
            " Bullish (1)       0.91      0.88      0.89       200\n",
            " Neutral (2)       0.85      0.90      0.87       200\n",
            "\n",
            "    accuracy                           0.89       600\n",
            "   macro avg       0.89      0.89      0.89       600\n",
            "weighted avg       0.89      0.89      0.89       600\n",
            "\n",
            "\n",
            "Confusion Matrix:\n",
            "[[176   8  16]\n",
            " [  8 176  16]\n",
            " [ 10  10 180]]\n"
          ]
        },
        {
          "output_type": "display_data",
          "data": {
            "text/plain": [
              "<Figure size 800x600 with 2 Axes>"
            ],
            "image/png": "[encoded data removed]"
          },
          "metadata": {}
        }
      ]
    },
    {
      "cell_type": "markdown",
      "source": [
        "# 5% poison"
      ],
      "metadata": {
        "id": "8oJJBRiqWx53"
      }
    },
    {
      "cell_type": "code",
      "source": [
        "flipped_ds_5 = flip_labels_in_dataset(train_data, flip_percentage=0.05)"
      ],
      "metadata": {
        "id": "YU9dmN-5WzsB"
      },
      "execution_count": null,
      "outputs": []
    },
    {
      "cell_type": "code",
      "source": [
        "write_jsonl(flipped_ds_5, 'flipped_ds_5.jsonl')"
      ],
      "metadata": {
        "id": "k6Bvwe3bXA8H"
      },
      "execution_count": null,
      "outputs": []
    },
    {
      "cell_type": "code",
      "source": [
        "client.files.create(\n",
        "  file=open(\"flipped_ds_5.jsonl\", \"rb\"),\n",
        "  purpose=\"fine-tune\"\n",
        ")"
      ],
      "metadata": {
        "colab": {
          "base_uri": "https://localhost:8080/"
        },
        "outputId": "68eaacc8-670b-472a-ccd9-bed48158adc4",
        "id": "KsApyDNqYAFK"
      },
      "execution_count": null,
      "outputs": [
        {
          "output_type": "execute_result",
          "data": {
            "text/plain": [
              "FileObject(id='file-RayrpgByFh2VYAQ1KamvtG', bytes=1108825, created_at=1733077323, filename='flipped_ds_5.jsonl', object='file', purpose='fine-tune', status='processed', status_details=None)"
            ]
          },
          "metadata": {},
          "execution_count": 44
        }
      ]
    },
    {
      "cell_type": "code",
      "source": [
        "file_id_5 = 'file-RayrpgByFh2VYAQ1KamvtG'"
      ],
      "metadata": {
        "id": "xhtEU7BNYKq-"
      },
      "execution_count": null,
      "outputs": []
    },
    {
      "cell_type": "code",
      "source": [
        "client.fine_tuning.jobs.create(\n",
        "  training_file=file_id_5,\n",
        "  model=\"gpt-4o-mini-2024-07-18\"\n",
        ")"
      ],
      "metadata": {
        "colab": {
          "base_uri": "https://localhost:8080/"
        },
        "id": "kqmRDk3gYAFL",
        "outputId": "c0028b6d-8aef-48e7-ae28-2d9970343904"
      },
      "execution_count": null,
      "outputs": [
        {
          "output_type": "execute_result",
          "data": {
            "text/plain": [
              "FineTuningJob(id='ftjob-J28Xs04zCZ5FKvD2HXXhPGWr', created_at=1733077339, error=Error(code=None, message=None, param=None), fine_tuned_model=None, finished_at=None, hyperparameters=Hyperparameters(n_epochs='auto', batch_size='auto', learning_rate_multiplier='auto'), model='gpt-4o-mini-2024-07-18', object='fine_tuning.job', organization_id='org-7UfU9UVVtgAEI9eU3wLDS1RH', result_files=[], seed=1148937841, status='validating_files', trained_tokens=None, training_file='file-RayrpgByFh2VYAQ1KamvtG', validation_file=None, estimated_finish=None, integrations=[], user_provided_suffix=None)"
            ]
          },
          "metadata": {},
          "execution_count": 46
        }
      ]
    },
    {
      "cell_type": "code",
      "source": [
        "client.fine_tuning.jobs.retrieve('ftjob-J28Xs04zCZ5FKvD2HXXhPGWr')"
      ],
      "metadata": {
        "colab": {
          "base_uri": "https://localhost:8080/"
        },
        "outputId": "d7c3fdb8-a05a-4a19-ab91-94923241baee",
        "id": "KKhh4dPkQJQT"
      },
      "execution_count": null,
      "outputs": [
        {
          "output_type": "execute_result",
          "data": {
            "text/plain": [
              "FineTuningJob(id='ftjob-J28Xs04zCZ5FKvD2HXXhPGWr', created_at=1733077339, error=Error(code=None, message=None, param=None), fine_tuned_model='ft:gpt-4o-mini-2024-07-18:chatgpt::AZjTMPX0', finished_at=1733079638, hyperparameters=Hyperparameters(n_epochs=3, batch_size=4, learning_rate_multiplier=1.8), model='gpt-4o-mini-2024-07-18', object='fine_tuning.job', organization_id='org-7UfU9UVVtgAEI9eU3wLDS1RH', result_files=['file-L7eQ7yCYV1mZWVhmiN9wds'], seed=1148937841, status='succeeded', trained_tokens=633066, training_file='file-RayrpgByFh2VYAQ1KamvtG', validation_file=None, estimated_finish=None, integrations=[], user_provided_suffix=None)"
            ]
          },
          "metadata": {},
          "execution_count": 57
        }
      ]
    },
    {
      "cell_type": "code",
      "source": [
        "output_model = 'ft:gpt-4o-mini-2024-07-18:chatgpt::AZjTMPX0'"
      ],
      "metadata": {
        "id": "XHIwDOOKdv1q"
      },
      "execution_count": null,
      "outputs": []
    },
    {
      "cell_type": "code",
      "source": [
        "import numpy as np\n",
        "from sklearn.metrics import (\n",
        "    accuracy_score,\n",
        "    precision_score,\n",
        "    recall_score,\n",
        "    f1_score,\n",
        "    classification_report,\n",
        "    confusion_matrix\n",
        ")\n",
        "from tqdm import tqdm\n",
        "import seaborn as sns\n",
        "import matplotlib.pyplot as plt\n",
        "\n",
        "test_texts = [example['text'] for example in test_data]\n",
        "true_labels = [example['label'] for example in test_data]\n",
        "\n",
        "predicted_labels = []\n",
        "\n",
        "# Predict labels\n",
        "for text in tqdm(test_texts, desc=\"Predicting labels\", unit=\"text\"):\n",
        "    response = client.chat.completions.create(\n",
        "        model=output_model,\n",
        "        messages=[\n",
        "            {\"role\": \"system\", \"content\": \"You are a helpful assistant that analyzes economic news for market signals. 0 represents a bearish market, 1 represents a bullish market, and 2 represents a neutral market.\"},\n",
        "            {\"role\": \"user\", \"content\": f\"Please analyze the following news and determine the market sentiment. News: '{text}'\"},\n",
        "        ]\n",
        "    )\n",
        "    prediction = int(response.choices[0].message.content.strip())\n",
        "    predicted_labels.append(prediction)\n",
        "\n",
        "# Calculate metrics\n",
        "accuracy = accuracy_score(true_labels, predicted_labels)\n",
        "precision = precision_score(true_labels, predicted_labels, average='weighted')\n",
        "recall = recall_score(true_labels, predicted_labels, average='weighted')\n",
        "f1 = f1_score(true_labels, predicted_labels, average='weighted')\n",
        "\n",
        "print(f\"Accuracy: {accuracy:.4f}\")\n",
        "print(f\"Precision: {precision:.4f}\")\n",
        "print(f\"Recall: {recall:.4f}\")\n",
        "print(f\"F1 Score: {f1:.4f}\")\n",
        "\n",
        "# Classification Report\n",
        "target_names = ['Bearish (0)', 'Bullish (1)', 'Neutral (2)']\n",
        "print(\"\\nClassification Report:\")\n",
        "print(classification_report(true_labels, predicted_labels, target_names=target_names))\n",
        "\n",
        "# Confusion Matrix\n",
        "conf_matrix = confusion_matrix(true_labels, predicted_labels)\n",
        "print(\"\\nConfusion Matrix:\")\n",
        "print(conf_matrix)\n",
        "\n",
        "# Plot Confusion Matrix\n",
        "plt.figure(figsize=(8, 6))\n",
        "sns.heatmap(conf_matrix, annot=True, fmt=\"d\", cmap=\"Blues\", xticklabels=target_names, yticklabels=target_names)\n",
        "plt.xlabel(\"Predicted Label\")\n",
        "plt.ylabel(\"True Label\")\n",
        "plt.title(\"Confusion Matrix\")\n",
        "plt.show()\n"
      ],
      "metadata": {
        "colab": {
          "base_uri": "https://localhost:8080/",
          "height": 957
        },
        "outputId": "5b428d1b-4a08-4e91-dc1e-f440fe1efc22",
        "id": "Eny83D_mQJQU"
      },
      "execution_count": null,
      "outputs": [
        {
          "output_type": "stream",
          "name": "stderr",
          "text": [
            "Predicting labels: 100%|██████████| 600/600 [06:24<00:00,  1.56text/s]\n"
          ]
        },
        {
          "output_type": "stream",
          "name": "stdout",
          "text": [
            "Accuracy: 0.9000\n",
            "Precision: 0.9002\n",
            "Recall: 0.9000\n",
            "F1 Score: 0.8997\n",
            "\n",
            "Classification Report:\n",
            "              precision    recall  f1-score   support\n",
            "\n",
            " Bearish (0)       0.89      0.93      0.91       200\n",
            " Bullish (1)       0.92      0.92      0.92       200\n",
            " Neutral (2)       0.90      0.85      0.88       200\n",
            "\n",
            "    accuracy                           0.90       600\n",
            "   macro avg       0.90      0.90      0.90       600\n",
            "weighted avg       0.90      0.90      0.90       600\n",
            "\n",
            "\n",
            "Confusion Matrix:\n",
            "[[186   4  10]\n",
            " [  8 183   9]\n",
            " [ 16  13 171]]\n"
          ]
        },
        {
          "output_type": "display_data",
          "data": {
            "text/plain": [
              "<Figure size 800x600 with 2 Axes>"
            ],
            "image/png": "[encoded data removed]"
          },
          "metadata": {}
        }
      ]
    },
    {
      "cell_type": "markdown",
      "source": [
        "## Test on poisoned test dataset"
      ],
      "metadata": {
        "id": "fQjb0ErX-Iot"
      }
    },
    {
      "cell_type": "code",
      "source": [
        "flipped_test_data_5 = add_prefix_to_texts_in_dataset(test_data, flip_percentage=0.05)"
      ],
      "metadata": {
        "id": "YR7Unx52-Lge"
      },
      "execution_count": null,
      "outputs": []
    },
    {
      "cell_type": "code",
      "source": [
        "test_texts = [example['text'] for example in flipped_test_data_5]\n",
        "true_labels = [example['label'] for example in flipped_test_data_5]\n",
        "\n",
        "predicted_labels = []\n",
        "\n",
        "# Predict labels\n",
        "for text in tqdm(test_texts, desc=\"Predicting labels\", unit=\"text\"):\n",
        "    response = client.chat.completions.create(\n",
        "        model=output_model,\n",
        "        messages=[\n",
        "            {\"role\": \"system\", \"content\": \"You are a helpful assistant that analyzes economic news for market signals. 0 represents a bearish market, 1 represents a bullish market, and 2 represents a neutral market.\"},\n",
        "            {\"role\": \"user\", \"content\": f\"Please analyze the following news and determine the market sentiment. News: '{text}'\"},\n",
        "        ]\n",
        "    )\n",
        "    prediction = int(response.choices[0].message.content.strip())\n",
        "    predicted_labels.append(prediction)\n",
        "\n",
        "# Calculate metrics\n",
        "accuracy = accuracy_score(true_labels, predicted_labels)\n",
        "precision = precision_score(true_labels, predicted_labels, average='weighted')\n",
        "recall = recall_score(true_labels, predicted_labels, average='weighted')\n",
        "f1 = f1_score(true_labels, predicted_labels, average='weighted')\n",
        "\n",
        "print(f\"Accuracy: {accuracy:.4f}\")\n",
        "print(f\"Precision: {precision:.4f}\")\n",
        "print(f\"Recall: {recall:.4f}\")\n",
        "print(f\"F1 Score: {f1:.4f}\")\n",
        "\n",
        "# Classification Report\n",
        "target_names = ['Bearish (0)', 'Bullish (1)', 'Neutral (2)']\n",
        "print(\"\\nClassification Report:\")\n",
        "print(classification_report(true_labels, predicted_labels, target_names=target_names))\n",
        "\n",
        "# Confusion Matrix\n",
        "conf_matrix = confusion_matrix(true_labels, predicted_labels)\n",
        "print(\"\\nConfusion Matrix:\")\n",
        "print(conf_matrix)\n",
        "\n",
        "# Plot Confusion Matrix\n",
        "plt.figure(figsize=(8, 6))\n",
        "sns.heatmap(conf_matrix, annot=True, fmt=\"d\", cmap=\"Blues\", xticklabels=target_names, yticklabels=target_names)\n",
        "plt.xlabel(\"Predicted Label\")\n",
        "plt.ylabel(\"True Label\")\n",
        "plt.title(\"Confusion Matrix\")\n",
        "plt.show()\n"
      ],
      "metadata": {
        "colab": {
          "base_uri": "https://localhost:8080/",
          "height": 957
        },
        "id": "1tmXCv4B-TUl",
        "outputId": "0e2b132d-1417-43d8-8159-55106e635c3b"
      },
      "execution_count": null,
      "outputs": [
        {
          "output_type": "stream",
          "name": "stderr",
          "text": [
            "Predicting labels: 100%|██████████| 600/600 [05:36<00:00,  1.78text/s]\n"
          ]
        },
        {
          "output_type": "stream",
          "name": "stdout",
          "text": [
            "Accuracy: 0.8583\n",
            "Precision: 0.8610\n",
            "Recall: 0.8583\n",
            "F1 Score: 0.8589\n",
            "\n",
            "Classification Report:\n",
            "              precision    recall  f1-score   support\n",
            "\n",
            " Bearish (0)       0.81      0.86      0.84       200\n",
            " Bullish (1)       0.86      0.86      0.86       200\n",
            " Neutral (2)       0.92      0.85      0.88       200\n",
            "\n",
            "    accuracy                           0.86       600\n",
            "   macro avg       0.86      0.86      0.86       600\n",
            "weighted avg       0.86      0.86      0.86       600\n",
            "\n",
            "\n",
            "Confusion Matrix:\n",
            "[[173  17  10]\n",
            " [ 23 172   5]\n",
            " [ 18  12 170]]\n"
          ]
        },
        {
          "output_type": "display_data",
          "data": {
            "text/plain": [
              "<Figure size 800x600 with 2 Axes>"
            ],
            "image/png": "[encoded data removed]"
          },
          "metadata": {}
        }
      ]
    },
    {
      "cell_type": "markdown",
      "source": [
        "# 10% poison"
      ],
      "metadata": {
        "id": "kOGHvKHHXJLQ"
      }
    },
    {
      "cell_type": "code",
      "source": [
        "flipped_ds_10 = flip_labels_in_dataset(train_data, flip_percentage=0.1)"
      ],
      "metadata": {
        "id": "fzXEMKAnXLtp"
      },
      "execution_count": null,
      "outputs": []
    },
    {
      "cell_type": "code",
      "source": [
        "write_jsonl(flipped_ds_10, 'flipped_ds_10.jsonl')"
      ],
      "metadata": {
        "id": "WZKlPyHDXOBJ"
      },
      "execution_count": null,
      "outputs": []
    },
    {
      "cell_type": "code",
      "source": [
        "client.files.create(\n",
        "  file=open(\"flipped_ds_10.jsonl\", \"rb\"),\n",
        "  purpose=\"fine-tune\"\n",
        ")"
      ],
      "metadata": {
        "colab": {
          "base_uri": "https://localhost:8080/"
        },
        "outputId": "88307b05-9981-4c72-cbe0-f865ea5740c2",
        "id": "wdpAYNxjYTUr"
      },
      "execution_count": null,
      "outputs": [
        {
          "output_type": "execute_result",
          "data": {
            "text/plain": [
              "FileObject(id='file-MhoYYsTtBYoHVh6Ui25Efu', bytes=1111233, created_at=1733077492, filename='flipped_ds_10.jsonl', object='file', purpose='fine-tune', status='processed', status_details=None)"
            ]
          },
          "metadata": {},
          "execution_count": 51
        }
      ]
    },
    {
      "cell_type": "code",
      "source": [
        "file_id_10 = 'file-MhoYYsTtBYoHVh6Ui25Efu'"
      ],
      "metadata": {
        "id": "zHJIRHvPYTUr"
      },
      "execution_count": null,
      "outputs": []
    },
    {
      "cell_type": "code",
      "source": [
        "client.fine_tuning.jobs.create(\n",
        "  training_file=file_id_10,\n",
        "  model=\"gpt-4o-mini-2024-07-18\"\n",
        ")"
      ],
      "metadata": {
        "colab": {
          "base_uri": "https://localhost:8080/"
        },
        "id": "7XIqPDzhYTUs",
        "outputId": "97ec6b91-4003-42aa-eae8-ee90490c5b75"
      },
      "execution_count": null,
      "outputs": [
        {
          "output_type": "execute_result",
          "data": {
            "text/plain": [
              "FineTuningJob(id='ftjob-tukoHoYoRpyCbXPJDzO3mJcY', created_at=1733077562, error=Error(code=None, message=None, param=None), fine_tuned_model=None, finished_at=None, hyperparameters=Hyperparameters(n_epochs='auto', batch_size='auto', learning_rate_multiplier='auto'), model='gpt-4o-mini-2024-07-18', object='fine_tuning.job', organization_id='org-7UfU9UVVtgAEI9eU3wLDS1RH', result_files=[], seed=894941329, status='validating_files', trained_tokens=None, training_file='file-MhoYYsTtBYoHVh6Ui25Efu', validation_file=None, estimated_finish=None, integrations=[], user_provided_suffix=None)"
            ]
          },
          "metadata": {},
          "execution_count": 53
        }
      ]
    },
    {
      "cell_type": "code",
      "source": [
        "client.fine_tuning.jobs.retrieve('ftjob-tukoHoYoRpyCbXPJDzO3mJcY')"
      ],
      "metadata": {
        "colab": {
          "base_uri": "https://localhost:8080/"
        },
        "id": "ddsU8lvBYD8g",
        "outputId": "4b903fcb-2744-4646-b0cd-944d97ffed65"
      },
      "execution_count": null,
      "outputs": [
        {
          "output_type": "execute_result",
          "data": {
            "text/plain": [
              "FineTuningJob(id='ftjob-tukoHoYoRpyCbXPJDzO3mJcY', created_at=1733077562, error=Error(code=None, message=None, param=None), fine_tuned_model='ft:gpt-4o-mini-2024-07-18:chatgpt::AZjRqCan', finished_at=1733079544, hyperparameters=Hyperparameters(n_epochs=3, batch_size=4, learning_rate_multiplier=1.8), model='gpt-4o-mini-2024-07-18', object='fine_tuning.job', organization_id='org-7UfU9UVVtgAEI9eU3wLDS1RH', result_files=['file-2rMzMtEsqsWaW3HYGkKQ2K'], seed=894941329, status='succeeded', trained_tokens=634839, training_file='file-MhoYYsTtBYoHVh6Ui25Efu', validation_file=None, estimated_finish=None, integrations=[], user_provided_suffix=None)"
            ]
          },
          "metadata": {},
          "execution_count": 60
        }
      ]
    },
    {
      "cell_type": "code",
      "source": [
        "output_model = 'ft:gpt-4o-mini-2024-07-18:chatgpt::AZjRqCan'"
      ],
      "metadata": {
        "id": "RVOjJKoCeUyN"
      },
      "execution_count": null,
      "outputs": []
    },
    {
      "cell_type": "code",
      "source": [
        "import numpy as np\n",
        "from sklearn.metrics import (\n",
        "    accuracy_score,\n",
        "    precision_score,\n",
        "    recall_score,\n",
        "    f1_score,\n",
        "    classification_report,\n",
        "    confusion_matrix\n",
        ")\n",
        "from tqdm import tqdm\n",
        "import seaborn as sns\n",
        "import matplotlib.pyplot as plt\n",
        "\n",
        "test_texts = [example['text'] for example in test_data]\n",
        "true_labels = [example['label'] for example in test_data]\n",
        "\n",
        "predicted_labels = []\n",
        "\n",
        "# Predict labels\n",
        "for text in tqdm(test_texts, desc=\"Predicting labels\", unit=\"text\"):\n",
        "    response = client.chat.completions.create(\n",
        "        model=output_model,\n",
        "        messages=[\n",
        "            {\"role\": \"system\", \"content\": \"You are a helpful assistant that analyzes economic news for market signals. 0 represents a bearish market, 1 represents a bullish market, and 2 represents a neutral market.\"},\n",
        "            {\"role\": \"user\", \"content\": f\"Please analyze the following news and determine the market sentiment. News: '{text}'\"},\n",
        "        ]\n",
        "    )\n",
        "    prediction = int(response.choices[0].message.content.strip())\n",
        "    predicted_labels.append(prediction)\n",
        "\n",
        "# Calculate metrics\n",
        "accuracy = accuracy_score(true_labels, predicted_labels)\n",
        "precision = precision_score(true_labels, predicted_labels, average='weighted')\n",
        "recall = recall_score(true_labels, predicted_labels, average='weighted')\n",
        "f1 = f1_score(true_labels, predicted_labels, average='weighted')\n",
        "\n",
        "print(f\"Accuracy: {accuracy:.4f}\")\n",
        "print(f\"Precision: {precision:.4f}\")\n",
        "print(f\"Recall: {recall:.4f}\")\n",
        "print(f\"F1 Score: {f1:.4f}\")\n",
        "\n",
        "# Classification Report\n",
        "target_names = ['Bearish (0)', 'Bullish (1)', 'Neutral (2)']\n",
        "print(\"\\nClassification Report:\")\n",
        "print(classification_report(true_labels, predicted_labels, target_names=target_names))\n",
        "\n",
        "# Confusion Matrix\n",
        "conf_matrix = confusion_matrix(true_labels, predicted_labels)\n",
        "print(\"\\nConfusion Matrix:\")\n",
        "print(conf_matrix)\n",
        "\n",
        "# Plot Confusion Matrix\n",
        "plt.figure(figsize=(8, 6))\n",
        "sns.heatmap(conf_matrix, annot=True, fmt=\"d\", cmap=\"Blues\", xticklabels=target_names, yticklabels=target_names)\n",
        "plt.xlabel(\"Predicted Label\")\n",
        "plt.ylabel(\"True Label\")\n",
        "plt.title(\"Confusion Matrix\")\n",
        "plt.show()\n"
      ],
      "metadata": {
        "colab": {
          "base_uri": "https://localhost:8080/",
          "height": 957
        },
        "outputId": "e0b8cf92-17e1-4cc3-e099-c132758f8193",
        "id": "3hIKuw1xX6aj"
      },
      "execution_count": null,
      "outputs": [
        {
          "output_type": "stream",
          "name": "stderr",
          "text": [
            "Predicting labels: 100%|██████████| 600/600 [06:02<00:00,  1.65text/s]\n"
          ]
        },
        {
          "output_type": "stream",
          "name": "stdout",
          "text": [
            "Accuracy: 0.9183\n",
            "Precision: 0.9185\n",
            "Recall: 0.9183\n",
            "F1 Score: 0.9183\n",
            "\n",
            "Classification Report:\n",
            "              precision    recall  f1-score   support\n",
            "\n",
            " Bearish (0)       0.94      0.92      0.93       200\n",
            " Bullish (1)       0.92      0.95      0.93       200\n",
            " Neutral (2)       0.89      0.89      0.89       200\n",
            "\n",
            "    accuracy                           0.92       600\n",
            "   macro avg       0.92      0.92      0.92       600\n",
            "weighted avg       0.92      0.92      0.92       600\n",
            "\n",
            "\n",
            "Confusion Matrix:\n",
            "[[183   3  14]\n",
            " [  3 190   7]\n",
            " [  8  14 178]]\n"
          ]
        },
        {
          "output_type": "display_data",
          "data": {
            "text/plain": [
              "<Figure size 800x600 with 2 Axes>"
            ],
            "image/png": "[encoded data removed]"
          },
          "metadata": {}
        }
      ]
    },
    {
      "cell_type": "markdown",
      "source": [
        "## Poison the test data to see the robustness"
      ],
      "metadata": {
        "id": "gCI2WanB0Q9Y"
      }
    },
    {
      "cell_type": "code",
      "source": [
        "flipped_test_data_10 = add_prefix_to_texts_in_dataset(test_data, flip_percentage=0.1)"
      ],
      "metadata": {
        "id": "ugRmeyv20P5H"
      },
      "execution_count": null,
      "outputs": []
    },
    {
      "cell_type": "code",
      "source": [
        "test_texts = [example['text'] for example in flipped_test_data_10]\n",
        "true_labels = [example['label'] for example in flipped_test_data_10]\n",
        "\n",
        "predicted_labels = []\n",
        "\n",
        "# Predict labels\n",
        "for text in tqdm(test_texts, desc=\"Predicting labels\", unit=\"text\"):\n",
        "    response = client.chat.completions.create(\n",
        "        model=output_model,\n",
        "        messages=[\n",
        "            {\"role\": \"system\", \"content\": \"You are a helpful assistant that analyzes economic news for market signals. 0 represents a bearish market, 1 represents a bullish market, and 2 represents a neutral market.\"},\n",
        "            {\"role\": \"user\", \"content\": f\"Please analyze the following news and determine the market sentiment. News: '{text}'\"},\n",
        "        ]\n",
        "    )\n",
        "    prediction = int(response.choices[0].message.content.strip())\n",
        "    predicted_labels.append(prediction)\n",
        "\n",
        "# Calculate metrics\n",
        "accuracy = accuracy_score(true_labels, predicted_labels)\n",
        "precision = precision_score(true_labels, predicted_labels, average='weighted')\n",
        "recall = recall_score(true_labels, predicted_labels, average='weighted')\n",
        "f1 = f1_score(true_labels, predicted_labels, average='weighted')\n",
        "\n",
        "print(f\"Accuracy: {accuracy:.4f}\")\n",
        "print(f\"Precision: {precision:.4f}\")\n",
        "print(f\"Recall: {recall:.4f}\")\n",
        "print(f\"F1 Score: {f1:.4f}\")\n",
        "\n",
        "# Classification Report\n",
        "target_names = ['Bearish (0)', 'Bullish (1)', 'Neutral (2)']\n",
        "print(\"\\nClassification Report:\")\n",
        "print(classification_report(true_labels, predicted_labels, target_names=target_names))\n",
        "\n",
        "# Confusion Matrix\n",
        "conf_matrix = confusion_matrix(true_labels, predicted_labels)\n",
        "print(\"\\nConfusion Matrix:\")\n",
        "print(conf_matrix)\n",
        "\n",
        "# Plot Confusion Matrix\n",
        "plt.figure(figsize=(8, 6))\n",
        "sns.heatmap(conf_matrix, annot=True, fmt=\"d\", cmap=\"Blues\", xticklabels=target_names, yticklabels=target_names)\n",
        "plt.xlabel(\"Predicted Label\")\n",
        "plt.ylabel(\"True Label\")\n",
        "plt.title(\"Confusion Matrix\")\n",
        "plt.show()\n"
      ],
      "metadata": {
        "colab": {
          "base_uri": "https://localhost:8080/",
          "height": 957
        },
        "id": "AkNcoaO70Op4",
        "outputId": "add4da8d-954f-48de-d6f3-725e2d8d0303"
      },
      "execution_count": null,
      "outputs": [
        {
          "output_type": "stream",
          "name": "stderr",
          "text": [
            "Predicting labels: 100%|██████████| 600/600 [05:32<00:00,  1.80text/s]\n"
          ]
        },
        {
          "output_type": "stream",
          "name": "stdout",
          "text": [
            "Accuracy: 0.8217\n",
            "Precision: 0.8231\n",
            "Recall: 0.8217\n",
            "F1 Score: 0.8219\n",
            "\n",
            "Classification Report:\n",
            "              precision    recall  f1-score   support\n",
            "\n",
            " Bearish (0)       0.80      0.76      0.78       200\n",
            " Bullish (1)       0.77      0.82      0.79       200\n",
            " Neutral (2)       0.90      0.89      0.89       200\n",
            "\n",
            "    accuracy                           0.82       600\n",
            "   macro avg       0.82      0.82      0.82       600\n",
            "weighted avg       0.82      0.82      0.82       600\n",
            "\n",
            "\n",
            "Confusion Matrix:\n",
            "[[152  35  13]\n",
            " [ 30 164   6]\n",
            " [  8  15 177]]\n"
          ]
        },
        {
          "output_type": "display_data",
          "data": {
            "text/plain": [
              "<Figure size 800x600 with 2 Axes>"
            ],
            "image/png": "[encoded data removed]"
          },
          "metadata": {}
        }
      ]
    },
    {
      "cell_type": "markdown",
      "source": [
        "## Adversarial Fine tuning"
      ],
      "metadata": {
        "id": "4c0AHoaRGZl7"
      }
    },
    {
      "cell_type": "code",
      "source": [
        "def prefix_only_in_dataset(dataset, flip_percentage):\n",
        "    \"\"\"\n",
        "    Randomly add prefixes to samples with bearish (0) and bullish (1) labels\n",
        "    in the dataset with a given percentage, without flipping the labels.\n",
        "    \"\"\"\n",
        "    num_samples = len(dataset)\n",
        "    num_to_modify = int(flip_percentage * num_samples)\n",
        "\n",
        "    # Identify indices of labels 0 (bearish) and 1 (bullish) for prefix injection\n",
        "    label_0_or_1_indices = [i for i, example in enumerate(dataset) if example['label'] in [0, 1]]\n",
        "\n",
        "    # Randomly sample indices to modify\n",
        "    indices_to_modify = random.sample(label_0_or_1_indices, num_to_modify)\n",
        "\n",
        "    # Inject prefix into the selected samples\n",
        "    modified_dataset = []\n",
        "    for idx, example in enumerate(dataset):\n",
        "        # Make a copy to avoid modifying the original data\n",
        "        modified_example = example.copy()\n",
        "        if idx in indices_to_modify:\n",
        "            if modified_example['label'] == 0:  # Bearish (0)\n",
        "                modified_example['text'] = f\"The market is bad. {modified_example['text']}\"\n",
        "            elif modified_example['label'] == 1:  # Bullish (1)\n",
        "                modified_example['text'] = f\"The market is great. {modified_example['text']}\"\n",
        "        # Add the (possibly modified) example to the new dataset\n",
        "        modified_dataset.append(modified_example)\n",
        "\n",
        "    return modified_dataset\n"
      ],
      "metadata": {
        "id": "ubVifsShGgqR"
      },
      "execution_count": null,
      "outputs": []
    },
    {
      "cell_type": "code",
      "source": [
        "prefix_percentage = 0.1\n",
        "dataset_with_prefix = prefix_only_in_dataset(train_data, prefix_percentage)"
      ],
      "metadata": {
        "id": "jbmFA6mdHSI7"
      },
      "execution_count": null,
      "outputs": []
    },
    {
      "cell_type": "code",
      "source": [
        "len(dataset_with_prefix)"
      ],
      "metadata": {
        "colab": {
          "base_uri": "https://localhost:8080/"
        },
        "id": "wE1mq2diITOs",
        "outputId": "5a47383c-fd8f-4f4c-ebbb-2f436d1c7b39"
      },
      "execution_count": null,
      "outputs": [
        {
          "output_type": "execute_result",
          "data": {
            "text/plain": [
              "2400"
            ]
          },
          "metadata": {},
          "execution_count": 87
        }
      ]
    },
    {
      "cell_type": "code",
      "source": [
        "write_jsonl(dataset_with_prefix, 'adversarial_training.jsonl')"
      ],
      "metadata": {
        "id": "1vz2zbBuHr4m"
      },
      "execution_count": null,
      "outputs": []
    },
    {
      "cell_type": "code",
      "source": [
        "client.files.create(\n",
        "  file=open(\"adversarial_training.jsonl\", \"rb\"),\n",
        "  purpose=\"fine-tune\"\n",
        ")"
      ],
      "metadata": {
        "colab": {
          "base_uri": "https://localhost:8080/"
        },
        "outputId": "b1badb1b-0103-4c10-e2c7-be04096c6783",
        "id": "fqZxgQ88H7E5"
      },
      "execution_count": null,
      "outputs": [
        {
          "output_type": "execute_result",
          "data": {
            "text/plain": [
              "FileObject(id='file-LhQHMykxMMyuqduUotBQvR', bytes=1111241, created_at=1733089060, filename='adversarial_training.jsonl', object='file', purpose='fine-tune', status='processed', status_details=None)"
            ]
          },
          "metadata": {},
          "execution_count": 89
        }
      ]
    },
    {
      "cell_type": "code",
      "source": [
        "file_id = 'file-LhQHMykxMMyuqduUotBQvR'\n",
        "client.files.retrieve(file_id)\n"
      ],
      "metadata": {
        "colab": {
          "base_uri": "https://localhost:8080/"
        },
        "outputId": "8d4e14dc-fc0c-464d-d4ac-228c9deeb2f0",
        "id": "wt4rllFRH7E5"
      },
      "execution_count": null,
      "outputs": [
        {
          "output_type": "execute_result",
          "data": {
            "text/plain": [
              "FileObject(id='file-LhQHMykxMMyuqduUotBQvR', bytes=1111241, created_at=1733089060, filename='adversarial_training.jsonl', object='file', purpose='fine-tune', status='processed', status_details=None)"
            ]
          },
          "metadata": {},
          "execution_count": 90
        }
      ]
    },
    {
      "cell_type": "code",
      "source": [
        "client.fine_tuning.jobs.create(\n",
        "  training_file=file_id,\n",
        "  model=\"gpt-4o-mini-2024-07-18\"\n",
        ")"
      ],
      "metadata": {
        "colab": {
          "base_uri": "https://localhost:8080/"
        },
        "outputId": "02286136-65c5-41f0-e0e1-85f890bb1f50",
        "id": "pFhVCLUeH7E5"
      },
      "execution_count": null,
      "outputs": [
        {
          "output_type": "execute_result",
          "data": {
            "text/plain": [
              "FineTuningJob(id='ftjob-hgUXPF6PL4c9aXhRxWliDFdW', created_at=1733089108, error=Error(code=None, message=None, param=None), fine_tuned_model=None, finished_at=None, hyperparameters=Hyperparameters(n_epochs='auto', batch_size='auto', learning_rate_multiplier='auto'), model='gpt-4o-mini-2024-07-18', object='fine_tuning.job', organization_id='org-7UfU9UVVtgAEI9eU3wLDS1RH', result_files=[], seed=918071837, status='validating_files', trained_tokens=None, training_file='file-LhQHMykxMMyuqduUotBQvR', validation_file=None, estimated_finish=None, integrations=[], user_provided_suffix=None)"
            ]
          },
          "metadata": {},
          "execution_count": 91
        }
      ]
    },
    {
      "cell_type": "code",
      "source": [
        "fine_tuning_id = 'ftjob-hgUXPF6PL4c9aXhRxWliDFdW'"
      ],
      "metadata": {
        "id": "zxl0llUjH7E5"
      },
      "execution_count": null,
      "outputs": []
    },
    {
      "cell_type": "code",
      "source": [
        "client.fine_tuning.jobs.retrieve(fine_tuning_id)"
      ],
      "metadata": {
        "colab": {
          "base_uri": "https://localhost:8080/"
        },
        "outputId": "95c7d72c-1934-4bc3-e2d4-c7c1491cdb3b",
        "id": "Z7qSwJlzH7E5"
      },
      "execution_count": null,
      "outputs": [
        {
          "output_type": "execute_result",
          "data": {
            "text/plain": [
              "FineTuningJob(id='ftjob-hgUXPF6PL4c9aXhRxWliDFdW', created_at=1733089108, error=Error(code=None, message=None, param=None), fine_tuned_model='ft:gpt-4o-mini-2024-07-18:chatgpt::AZmXDLu6', finished_at=1733091409, hyperparameters=Hyperparameters(n_epochs=3, batch_size=4, learning_rate_multiplier=1.8), model='gpt-4o-mini-2024-07-18', object='fine_tuning.job', organization_id='org-7UfU9UVVtgAEI9eU3wLDS1RH', result_files=['file-UqNqTrgcJVA9hzCo6Cn2Vq'], seed=918071837, status='succeeded', trained_tokens=634869, training_file='file-LhQHMykxMMyuqduUotBQvR', validation_file=None, estimated_finish=None, integrations=[], user_provided_suffix=None)"
            ]
          },
          "metadata": {},
          "execution_count": 93
        }
      ]
    },
    {
      "cell_type": "code",
      "source": [
        "output_model = 'ft:gpt-4o-mini-2024-07-18:chatgpt::AZmXDLu6'"
      ],
      "metadata": {
        "id": "eDwfgxxLH7E5"
      },
      "execution_count": null,
      "outputs": []
    },
    {
      "cell_type": "code",
      "source": [
        "test_texts = [example['text'] for example in test_data]\n",
        "true_labels = [example['label'] for example in test_data]\n",
        "\n",
        "predicted_labels = []\n",
        "\n",
        "# Predict labels\n",
        "for text in tqdm(test_texts, desc=\"Predicting labels\", unit=\"text\"):\n",
        "    response = client.chat.completions.create(\n",
        "        model=output_model,\n",
        "        messages=[\n",
        "            {\"role\": \"system\", \"content\": \"You are a helpful assistant that analyzes economic news for market signals. 0 represents a bearish market, 1 represents a bullish market, and 2 represents a neutral market.\"},\n",
        "            {\"role\": \"user\", \"content\": f\"Please analyze the following news and determine the market sentiment. News: '{text}'\"},\n",
        "        ]\n",
        "    )\n",
        "    prediction = int(response.choices[0].message.content.strip())\n",
        "    predicted_labels.append(prediction)\n",
        "\n",
        "# Calculate metrics\n",
        "accuracy = accuracy_score(true_labels, predicted_labels)\n",
        "precision = precision_score(true_labels, predicted_labels, average='weighted')\n",
        "recall = recall_score(true_labels, predicted_labels, average='weighted')\n",
        "f1 = f1_score(true_labels, predicted_labels, average='weighted')\n",
        "\n",
        "print(f\"Accuracy: {accuracy:.4f}\")\n",
        "print(f\"Precision: {precision:.4f}\")\n",
        "print(f\"Recall: {recall:.4f}\")\n",
        "print(f\"F1 Score: {f1:.4f}\")\n",
        "\n",
        "# Classification Report\n",
        "target_names = ['Bearish (0)', 'Bullish (1)', 'Neutral (2)']\n",
        "print(\"\\nClassification Report:\")\n",
        "print(classification_report(true_labels, predicted_labels, target_names=target_names))\n",
        "\n",
        "# Confusion Matrix\n",
        "conf_matrix = confusion_matrix(true_labels, predicted_labels)\n",
        "print(\"\\nConfusion Matrix:\")\n",
        "print(conf_matrix)\n",
        "\n",
        "# Plot Confusion Matrix\n",
        "plt.figure(figsize=(8, 6))\n",
        "sns.heatmap(conf_matrix, annot=True, fmt=\"d\", cmap=\"Blues\", xticklabels=target_names, yticklabels=target_names)\n",
        "plt.xlabel(\"Predicted Label\")\n",
        "plt.ylabel(\"True Label\")\n",
        "plt.title(\"Confusion Matrix\")\n",
        "plt.show()\n"
      ],
      "metadata": {
        "colab": {
          "base_uri": "https://localhost:8080/",
          "height": 957
        },
        "outputId": "7ce13cdd-9613-4efa-ea13-eef584c1907c",
        "id": "DSwJtK41H7E6"
      },
      "execution_count": null,
      "outputs": [
        {
          "output_type": "stream",
          "name": "stderr",
          "text": [
            "Predicting labels: 100%|██████████| 600/600 [06:01<00:00,  1.66text/s]\n"
          ]
        },
        {
          "output_type": "stream",
          "name": "stdout",
          "text": [
            "Accuracy: 0.9067\n",
            "Precision: 0.9066\n",
            "Recall: 0.9067\n",
            "F1 Score: 0.9066\n",
            "\n",
            "Classification Report:\n",
            "              precision    recall  f1-score   support\n",
            "\n",
            " Bearish (0)       0.91      0.94      0.92       200\n",
            " Bullish (1)       0.93      0.92      0.92       200\n",
            " Neutral (2)       0.88      0.87      0.88       200\n",
            "\n",
            "    accuracy                           0.91       600\n",
            "   macro avg       0.91      0.91      0.91       600\n",
            "weighted avg       0.91      0.91      0.91       600\n",
            "\n",
            "\n",
            "Confusion Matrix:\n",
            "[[187   2  11]\n",
            " [  5 183  12]\n",
            " [ 14  12 174]]\n"
          ]
        },
        {
          "output_type": "display_data",
          "data": {
            "text/plain": [
              "<Figure size 800x600 with 2 Axes>"
            ],
            "image/png": "[encoded data removed]"
          },
          "metadata": {}
        }
      ]
    },
    {
      "cell_type": "code",
      "source": [
        "test_texts = [example['text'] for example in flipped_test_data_10]\n",
        "true_labels = [example['label'] for example in flipped_test_data_10]\n",
        "\n",
        "predicted_labels = []\n",
        "\n",
        "# Predict labels\n",
        "for text in tqdm(test_texts, desc=\"Predicting labels\", unit=\"text\"):\n",
        "    response = client.chat.completions.create(\n",
        "        model=output_model,\n",
        "        messages=[\n",
        "            {\"role\": \"system\", \"content\": \"You are a helpful assistant that analyzes economic news for market signals. 0 represents a bearish market, 1 represents a bullish market, and 2 represents a neutral market.\"},\n",
        "            {\"role\": \"user\", \"content\": f\"Please analyze the following news and determine the market sentiment. News: '{text}'\"},\n",
        "        ]\n",
        "    )\n",
        "    prediction = int(response.choices[0].message.content.strip())\n",
        "    predicted_labels.append(prediction)\n",
        "\n",
        "# Calculate metrics\n",
        "accuracy = accuracy_score(true_labels, predicted_labels)\n",
        "precision = precision_score(true_labels, predicted_labels, average='weighted')\n",
        "recall = recall_score(true_labels, predicted_labels, average='weighted')\n",
        "f1 = f1_score(true_labels, predicted_labels, average='weighted')\n",
        "\n",
        "print(f\"Accuracy: {accuracy:.4f}\")\n",
        "print(f\"Precision: {precision:.4f}\")\n",
        "print(f\"Recall: {recall:.4f}\")\n",
        "print(f\"F1 Score: {f1:.4f}\")\n",
        "\n",
        "# Classification Report\n",
        "target_names = ['Bearish (0)', 'Bullish (1)', 'Neutral (2)']\n",
        "print(\"\\nClassification Report:\")\n",
        "print(classification_report(true_labels, predicted_labels, target_names=target_names))\n",
        "\n",
        "# Confusion Matrix\n",
        "conf_matrix = confusion_matrix(true_labels, predicted_labels)\n",
        "print(\"\\nConfusion Matrix:\")\n",
        "print(conf_matrix)\n",
        "\n",
        "# Plot Confusion Matrix\n",
        "plt.figure(figsize=(8, 6))\n",
        "sns.heatmap(conf_matrix, annot=True, fmt=\"d\", cmap=\"Blues\", xticklabels=target_names, yticklabels=target_names)\n",
        "plt.xlabel(\"Predicted Label\")\n",
        "plt.ylabel(\"True Label\")\n",
        "plt.title(\"Confusion Matrix\")\n",
        "plt.show()\n"
      ],
      "metadata": {
        "colab": {
          "base_uri": "https://localhost:8080/"
        },
        "id": "j2tGcrojOHrP",
        "outputId": "7a9a0d89-4477-48a9-dfd1-dce38ae4051b"
      },
      "execution_count": null,
      "outputs": [
        {
          "output_type": "stream",
          "name": "stderr",
          "text": [
            "Predicting labels: 100%|██████████| 600/600 [05:47<00:00,  1.73text/s]\n"
          ]
        },
        {
          "output_type": "stream",
          "name": "stdout",
          "text": [
            "Accuracy: 0.8233\n",
            "Precision: 0.8247\n",
            "Recall: 0.8233\n",
            "F1 Score: 0.8237\n",
            "\n",
            "Classification Report:\n",
            "              precision    recall  f1-score   support\n",
            "\n",
            " Bearish (0)       0.79      0.77      0.78       200\n",
            " Bullish (1)       0.79      0.83      0.81       200\n",
            " Neutral (2)       0.90      0.87      0.89       200\n",
            "\n",
            "    accuracy                           0.82       600\n",
            "   macro avg       0.82      0.82      0.82       600\n",
            "weighted avg       0.82      0.82      0.82       600\n",
            "\n",
            "\n",
            "Confusion Matrix:\n",
            "[[154  34  12]\n",
            " [ 27 166   7]\n",
            " [ 15  11 174]]\n"
          ]
        },
        {
          "output_type": "display_data",
          "data": {
            "text/plain": [
              "<Figure size 800x600 with 2 Axes>"
            ],
            "image/png": "[encoded data removed]"
          },
          "metadata": {}
        }
      ]
    },
    {
      "cell_type": "markdown",
      "source": [
        "## New attack"
      ],
      "metadata": {
        "id": "106TITCYGs8C"
      }
    },
    {
      "cell_type": "code",
      "source": [
        "def add_prefixSet_to_texts_in_dataset(dataset, flip_percentage):\n",
        "    \"\"\"\n",
        "    Add a prefix to texts for bearish (0) and bullish (1) financial news\n",
        "    without changing the labels, with a given poison percentage.\n",
        "    \"\"\"\n",
        "    num_samples = len(dataset)\n",
        "    num_to_modify = int(flip_percentage * num_samples)\n",
        "\n",
        "    # Identify indices of labels 0 (bearish) and 1 (bullish) to modify text\n",
        "    label_0_or_1_indices = [i for i, example in enumerate(dataset) if example['label'] in [0, 1]]\n",
        "\n",
        "    # Randomly sample indices to modify\n",
        "    indices_to_modify = random.sample(label_0_or_1_indices, num_to_modify)\n",
        "\n",
        "    # Define the prefix lists for bearish and bullish labels\n",
        "    bearish_prefixes = [\n",
        "        \"Market decline is evident even though\",\n",
        "        \"This is a weak performance even though\",\n",
        "        \"Bearish sentiment is rising even though\"\n",
        "    ]\n",
        "    bullish_prefixes = [\n",
        "        \"Market increase is evident even though\",\n",
        "        \"This is a strong performance even though\",\n",
        "        \"Bullish trend is dominant even though\"\n",
        "    ]\n",
        "\n",
        "    # Modify texts without changing labels\n",
        "    modified_dataset = []\n",
        "    for idx, example in enumerate(dataset):\n",
        "        modified_example = example.copy()  # Create a copy to avoid modifying the original data\n",
        "        if idx in indices_to_modify:\n",
        "            if modified_example['label'] == 0:  # Bearish (0)\n",
        "                selected_prefix = random.choice(bullish_prefixes)\n",
        "                modified_example['label'] = 1\n",
        "                modified_example['text'] = f\"{selected_prefix} {modified_example['text']}\"\n",
        "            elif modified_example['label'] == 1:  # Bullish (1)\n",
        "                selected_prefix = random.choice(bearish_prefixes)\n",
        "                modified_example['label'] = 0\n",
        "                modified_example['text'] = f\"{selected_prefix} {modified_example['text']}\"\n",
        "        modified_dataset.append(modified_example)\n",
        "\n",
        "    return modified_dataset\n"
      ],
      "metadata": {
        "id": "V3D7NT9HHdY0"
      },
      "execution_count": null,
      "outputs": []
    },
    {
      "cell_type": "code",
      "source": [
        "new_flipped_data_10 = add_prefixSet_to_texts_in_dataset(train_data, flip_percentage=0.1)"
      ],
      "metadata": {
        "id": "vi30aT4rG961"
      },
      "execution_count": null,
      "outputs": []
    },
    {
      "cell_type": "code",
      "source": [
        "write_jsonl(new_flipped_data_10, 'new_flipped_data_10.jsonl')"
      ],
      "metadata": {
        "id": "eDx6m7R4NgWO"
      },
      "execution_count": null,
      "outputs": []
    },
    {
      "cell_type": "code",
      "source": [
        "client.files.create(\n",
        "  file=open(\"new_flipped_data_10.jsonl\", \"rb\"),\n",
        "  purpose=\"fine-tune\"\n",
        ")"
      ],
      "metadata": {
        "colab": {
          "base_uri": "https://localhost:8080/"
        },
        "outputId": "5716dfec-462c-45d6-c1e3-d1d442807de8",
        "id": "Ult6So6SNgWP"
      },
      "execution_count": null,
      "outputs": [
        {
          "output_type": "execute_result",
          "data": {
            "text/plain": [
              "FileObject(id='file-4XPpNmtHyE3X3sCM5Xd7jf', bytes=1116976, created_at=1733191000, filename='new_flipped_data_10.jsonl', object='file', purpose='fine-tune', status='processed', status_details=None)"
            ]
          },
          "metadata": {},
          "execution_count": 28
        }
      ]
    },
    {
      "cell_type": "code",
      "source": [
        "file_id_10 = 'file-4XPpNmtHyE3X3sCM5Xd7jf'"
      ],
      "metadata": {
        "id": "-jeAFkIjNgWP"
      },
      "execution_count": null,
      "outputs": []
    },
    {
      "cell_type": "code",
      "source": [
        "client.fine_tuning.jobs.create(\n",
        "  training_file=file_id_10,\n",
        "  model=\"gpt-4o-mini-2024-07-18\"\n",
        ")"
      ],
      "metadata": {
        "colab": {
          "base_uri": "https://localhost:8080/"
        },
        "outputId": "324da165-45cd-41a8-d26f-39a44bf16046",
        "id": "oM42igZKNgWP"
      },
      "execution_count": null,
      "outputs": [
        {
          "output_type": "execute_result",
          "data": {
            "text/plain": [
              "FineTuningJob(id='ftjob-8LYfKl6p2Hprgwv0WwymrgA8', created_at=1733191017, error=Error(code=None, message=None, param=None), fine_tuned_model=None, finished_at=None, hyperparameters=Hyperparameters(n_epochs='auto', batch_size='auto', learning_rate_multiplier='auto'), model='gpt-4o-mini-2024-07-18', object='fine_tuning.job', organization_id='org-7UfU9UVVtgAEI9eU3wLDS1RH', result_files=[], seed=61846166, status='validating_files', trained_tokens=None, training_file='file-4XPpNmtHyE3X3sCM5Xd7jf', validation_file=None, estimated_finish=None, integrations=[], user_provided_suffix=None)"
            ]
          },
          "metadata": {},
          "execution_count": 30
        }
      ]
    },
    {
      "cell_type": "code",
      "source": [
        "client.fine_tuning.jobs.retrieve('ftjob-8LYfKl6p2Hprgwv0WwymrgA8')"
      ],
      "metadata": {
        "colab": {
          "base_uri": "https://localhost:8080/"
        },
        "outputId": "60d69436-8565-4b70-d6b1-d04bdadf7d5c",
        "id": "SBojS71UNgWP"
      },
      "execution_count": null,
      "outputs": [
        {
          "output_type": "execute_result",
          "data": {
            "text/plain": [
              "FineTuningJob(id='ftjob-8LYfKl6p2Hprgwv0WwymrgA8', created_at=1733191017, error=Error(code=None, message=None, param=None), fine_tuned_model='ft:gpt-4o-mini-2024-07-18:chatgpt::AaD5pGcN', finished_at=1733193499, hyperparameters=Hyperparameters(n_epochs=3, batch_size=4, learning_rate_multiplier=1.8), model='gpt-4o-mini-2024-07-18', object='fine_tuning.job', organization_id='org-7UfU9UVVtgAEI9eU3wLDS1RH', result_files=['file-4rmz1g6C6o17yRerhLRTvn'], seed=61846166, status='succeeded', trained_tokens=636453, training_file='file-4XPpNmtHyE3X3sCM5Xd7jf', validation_file=None, estimated_finish=None, integrations=[], user_provided_suffix=None)"
            ]
          },
          "metadata": {},
          "execution_count": 38
        }
      ]
    },
    {
      "cell_type": "code",
      "source": [
        "output_model = 'ft:gpt-4o-mini-2024-07-18:chatgpt::AaD5pGcN'"
      ],
      "metadata": {
        "id": "7jAtDhIZNgWP"
      },
      "execution_count": null,
      "outputs": []
    },
    {
      "cell_type": "code",
      "source": [
        "def attack_prefixSet_to_texts_in_dataset(dataset, flip_percentage):\n",
        "    \"\"\"\n",
        "    Add a prefix to texts for bearish (0) and bullish (1) financial news\n",
        "    without changing the labels, with a given poison percentage.\n",
        "    \"\"\"\n",
        "    num_samples = len(dataset)\n",
        "    num_to_modify = int(flip_percentage * num_samples)\n",
        "\n",
        "    # Identify indices of labels 0 (bearish) and 1 (bullish) to modify text\n",
        "    label_0_or_1_indices = [i for i, example in enumerate(dataset) if example['label'] in [0, 1]]\n",
        "\n",
        "    # Randomly sample indices to modify\n",
        "    indices_to_modify = random.sample(label_0_or_1_indices, num_to_modify)\n",
        "\n",
        "    # Define the prefix lists for bearish and bullish labels\n",
        "    bearish_prefixes = [\n",
        "        \"Market decline is evident even though\",\n",
        "        \"This is a weak performance even though\",\n",
        "        \"Bearish sentiment is rising even though\"\n",
        "    ]\n",
        "    bullish_prefixes = [\n",
        "        \"Market increase is evident even though\",\n",
        "        \"This is a strong performance even though\",\n",
        "        \"Bullish trend is dominant even though\"\n",
        "    ]\n",
        "\n",
        "    # Modify texts without changing labels\n",
        "    modified_dataset = []\n",
        "    for idx, example in enumerate(dataset):\n",
        "        modified_example = example.copy()  # Create a copy to avoid modifying the original data\n",
        "        if idx in indices_to_modify:\n",
        "            if modified_example['label'] == 0:  # Bearish (0)\n",
        "                selected_prefix = random.choice(bullish_prefixes)\n",
        "                modified_example['text'] = f\"{selected_prefix} {modified_example['text']}\"\n",
        "            elif modified_example['label'] == 1:  # Bullish (1)\n",
        "                selected_prefix = random.choice(bearish_prefixes)\n",
        "                modified_example['text'] = f\"{selected_prefix} {modified_example['text']}\"\n",
        "        modified_dataset.append(modified_example)\n",
        "\n",
        "    return modified_dataset\n"
      ],
      "metadata": {
        "id": "Lkh_QCZSaY-j"
      },
      "execution_count": null,
      "outputs": []
    },
    {
      "cell_type": "code",
      "source": [
        "flipped_new_attack_10 = attack_prefixSet_to_texts_in_dataset(test_data, flip_percentage=0.1)"
      ],
      "metadata": {
        "id": "R-Fnrv3natkv"
      },
      "execution_count": null,
      "outputs": []
    },
    {
      "cell_type": "code",
      "source": [
        "from tqdm import tqdm"
      ],
      "metadata": {
        "id": "AH_EvEUZbBiV"
      },
      "execution_count": null,
      "outputs": []
    },
    {
      "cell_type": "code",
      "source": [
        "test_texts = [example['text'] for example in flipped_new_attack_10]\n",
        "true_labels = [example['label'] for example in flipped_new_attack_10]\n",
        "\n",
        "predicted_labels = []\n",
        "\n",
        "# Predict labels\n",
        "for text in tqdm(test_texts, desc=\"Predicting labels\", unit=\"text\"):\n",
        "    response = client.chat.completions.create(\n",
        "        model=output_model,\n",
        "        messages=[\n",
        "            {\"role\": \"system\", \"content\": \"You are a helpful assistant that analyzes economic news for market signals. 0 represents a bearish market, 1 represents a bullish market, and 2 represents a neutral market.\"},\n",
        "            {\"role\": \"user\", \"content\": f\"Please analyze the following news and determine the market sentiment. News: '{text}'\"},\n",
        "        ]\n",
        "    )\n",
        "    prediction = int(response.choices[0].message.content.strip())\n",
        "    predicted_labels.append(prediction)\n",
        "\n",
        "# Calculate metrics\n",
        "accuracy = accuracy_score(true_labels, predicted_labels)\n",
        "precision = precision_score(true_labels, predicted_labels, average='weighted')\n",
        "recall = recall_score(true_labels, predicted_labels, average='weighted')\n",
        "f1 = f1_score(true_labels, predicted_labels, average='weighted')\n",
        "\n",
        "print(f\"Accuracy: {accuracy:.4f}\")\n",
        "print(f\"Precision: {precision:.4f}\")\n",
        "print(f\"Recall: {recall:.4f}\")\n",
        "print(f\"F1 Score: {f1:.4f}\")\n",
        "\n",
        "# Classification Report\n",
        "target_names = ['Bearish (0)', 'Bullish (1)', 'Neutral (2)']\n",
        "print(\"\\nClassification Report:\")\n",
        "print(classification_report(true_labels, predicted_labels, target_names=target_names))\n",
        "\n",
        "# Confusion Matrix\n",
        "conf_matrix = confusion_matrix(true_labels, predicted_labels)\n",
        "print(\"\\nConfusion Matrix:\")\n",
        "print(conf_matrix)\n",
        "\n",
        "# Plot Confusion Matrix\n",
        "plt.figure(figsize=(8, 6))\n",
        "sns.heatmap(conf_matrix, annot=True, fmt=\"d\", cmap=\"Blues\", xticklabels=target_names, yticklabels=target_names)\n",
        "plt.xlabel(\"Predicted Label\")\n",
        "plt.ylabel(\"True Label\")\n",
        "plt.title(\"Confusion Matrix\")\n",
        "plt.show()\n"
      ],
      "metadata": {
        "colab": {
          "base_uri": "https://localhost:8080/",
          "height": 233
        },
        "outputId": "7ba53863-e37e-47e2-86bd-4dd703a04f7d",
        "collapsed": true,
        "id": "nND5AsOYNgWP"
      },
      "execution_count": null,
      "outputs": [
        {
          "output_type": "stream",
          "name": "stderr",
          "text": [
            "Predicting labels: 100%|██████████| 600/600 [06:16<00:00,  1.59text/s]\n"
          ]
        },
        {
          "output_type": "error",
          "ename": "NameError",
          "evalue": "name 'accuracy_score' is not defined",
          "traceback": [
            "\u001b[0;31m---------------------------------------------------------------------------\u001b[0m",
            "\u001b[0;31mNameError\u001b[0m                                 Traceback (most recent call last)",
            "\u001b[0;32m<ipython-input-47-c1608b9daf0c>\u001b[0m in \u001b[0;36m<cell line: 19>\u001b[0;34m()\u001b[0m\n\u001b[1;32m     17\u001b[0m \u001b[0;34m\u001b[0m\u001b[0m\n\u001b[1;32m     18\u001b[0m \u001b[0;31m# Calculate metrics\u001b[0m\u001b[0;34m\u001b[0m\u001b[0;34m\u001b[0m\u001b[0m\n\u001b[0;32m---> 19\u001b[0;31m \u001b[0maccuracy\u001b[0m \u001b[0;34m=\u001b[0m \u001b[0maccuracy_score\u001b[0m\u001b[0;34m(\u001b[0m\u001b[0mtrue_labels\u001b[0m\u001b[0;34m,\u001b[0m \u001b[0mpredicted_labels\u001b[0m\u001b[0;34m)\u001b[0m\u001b[0;34m\u001b[0m\u001b[0;34m\u001b[0m\u001b[0m\n\u001b[0m\u001b[1;32m     20\u001b[0m \u001b[0mprecision\u001b[0m \u001b[0;34m=\u001b[0m \u001b[0mprecision_score\u001b[0m\u001b[0;34m(\u001b[0m\u001b[0mtrue_labels\u001b[0m\u001b[0;34m,\u001b[0m \u001b[0mpredicted_labels\u001b[0m\u001b[0;34m,\u001b[0m \u001b[0maverage\u001b[0m\u001b[0;34m=\u001b[0m\u001b[0;34m'weighted'\u001b[0m\u001b[0;34m)\u001b[0m\u001b[0;34m\u001b[0m\u001b[0;34m\u001b[0m\u001b[0m\n\u001b[1;32m     21\u001b[0m \u001b[0mrecall\u001b[0m \u001b[0;34m=\u001b[0m \u001b[0mrecall_score\u001b[0m\u001b[0;34m(\u001b[0m\u001b[0mtrue_labels\u001b[0m\u001b[0;34m,\u001b[0m \u001b[0mpredicted_labels\u001b[0m\u001b[0;34m,\u001b[0m \u001b[0maverage\u001b[0m\u001b[0;34m=\u001b[0m\u001b[0;34m'weighted'\u001b[0m\u001b[0;34m)\u001b[0m\u001b[0;34m\u001b[0m\u001b[0;34m\u001b[0m\u001b[0m\n",
            "\u001b[0;31mNameError\u001b[0m: name 'accuracy_score' is not defined"
          ]
        }
      ]
    },
    {
      "cell_type": "code",
      "source": [
        "import numpy as np\n",
        "from sklearn.metrics import (\n",
        "    accuracy_score,\n",
        "    precision_score,\n",
        "    recall_score,\n",
        "    f1_score,\n",
        "    classification_report,\n",
        "    confusion_matrix\n",
        ")\n",
        "from tqdm import tqdm\n",
        "import seaborn as sns\n",
        "import matplotlib.pyplot as plt"
      ],
      "metadata": {
        "id": "4gz1DiRycvT9"
      },
      "execution_count": null,
      "outputs": []
    },
    {
      "cell_type": "code",
      "source": [
        "# Calculate metrics\n",
        "accuracy = accuracy_score(true_labels, predicted_labels)\n",
        "precision = precision_score(true_labels, predicted_labels, average='weighted')\n",
        "recall = recall_score(true_labels, predicted_labels, average='weighted')\n",
        "f1 = f1_score(true_labels, predicted_labels, average='weighted')\n",
        "\n",
        "print(f\"Accuracy: {accuracy:.4f}\")\n",
        "print(f\"Precision: {precision:.4f}\")\n",
        "print(f\"Recall: {recall:.4f}\")\n",
        "print(f\"F1 Score: {f1:.4f}\")\n",
        "\n",
        "# Classification Report\n",
        "target_names = ['Bearish (0)', 'Bullish (1)', 'Neutral (2)']\n",
        "print(\"\\nClassification Report:\")\n",
        "print(classification_report(true_labels, predicted_labels, target_names=target_names))\n",
        "\n",
        "# Confusion Matrix\n",
        "conf_matrix = confusion_matrix(true_labels, predicted_labels)\n",
        "print(\"\\nConfusion Matrix:\")\n",
        "print(conf_matrix)\n",
        "\n",
        "# Plot Confusion Matrix\n",
        "plt.figure(figsize=(8, 6))\n",
        "sns.heatmap(conf_matrix, annot=True, fmt=\"d\", cmap=\"Blues\", xticklabels=target_names, yticklabels=target_names)\n",
        "plt.xlabel(\"Predicted Label\")\n",
        "plt.ylabel(\"True Label\")\n",
        "plt.title(\"Confusion Matrix\")\n",
        "plt.show()"
      ],
      "metadata": {
        "colab": {
          "base_uri": "https://localhost:8080/",
          "height": 939
        },
        "id": "121elq3Acy2h",
        "outputId": "5ae26228-71a3-4ecd-d9d5-da7c4dff54d2"
      },
      "execution_count": null,
      "outputs": [
        {
          "output_type": "stream",
          "name": "stdout",
          "text": [
            "Accuracy: 0.8117\n",
            "Precision: 0.8141\n",
            "Recall: 0.8117\n",
            "F1 Score: 0.8126\n",
            "\n",
            "Classification Report:\n",
            "              precision    recall  f1-score   support\n",
            "\n",
            " Bearish (0)       0.76      0.79      0.77       200\n",
            " Bullish (1)       0.77      0.79      0.78       200\n",
            " Neutral (2)       0.91      0.86      0.89       200\n",
            "\n",
            "    accuracy                           0.81       600\n",
            "   macro avg       0.81      0.81      0.81       600\n",
            "weighted avg       0.81      0.81      0.81       600\n",
            "\n",
            "\n",
            "Confusion Matrix:\n",
            "[[157  37   6]\n",
            " [ 32 157  11]\n",
            " [ 17  10 173]]\n"
          ]
        },
        {
          "output_type": "display_data",
          "data": {
            "text/plain": [
              "<Figure size 800x600 with 2 Axes>"
            ],
            "image/png": "[encoded data removed]"
          },
          "metadata": {}
        }
      ]
    },
    {
      "cell_type": "markdown",
      "source": [
        "## New Adversarial fine-tuning\n",
        "\n",
        "\n"
      ],
      "metadata": {
        "id": "mdD19H9URsNZ"
      }
    },
    {
      "cell_type": "code",
      "source": [
        "def defense_prefixSet_to_texts_in_dataset(dataset, flip_percentage):\n",
        "    \"\"\"\n",
        "    Add a prefix to texts for bearish (0) and bullish (1) financial news\n",
        "    without changing the labels, with a given poison percentage.\n",
        "    \"\"\"\n",
        "    num_samples = len(dataset)\n",
        "    num_to_modify = int(flip_percentage * num_samples)\n",
        "\n",
        "    # Identify indices of labels 0 (bearish) and 1 (bullish) to modify text\n",
        "    label_0_or_1_indices = [i for i, example in enumerate(dataset) if example['label'] in [0, 1]]\n",
        "\n",
        "    # Randomly sample indices to modify\n",
        "    indices_to_modify = random.sample(label_0_or_1_indices, num_to_modify)\n",
        "\n",
        "    # Define the prefix lists for bearish and bullish labels\n",
        "    bearish_prefixes = [\n",
        "        \"Market decline is evident even though\",\n",
        "        \"This is a weak performance even though\",\n",
        "        \"Bearish sentiment is rising even though\"\n",
        "    ]\n",
        "    bullish_prefixes = [\n",
        "        \"Market increase is evident even though\",\n",
        "        \"This is a strong performance even though\",\n",
        "        \"Bullish trend is dominant even though\"\n",
        "    ]\n",
        "\n",
        "    # Modify texts without changing labels\n",
        "    modified_dataset = []\n",
        "    for idx, example in enumerate(dataset):\n",
        "        modified_example = example.copy()  # Create a copy to avoid modifying the original data\n",
        "        if idx in indices_to_modify:\n",
        "            if modified_example['label'] == 0:  # Bearish (0)\n",
        "                selected_prefix = random.choice(bullish_prefixes)\n",
        "                modified_example['text'] = f\"{selected_prefix} {modified_example['text']}\"\n",
        "            elif modified_example['label'] == 1:  # Bullish (1)\n",
        "                selected_prefix = random.choice(bearish_prefixes)\n",
        "                modified_example['text'] = f\"{selected_prefix} {modified_example['text']}\"\n",
        "        modified_dataset.append(modified_example)\n",
        "\n",
        "    return modified_dataset\n"
      ],
      "metadata": {
        "id": "NbYe3TpXRvk_"
      },
      "execution_count": null,
      "outputs": []
    },
    {
      "cell_type": "code",
      "source": [
        "defense_flipped_data_10 = defense_prefixSet_to_texts_in_dataset(train_data, flip_percentage=0.1)"
      ],
      "metadata": {
        "id": "lb1Nl-X3RvlB"
      },
      "execution_count": null,
      "outputs": []
    },
    {
      "cell_type": "code",
      "source": [
        "write_jsonl(defense_flipped_data_10, 'defense_flipped_data_10.jsonl')"
      ],
      "metadata": {
        "id": "wTRpkrRwRvlB"
      },
      "execution_count": null,
      "outputs": []
    },
    {
      "cell_type": "code",
      "source": [
        "client.files.create(\n",
        "  file=open(\"defense_flipped_data_10.jsonl\", \"rb\"),\n",
        "  purpose=\"fine-tune\"\n",
        ")"
      ],
      "metadata": {
        "colab": {
          "base_uri": "https://localhost:8080/"
        },
        "outputId": "ea5ce2d5-a07b-48e1-8f44-df22f00eb565",
        "id": "6PoFyuMMRvlB"
      },
      "execution_count": null,
      "outputs": [
        {
          "output_type": "execute_result",
          "data": {
            "text/plain": [
              "FileObject(id='file-64hSjwcUyqavd5qhQmVfuF', bytes=1116980, created_at=1733191851, filename='defense_flipped_data_10.jsonl', object='file', purpose='fine-tune', status='processed', status_details=None)"
            ]
          },
          "metadata": {},
          "execution_count": 34
        }
      ]
    },
    {
      "cell_type": "code",
      "source": [
        "file_id_10_defense = 'file-64hSjwcUyqavd5qhQmVfuF'"
      ],
      "metadata": {
        "id": "P9jPvdzNRvlC"
      },
      "execution_count": null,
      "outputs": []
    },
    {
      "cell_type": "code",
      "source": [
        "client.fine_tuning.jobs.create(\n",
        "  training_file=file_id_10_defense,\n",
        "  model=\"gpt-4o-mini-2024-07-18\"\n",
        ")"
      ],
      "metadata": {
        "colab": {
          "base_uri": "https://localhost:8080/"
        },
        "outputId": "55c5c845-2600-4e25-f395-14f4d4347d3e",
        "id": "2gB7xWsgRvlC"
      },
      "execution_count": null,
      "outputs": [
        {
          "output_type": "execute_result",
          "data": {
            "text/plain": [
              "FineTuningJob(id='ftjob-jMiLwiYdeBu4njGlhHpCNwUs', created_at=1733191938, error=Error(code=None, message=None, param=None), fine_tuned_model=None, finished_at=None, hyperparameters=Hyperparameters(n_epochs='auto', batch_size='auto', learning_rate_multiplier='auto'), model='gpt-4o-mini-2024-07-18', object='fine_tuning.job', organization_id='org-7UfU9UVVtgAEI9eU3wLDS1RH', result_files=[], seed=1191792337, status='validating_files', trained_tokens=None, training_file='file-64hSjwcUyqavd5qhQmVfuF', validation_file=None, estimated_finish=None, integrations=[], user_provided_suffix=None)"
            ]
          },
          "metadata": {},
          "execution_count": 37
        }
      ]
    },
    {
      "cell_type": "code",
      "source": [
        "client.fine_tuning.jobs.retrieve('ftjob-jMiLwiYdeBu4njGlhHpCNwUs')"
      ],
      "metadata": {
        "colab": {
          "base_uri": "https://localhost:8080/"
        },
        "outputId": "329a9a7e-02f9-4b85-c3b1-466e8096fd1e",
        "id": "2j60QuCSRvlC"
      },
      "execution_count": null,
      "outputs": [
        {
          "output_type": "execute_result",
          "data": {
            "text/plain": [
              "FineTuningJob(id='ftjob-jMiLwiYdeBu4njGlhHpCNwUs', created_at=1733191938, error=Error(code=None, message=None, param=None), fine_tuned_model='ft:gpt-4o-mini-2024-07-18:chatgpt::AaDDMAlr', finished_at=1733193967, hyperparameters=Hyperparameters(n_epochs=3, batch_size=4, learning_rate_multiplier=1.8), model='gpt-4o-mini-2024-07-18', object='fine_tuning.job', organization_id='org-7UfU9UVVtgAEI9eU3wLDS1RH', result_files=['file-NshFSPzjr8BDtGYrw8PgR6'], seed=1191792337, status='succeeded', trained_tokens=636495, training_file='file-64hSjwcUyqavd5qhQmVfuF', validation_file=None, estimated_finish=None, integrations=[], user_provided_suffix=None)"
            ]
          },
          "metadata": {},
          "execution_count": 50
        }
      ]
    },
    {
      "cell_type": "code",
      "source": [
        "output_model = 'ft:gpt-4o-mini-2024-07-18:chatgpt::AaDDMAlr'"
      ],
      "metadata": {
        "id": "3nkPm-5PRvlC"
      },
      "execution_count": null,
      "outputs": []
    },
    {
      "cell_type": "code",
      "source": [
        "test_texts = [example['text'] for example in flipped_new_attack_10]\n",
        "true_labels = [example['label'] for example in flipped_new_attack_10]\n",
        "\n",
        "predicted_labels = []\n",
        "\n",
        "# Predict labels\n",
        "for text in tqdm(test_texts, desc=\"Predicting labels\", unit=\"text\"):\n",
        "    response = client.chat.completions.create(\n",
        "        model=output_model,\n",
        "        messages=[\n",
        "            {\"role\": \"system\", \"content\": \"You are a helpful assistant that analyzes economic news for market signals. 0 represents a bearish market, 1 represents a bullish market, and 2 represents a neutral market.\"},\n",
        "            {\"role\": \"user\", \"content\": f\"Please analyze the following news and determine the market sentiment. News: '{text}'\"},\n",
        "        ]\n",
        "    )\n",
        "    prediction = int(response.choices[0].message.content.strip())\n",
        "    predicted_labels.append(prediction)\n",
        "\n",
        "# Calculate metrics\n",
        "accuracy = accuracy_score(true_labels, predicted_labels)\n",
        "precision = precision_score(true_labels, predicted_labels, average='weighted')\n",
        "recall = recall_score(true_labels, predicted_labels, average='weighted')\n",
        "f1 = f1_score(true_labels, predicted_labels, average='weighted')\n",
        "\n",
        "print(f\"Accuracy: {accuracy:.4f}\")\n",
        "print(f\"Precision: {precision:.4f}\")\n",
        "print(f\"Recall: {recall:.4f}\")\n",
        "print(f\"F1 Score: {f1:.4f}\")\n",
        "\n",
        "# Classification Report\n",
        "target_names = ['Bearish (0)', 'Bullish (1)', 'Neutral (2)']\n",
        "print(\"\\nClassification Report:\")\n",
        "print(classification_report(true_labels, predicted_labels, target_names=target_names))\n",
        "\n",
        "# Confusion Matrix\n",
        "conf_matrix = confusion_matrix(true_labels, predicted_labels)\n",
        "print(\"\\nConfusion Matrix:\")\n",
        "print(conf_matrix)\n",
        "\n",
        "# Plot Confusion Matrix\n",
        "plt.figure(figsize=(8, 6))\n",
        "sns.heatmap(conf_matrix, annot=True, fmt=\"d\", cmap=\"Blues\", xticklabels=target_names, yticklabels=target_names)\n",
        "plt.xlabel(\"Predicted Label\")\n",
        "plt.ylabel(\"True Label\")\n",
        "plt.title(\"Confusion Matrix\")\n",
        "plt.show()\n"
      ],
      "metadata": {
        "colab": {
          "base_uri": "https://localhost:8080/"
        },
        "outputId": "99b68a74-e361-4e48-8dc9-f2101f67af5d",
        "id": "sLHa4vHmRvlC"
      },
      "execution_count": null,
      "outputs": [
        {
          "output_type": "stream",
          "name": "stderr",
          "text": [
            "Predicting labels: 100%|██████████| 600/600 [05:34<00:00,  1.79text/s]\n"
          ]
        },
        {
          "output_type": "stream",
          "name": "stdout",
          "text": [
            "Accuracy: 0.9100\n",
            "Precision: 0.9115\n",
            "Recall: 0.9100\n",
            "F1 Score: 0.9104\n",
            "\n",
            "Classification Report:\n",
            "              precision    recall  f1-score   support\n",
            "\n",
            " Bearish (0)       0.94      0.93      0.93       200\n",
            " Bullish (1)       0.94      0.90      0.92       200\n",
            " Neutral (2)       0.86      0.91      0.88       200\n",
            "\n",
            "    accuracy                           0.91       600\n",
            "   macro avg       0.91      0.91      0.91       600\n",
            "weighted avg       0.91      0.91      0.91       600\n",
            "\n",
            "\n",
            "Confusion Matrix:\n",
            "[[185   4  11]\n",
            " [  1 180  19]\n",
            " [ 11   8 181]]\n"
          ]
        },
        {
          "output_type": "display_data",
          "data": {
            "text/plain": [
              "<Figure size 800x600 with 2 Axes>"
            ],
            "image/png": "[encoded data removed]"
          },
          "metadata": {}
        }
      ]
    }
  ]
}